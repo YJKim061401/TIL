{
 "cells": [
  {
   "cell_type": "markdown",
   "id": "3f50b3ab",
   "metadata": {},
   "source": [
    "# 신경망을 위한 데이터 표현"
   ]
  },
  {
   "cell_type": "markdown",
   "id": "2bffc4c8",
   "metadata": {},
   "source": [
    "## 텐서 (tensor)\n",
    "- 다차원 넘파이 배열\n",
    "- 최근의 모든 머신러닝 시스템은 일반적으로 텐서를 기본 데이터 구조로 사용\n",
    "\n",
    "1. 스칼라\n",
    "2. 벡터\n",
    "3. 행렬\n",
    "4. 3D텐서"
   ]
  },
  {
   "cell_type": "markdown",
   "id": "000ed62b",
   "metadata": {},
   "source": [
    "## 스칼라 (0D, 0차원 텐서)\n",
    "- 하나의 숫자만 담고 있는 텐서\n",
    "- 넘파이에서는 float32나 float64타입의 숫자가 스칼라 텐서에 해당\n",
    "- ndim 속성을 사용하면 넘파이 배열의 축 개수를 확인할 수 있음\n",
    "- 스칼라 텐서의 축 개수 0임 (ndim:0)"
   ]
  },
  {
   "cell_type": "code",
   "execution_count": 3,
   "id": "7d167d4b",
   "metadata": {},
   "outputs": [
    {
     "data": {
      "text/plain": [
       "array(12)"
      ]
     },
     "execution_count": 3,
     "metadata": {},
     "output_type": "execute_result"
    }
   ],
   "source": [
    "# 스칼라 (0차원텐서)\n",
    "import numpy as np\n",
    "s = np.array(12)\n",
    "s"
   ]
  },
  {
   "cell_type": "code",
   "execution_count": 6,
   "id": "4da98873",
   "metadata": {},
   "outputs": [
    {
     "data": {
      "text/plain": [
       "0"
      ]
     },
     "execution_count": 6,
     "metadata": {},
     "output_type": "execute_result"
    }
   ],
   "source": [
    "# 스칼라의 축 개수는 0개\n",
    "s.ndim"
   ]
  },
  {
   "cell_type": "markdown",
   "id": "f992db59",
   "metadata": {},
   "source": [
    "## 벡터 (1D, 1차원 텐서)\n",
    "- 숫자의 배열\n",
    "- 하나의 축"
   ]
  },
  {
   "cell_type": "code",
   "execution_count": 7,
   "id": "cc317ce1",
   "metadata": {},
   "outputs": [
    {
     "data": {
      "text/plain": [
       "array([1, 2, 3, 4, 5])"
      ]
     },
     "execution_count": 7,
     "metadata": {},
     "output_type": "execute_result"
    }
   ],
   "source": [
    "# 벡터 (1차원텐서)\n",
    "v = np.array([1,2,3,4,5])\n",
    "v"
   ]
  },
  {
   "cell_type": "code",
   "execution_count": 8,
   "id": "340ab1b8",
   "metadata": {},
   "outputs": [
    {
     "data": {
      "text/plain": [
       "1"
      ]
     },
     "execution_count": 8,
     "metadata": {},
     "output_type": "execute_result"
    }
   ],
   "source": [
    "# 벡터의 축 개수는 1개 \n",
    "v.ndim"
   ]
  },
  {
   "cell_type": "markdown",
   "id": "5c5871bb",
   "metadata": {},
   "source": [
    "#### 5차원 벡터 vs 5차원 텐서 \n",
    "* 5차원 벡터 : array([1, 2, 3, 4, 5])\n",
    "    * 5개의 원소를 가지고 있으므로 5차원 벡터임\n",
    "    * 하나의 축을 따라 5개의 차원을 가진 것 \n",
    "* 5차원 텐서\n",
    "    * 5개의 축을 가진 것\n",
    "    * 텐서의 축을 따라 여러개의 차원을 가진 벡터가 놓일 수 있음"
   ]
  },
  {
   "cell_type": "markdown",
   "id": "832301c1",
   "metadata": {},
   "source": [
    "## 행렬 (2D, 2차원 텐서)\n",
    "* 벡터의 배열이 행렬(matrix) 또는 2D 텐서임\n",
    "* 행렬에는 2개의 축이 있음\n",
    "* 보통 행 (Row)과 열 (column)이라고 함\n",
    "* 첫번째 축에 놓여 있는 원소를 행이라고 부르고\n",
    "* 두번째 축에 놓여 있는 원소를 열이라고 부름"
   ]
  },
  {
   "cell_type": "code",
   "execution_count": 14,
   "id": "94918175",
   "metadata": {},
   "outputs": [
    {
     "data": {
      "text/plain": [
       "array([[ 1,  2,  3,  4],\n",
       "       [ 5,  6,  7,  8],\n",
       "       [ 9, 10, 11, 12]])"
      ]
     },
     "execution_count": 14,
     "metadata": {},
     "output_type": "execute_result"
    }
   ],
   "source": [
    "# 행렬 (2D텐서)\n",
    "m = np.array([[1,2,3,4],\n",
    "              [5,6,7,8],\n",
    "              [9,10,11,12]])\n",
    "m"
   ]
  },
  {
   "cell_type": "code",
   "execution_count": 15,
   "id": "454080c0",
   "metadata": {},
   "outputs": [
    {
     "data": {
      "text/plain": [
       "2"
      ]
     },
     "execution_count": 15,
     "metadata": {},
     "output_type": "execute_result"
    }
   ],
   "source": [
    "# 행렬의 축 개수는 2개 \n",
    "m.ndim"
   ]
  },
  {
   "cell_type": "markdown",
   "id": "8e22cdd3",
   "metadata": {},
   "source": [
    "### 3D와 고차원 텐서\n",
    "* 2D 행렬들을 하나의 새로운 배열로 합치면 숫자가 채워진 직육면체 형태로 해석될 수 있는 3D 텐서가 만들어짐\n",
    "* 3D텐서들을 하나의 배열로 합치면 4D 텐서를 만드는 식으로 이어짐\n",
    "* 딥러닝에서는 보통 0D-4D까지의 텐서를 다룸\n",
    "* 동영상 데이터를 다룰 경우에는 5D 텐서까지 가기도 함"
   ]
  },
  {
   "cell_type": "code",
   "execution_count": 18,
   "id": "d242be52",
   "metadata": {},
   "outputs": [
    {
     "data": {
      "text/plain": [
       "array([[[ 1,  2,  3,  4],\n",
       "        [ 5,  6,  7,  8],\n",
       "        [ 9, 10, 11, 12]],\n",
       "\n",
       "       [[ 1,  2,  3,  4],\n",
       "        [ 5,  6,  7,  8],\n",
       "        [ 9, 10, 11, 12]],\n",
       "\n",
       "       [[ 1,  2,  3,  4],\n",
       "        [ 5,  6,  7,  8],\n",
       "        [ 9, 10, 11, 12]]])"
      ]
     },
     "execution_count": 18,
     "metadata": {},
     "output_type": "execute_result"
    }
   ],
   "source": [
    "# 3D 텐서\n",
    "x = np.array([[[1,2,3,4],\n",
    "              [5,6,7,8],\n",
    "              [9,10,11,12]],\n",
    "            [[1,2,3,4],\n",
    "              [5,6,7,8],\n",
    "              [9,10,11,12]],\n",
    "            [[1,2,3,4],\n",
    "              [5,6,7,8],\n",
    "              [9,10,11,12]]])\n",
    "x"
   ]
  },
  {
   "cell_type": "code",
   "execution_count": 19,
   "id": "0db3fbcf",
   "metadata": {},
   "outputs": [
    {
     "data": {
      "text/plain": [
       "3"
      ]
     },
     "execution_count": 19,
     "metadata": {},
     "output_type": "execute_result"
    }
   ],
   "source": [
    "# 3개의 축\n",
    "x.ndim"
   ]
  },
  {
   "cell_type": "markdown",
   "id": "058c5047",
   "metadata": {},
   "source": [
    "# 텐서의 3가지 핵심 속성\n",
    "1. 축의 개수 (랭크)\n",
    "2. 크기 (shape)\n",
    "3. 데이터 타입 "
   ]
  },
  {
   "cell_type": "markdown",
   "id": "076d83a4",
   "metadata": {},
   "source": [
    "1. 축의 개수 (랭크)\n",
    "* 3D텐서에는 3개의 축이 있고\n",
    "* 2D텐서인 행렬에는 2개의 축이 있음\n",
    "* 넘파이 라이브러리에서는 ndim 속성에 축의 값이 저장되어 있음\n",
    "\n",
    "2. 크기 (shape)\n",
    "* 텐서의 각 축을 따라 얼마나 많은 차원이 있는지를 나타낸 파이썬 튜플\n",
    "* (10000,28) or (10000,) 이런식\n",
    "* 예를 들어 행렬의 크기는 (3,5)이고 3D텐서의 크기는 (3,3,5)\n",
    "* 벡터의 크기는 (5,)처럼 1개의 원소로 이루어진 튜플임\n",
    "* 배열 스칼라는 ( )처럼 크기가 없음\n",
    "\n",
    "3. 데이터 타입 (넘파이에서는 dtype에 저장됨)\n",
    "* 텐서에 포함된 데이터의 타입\n",
    "* 예를 들어 텐서의 타입은 float32, float64, unsinged int (uint8)등이 있음\n",
    "* 드물게 char타입도 사용 \n",
    "* 텐서는 사전에 할당되어 연속된 메모리에 저장되어야 하므로\n",
    "* 넘파이 배열은 가변 길이 문자열을 지원하지 않음"
   ]
  },
  {
   "cell_type": "code",
   "execution_count": 23,
   "id": "fc5cac9e",
   "metadata": {},
   "outputs": [
    {
     "name": "stdout",
     "output_type": "stream",
     "text": [
      "()\n",
      "(5,)\n",
      "(3, 4)\n",
      "(3, 3, 4)\n"
     ]
    }
   ],
   "source": [
    "print(s.shape) # 0d : 스칼라 크기\n",
    "print(v.shape) # 1d : 벡터 크기\n",
    "print(m.shape) # 2d : 행렬 크기\n",
    "print(x.shape) # 3d : 텐서 크기 "
   ]
  },
  {
   "cell_type": "markdown",
   "id": "3bac1860",
   "metadata": {},
   "source": [
    "### 배치 데이터\n",
    "* 딥러닝 모델은 한 번에 전체 데이터셋을 처리하지 않고\n",
    "* 데이터를 작은 배치 (batch)로 나누어 처리\n",
    "* MNIST 예제에서는 숫자 이미지가 샘플임\n",
    "* 예 : MNIST 숫자 데이터에서 크기가 128인 배치 하나\n",
    "* batch = train_images[:128]\n",
    "* 다음 배치는 train_images[128:256]"
   ]
  },
  {
   "cell_type": "markdown",
   "id": "cf7068bc",
   "metadata": {},
   "source": [
    "# 텐서에서 데이터 예시\n",
    "* 벡터 데이터 : (samples, features) 크기의 2D 텐서\n",
    "* 시계열 데이터 또는 시퀀스 데이터 : (samples,features,timestemps) 크기의 3D 텐서\n",
    "* 이미지 : (samples,height,width,channels) 크기의 4D 텐서 \n",
    "* 동영상 : (samples,frames,height,width,channels) 크기의 5D 텐서\n"
   ]
  },
  {
   "cell_type": "markdown",
   "id": "0b7c4ec1",
   "metadata": {},
   "source": [
    "## 벡터 데이터 : 대부분의 경우에 해당\n",
    "* 데이터셋에서는 하나의 데이터 포인트가 벡터로 인코딩 될 수 있으므로\n",
    "* 배치 데이터는 2D 텐서로 인코딩됨 (즉, 벡터의 배열)\n",
    "* 첫번째 축은 샘플 축 (sample axis)\n",
    "* 두번째 축은 특성 축 (feature axis)\n",
    "* 예1 : 사람의 나이, 우편 번호, 소득으로 구성된 인구 통계 데이터\n",
    "    * 각 개인은 3개의 값을 가진 벡터로 구성된 10만명이 포함된 전체 데이터셋은 (100000,3)크기의 텐서에 저장될 수 있음\n",
    "* 예2 : 공통 단어 2만개로 만든 사전\n",
    "    * 각 단어가 등장한 횟수로 표현된 텍스트 문서는 2만개의 원소를 가진 벡터로 인코딩 될 수 있음\n",
    "    * (사전에 있는 단어마다 하나의 원소에 대응됨)\n",
    "    * 500개의 문서로 이루어진 전체 데이터셋은 (500,20000) 크기의 텐서로 저장됨 "
   ]
  },
  {
   "cell_type": "markdown",
   "id": "fd96fa65",
   "metadata": {},
   "source": [
    "### 시계열 데이터\n",
    "* 데이터에 시간이 (또는 연속된 순서)중 하나일때는 시간 축을 포함하여 3D 텐서로 저장이 된다\n",
    "* 각 샘플 벡터 (2D 텐서)의 시퀀스로 인코딩되어\n",
    "* 배치 데이터는 3D 텐서로 인코딩 됨\n",
    "* 관례적으로 시간축은 항상 두번째 축 (인덱스가 1인 축)\n",
    "* 예1 : 주식가격데이터셋\n",
    "    * 1분마다 현재 주식가격, 지난 1분동안의 최고 가격과 최소 가격 등을 저장\n",
    "    * 1분마다 데이터는 3D 벡터로 인코딩되고\n",
    "    * 하루동안의 거래는 (390,3)크기의 2D 텐서로 인코딩됨\n",
    "    * 하루의 거래 시간을 390분으로 한 경우 \n",
    "    * 250일치의 데이터는 (250,390,3) 크기의 3D 텐서로 저장 될 수 있음 \n",
    "    * 1일치 데이터가 하나의 샘플이 됨\n",
    "* 예2 : 트위터 데이터\n",
    "    * 각 트윗은 128개의 알파벳을 구성된 280개의 문자 시퀀스\n",
    "    * 각 문자가 128개의 크기인 이진 벡터로 인코딩 될 수 있음\n",
    "    * 해당 문자의 인덱스만 1이고 나머지는 모두 0인 벡터\n",
    "    * 그러면 각 트윗은 (280,128) 크기의 2D 텐서로 인코딩 될 수 있음\n",
    "    * 100만개의 트윗으로 구성된 데이터셋은 \n",
    "    * (1000000,280,128)크기의 텐서에 저장됨 "
   ]
  },
  {
   "cell_type": "markdown",
   "id": "befcef4e",
   "metadata": {},
   "source": [
    "### 이미지 데이터\n",
    "* 이미지는 전형적으로 높이, 너비, 컬러 채널의 3차원으로 이루어짐\n",
    "* 흑백 이미지의 경우 컬러 채널의 차원크기는 1임 \n",
    "* 256x256크기의 흑백 이미지에 대한 128개의 배치는 (128,256,256,1)크기의 4D텐서에 저장될 수 있음\n",
    "* 컬러이미지의 경우, (128,256,256,3) 크기의 4D 텐서에 저장 \n",
    "\n",
    "* 이미지 텐서의 크기를 지정하는 2가지 방식\n",
    "1. 채널 마지막 방식 (channel-last) : 텐서플로우에 사용\n",
    "    * (samples,height,width,color_depth)순서\n",
    "    * 컬러 채널의 깊이를 끝에 놓음\n",
    "2. 채널 우선 방식 (channel-first) : 씨아노에 사용\n",
    "    * (samples,color_depth,height,width) 순서\n",
    "    * 컬러 채널의 깊이를 배치 축 바로 뒤에 놓음\n",
    "    * (128,1,256,256)\n",
    "    * (128,3,256,256)"
   ]
  },
  {
   "cell_type": "markdown",
   "id": "ef964f22",
   "metadata": {},
   "source": [
    "# 케라스\n",
    "* 거의 모든 종류의 딥러닝 모델을 간편하게 만들고 훈련시킬 수 있는 파이썬을 위한 딥러닝 프레임워크\n",
    "## 케라스 특징\n",
    "* 동일한 코드로 CPU와 GPU에서 실행할 수 있음 \n",
    "* 컴퓨터 비전을 위한 합성곱 신경망, 시퀀스 처리를 위한 순환 신경망을 지원하며\n",
    "* 이 둘을 자유롭게 조합하여 사용할 수 있음\n",
    "* 다중입력이나 다중 출력 모델, 층의 공유, 모델 공유등 어떤 네트워크(모델) 구조도 만들 수 있음\n",
    "* 이 말은 적대적 생성 신경망 (generative adversarial networks, GAN)부터\n",
    "* 뉴럴 튜링 머신까지 기본적으로 어떤 딥러닝 모델에도 적합하다는 뜻\n",
    "* MIT 라이센스를 따라서 상업적인 프로젝트에도 자유롭게 사용 가능\n",
    "* 학술적인 연구원, 스타트업과 대기업  아무나 사용 가능"
   ]
  },
  {
   "cell_type": "markdown",
   "id": "169a8b7a",
   "metadata": {},
   "source": [
    "## 전형적인 케라스 작업 흐름\n",
    "1. 입력 텐서와 타겟 텐서로 이루어진 훈련 데이터 정의\n",
    "2. 입력과 타깃을 매핑하는 층으로 이루어진 네트워크(모델)정의\n",
    "3. 손실함수, 옵티마이저, 모니터링하기 위한 측정 지표 선택하여 학습 과정 설정 (compile)\n",
    "4. 훈련 데이터에 대해 모델의 fit()메서드를 이용해서 반복적으로 호출"
   ]
  },
  {
   "cell_type": "markdown",
   "id": "08204560",
   "metadata": {},
   "source": [
    "## 모델을 정의하는 2가지 방법\n",
    "1. Sequential 클래스 사용\n",
    "* 가장 많이 사용하는 구조로 층을 순서대로 쌓아 올린 네트워크 구조\n",
    "2. 함수영 API 사용 \n",
    "* 완전한 임의구조를 만들 수 있는 비순환 그래프 작성"
   ]
  },
  {
   "cell_type": "markdown",
   "id": "c8b44a2c",
   "metadata": {},
   "source": [
    "# 딥러닝 컴퓨터 셋팅\n",
    "* 필수는 아니지만 최신 NVIDIA GPU에서 딥러닝 코드를 실행하는 것을 권장\n",
    "* 합성곱 신경망을 사용한 이미지 처리나 순환 신경망 사용한 시퀀스 처리 같은 일부 어플리케이션을 CPU에서 실행하면 아주 빠른 멀티코어 CPU라도 시간이 오래걸는 경우 다수\n",
    "* 최신 GPU를 사용하면 CPU보다 2-5배 정도 또는 10배정도 속도가 빨라짐\n",
    "* 대안 : AWS EC2 GPU 인스턴스나 구글 클라우드 플랫폼을 고려할 수 있음\n",
    "* 과금되는 점 유의\n",
    "* 로컬 컴퓨터를 셋팅하는 클라우드를 사용하는지 상관없이 유닉스 (리눅스) 운영체제를 사용하는 것이 좋음\n",
    "* 기술적으로 윈도우에서 케라스를 사용할 수 있지만 벡엔드 모두 지원하지 않기 때문에 권장하지는 않음\n",
    "* 케라스를 사용하려면 벡엔드를 서로 바꾸어가며 작업 가능"
   ]
  },
  {
   "cell_type": "code",
   "execution_count": null,
   "id": "865f8d3d",
   "metadata": {},
   "outputs": [],
   "source": []
  },
  {
   "cell_type": "code",
   "execution_count": null,
   "id": "9ef7b8f9",
   "metadata": {},
   "outputs": [],
   "source": []
  }
 ],
 "metadata": {
  "kernelspec": {
   "display_name": "KYJ_ENV",
   "language": "python",
   "name": "kyjenv"
  },
  "language_info": {
   "codemirror_mode": {
    "name": "ipython",
    "version": 3
   },
   "file_extension": ".py",
   "mimetype": "text/x-python",
   "name": "python",
   "nbconvert_exporter": "python",
   "pygments_lexer": "ipython3",
   "version": "3.7.11"
  }
 },
 "nbformat": 4,
 "nbformat_minor": 5
}
