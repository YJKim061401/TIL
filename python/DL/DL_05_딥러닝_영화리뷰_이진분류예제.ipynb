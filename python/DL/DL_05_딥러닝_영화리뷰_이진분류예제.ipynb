{
 "cells": [
  {
   "cell_type": "markdown",
   "id": "6518546e",
   "metadata": {},
   "source": [
    "# 영화 리뷰 : 이진분류예제"
   ]
  },
  {
   "cell_type": "markdown",
   "id": "5be1e7f1",
   "metadata": {},
   "source": [
    "* 리뷰 텍스트를 기반으로 영화 리뷰를 긍정과 부정으로 분류하는 예제\n",
    "* IMDB 데이터 셋 사용"
   ]
  },
  {
   "cell_type": "markdown",
   "id": "fe4b50c2",
   "metadata": {},
   "source": [
    "# 1. 데이터셋 로드"
   ]
  },
  {
   "cell_type": "code",
   "execution_count": 2,
   "id": "029359b2",
   "metadata": {},
   "outputs": [],
   "source": [
    "from keras.datasets import imdb\n",
    "import warnings\n",
    "warnings.filterwarnings('ignore')\n",
    "(train_data,train_labels),(test_data,test_labels) = imdb.load_data(num_words=10000) # 가장 자주 나타나는 단어 1만개만 사용하겠다 \n",
    "\n",
    "# num_words = 10000 : 훈련데이터에서 가장 자주 나타나는 단어 10,000개만 사용하겠다는 의미\n",
    "# 드물게 나타나는 단어는 무시\n",
    "# 이렇게 하면 적절한 크기의 벡터 데이터를 얻을 수 있기 때문"
   ]
  },
  {
   "cell_type": "markdown",
   "id": "2663bb82",
   "metadata": {},
   "source": [
    "* train_data / test_data : 리뷰 목록\n",
    "    * 각 리뷰는 단어 인덱스의 리스트\n",
    "    * 단어 시퀀스가 인코딩 된 것\n",
    "* train_lables / test_labels : 레이블값\n",
    "    * 0 : 부정\n",
    "    * 1 : 긍정"
   ]
  },
  {
   "cell_type": "code",
   "execution_count": 3,
   "id": "1af24ded",
   "metadata": {},
   "outputs": [
    {
     "name": "stdout",
     "output_type": "stream",
     "text": [
      "(25000,)\n",
      "(25000,)\n"
     ]
    }
   ],
   "source": [
    "print(train_data.shape)\n",
    "print(test_data.shape)"
   ]
  },
  {
   "cell_type": "code",
   "execution_count": 4,
   "id": "089bd2f2",
   "metadata": {},
   "outputs": [
    {
     "data": {
      "text/plain": [
       "array([1, 0, 0, 1, 0, 0, 1, 0, 1, 0])"
      ]
     },
     "execution_count": 4,
     "metadata": {},
     "output_type": "execute_result"
    }
   ],
   "source": [
    "train_labels[:10]"
   ]
  },
  {
   "cell_type": "code",
   "execution_count": 5,
   "id": "0f020add",
   "metadata": {},
   "outputs": [
    {
     "data": {
      "text/plain": [
       "array([0, 1, 1, 0, 1, 1, 1, 0, 0, 1])"
      ]
     },
     "execution_count": 5,
     "metadata": {},
     "output_type": "execute_result"
    }
   ],
   "source": [
    "test_labels[:10]"
   ]
  },
  {
   "cell_type": "code",
   "execution_count": 6,
   "id": "c5c902de",
   "metadata": {},
   "outputs": [
    {
     "data": {
      "text/plain": [
       "9999"
      ]
     },
     "execution_count": 6,
     "metadata": {},
     "output_type": "execute_result"
    }
   ],
   "source": [
    "# num_words = 10000개로 제한\n",
    "# 가장 자주 등장하는 단어 10000개로 제한했기 때문에 \n",
    "# 단어 index는 10000을 넘지 않음\n",
    "max([max(sequence) for sequence in train_data])"
   ]
  },
  {
   "cell_type": "markdown",
   "id": "44ced6a1",
   "metadata": {},
   "source": [
    "# 2. 데이터 준비"
   ]
  },
  {
   "cell_type": "markdown",
   "id": "d33e995f",
   "metadata": {},
   "source": [
    "* 현재 받아온 데이터는 list\n",
    "* 신경망에 list는 쓸 수 없음\n",
    "* 리스트를 텐서로 바꿔줘야 함 --> 원-핫 인코딩 방법을 사용하여 변환하는 게 편함\n",
    "* 방법 \n",
    "1. 같은 길이가 되도록 리스트에 패딩 추가하고 (samples,sequence_length)크기의 정수 텐서로 변환\n",
    "2. 리스트를 원-핫 인코딩하여 0과 1의 벡터로 변환"
   ]
  },
  {
   "cell_type": "code",
   "execution_count": 7,
   "id": "165308a7",
   "metadata": {},
   "outputs": [],
   "source": [
    "import numpy as np\n",
    "\n",
    "def vectorize_sequences(sequences,dimension=10000):\n",
    "    results=np.zeros((len(sequences),dimension)) # 크기가 (len(sequences),dimensions)이고 모든 원소가 0인 행렬을 만듦 (25000,10000)\n",
    "    for i,sequence in enumerate(sequences):\n",
    "        results[i,sequence]=1. # results[i]에서 특정 위치를 1로 만듦\n",
    "    return results\n",
    "\n",
    "x_train = vectorize_sequences(train_data)\n",
    "x_test = vectorize_sequences(test_data)"
   ]
  },
  {
   "cell_type": "code",
   "execution_count": 8,
   "id": "7afe549e",
   "metadata": {},
   "outputs": [
    {
     "data": {
      "text/plain": [
       "array([[0., 1., 1., ..., 0., 0., 0.],\n",
       "       [0., 1., 1., ..., 0., 0., 0.],\n",
       "       [0., 1., 1., ..., 0., 0., 0.],\n",
       "       ...,\n",
       "       [0., 1., 1., ..., 0., 0., 0.],\n",
       "       [0., 1., 1., ..., 0., 0., 0.],\n",
       "       [0., 1., 1., ..., 0., 0., 0.]])"
      ]
     },
     "execution_count": 8,
     "metadata": {},
     "output_type": "execute_result"
    }
   ],
   "source": [
    "x_train"
   ]
  },
  {
   "cell_type": "code",
   "execution_count": 10,
   "id": "1b0e52cc",
   "metadata": {},
   "outputs": [
    {
     "data": {
      "text/plain": [
       "array([[0., 1., 1., ..., 0., 0., 0.],\n",
       "       [0., 1., 1., ..., 0., 0., 0.],\n",
       "       [0., 1., 1., ..., 0., 0., 0.],\n",
       "       ...,\n",
       "       [0., 1., 1., ..., 0., 0., 0.],\n",
       "       [0., 1., 1., ..., 0., 0., 0.],\n",
       "       [0., 1., 1., ..., 0., 0., 0.]])"
      ]
     },
     "execution_count": 10,
     "metadata": {},
     "output_type": "execute_result"
    }
   ],
   "source": [
    "x_test"
   ]
  },
  {
   "cell_type": "code",
   "execution_count": 11,
   "id": "9d7f6bbd",
   "metadata": {},
   "outputs": [],
   "source": [
    "# 레이블은 쉽게 벡터로 변경 가능\n",
    "y_train = np.asarray(train_labels).astype('float32')\n",
    "y_test = np.asarray(test_labels).astype('float32')"
   ]
  },
  {
   "cell_type": "markdown",
   "id": "658092a5",
   "metadata": {},
   "source": [
    "# 3. 신경망 모델 만들기\n",
    "* 입력 데이터가 벡터\n",
    "* 레이블은 스칼라 (0 또는 1)\n",
    "    * 이런 문제에 잘 작동하는 네트워크 종류는 'relu'활성화 함수를 사용한 완전한 연결 층\n",
    "* Dense층에 전달한 매개변수(16)은 은닉 유닛의 개수\n",
    "    * 하나의 은닉 유닛은 층이 나타내는 표현 공간에서 하나의 차원이 됨\n",
    "* 16개의 은닉 유닛이 있다는 것은 가중치 행렬의 크기가 16이라는 뜻\n",
    "* 그리고 편향 벡터 'b'를 더하고 'relu'연산을 적용 \n",
    "\n",
    "* 은닉 유닛을 늘리면 (표현 공간을 더 고차원으로 만들면)\n",
    "* 신경망이 더 복잡한 표현을 학습할 수 있지만\n",
    "* 계산 비용이 커지고 원치않는 패턴을 학습할 수도 있음\n",
    "\n",
    "* Dense층을 쌓을 때 두가지 중요한 구조상의 결정이 필요\n",
    "* 얼마나 많은 층을 사용할 것인가?\n",
    "* 각 층에 얼마나 많은 은닉 유닛을 둘 것인가"
   ]
  },
  {
   "cell_type": "markdown",
   "id": "832dcbde",
   "metadata": {},
   "source": [
    "## 신경망 모델 만드는 작업 순서\n",
    "1. 모델 설정\n",
    "2. 모델 컴파일\n",
    "3. 모델 실행 (학습)\n",
    "4. 모델 평가 (결과 출력)"
   ]
  },
  {
   "cell_type": "code",
   "execution_count": 26,
   "id": "405ba1ed",
   "metadata": {},
   "outputs": [],
   "source": [
    "from keras import models\n",
    "from keras import layers\n",
    "import tensorflow as tf\n",
    "\n",
    "tf.random.set_seed(3)\n",
    "\n",
    "# 1. 모델 설정\n",
    "model = models.Sequential()\n",
    "model.add(layers.Dense(16,activation='relu', input_shape=(10000,)))\n",
    "model.add(layers.Dense(16,activation='relu'))\n",
    "# 중간의 은닉층은 활성화 함수로 'relu'사용\n",
    "# 음수는 0으로 만듦 \n",
    "model.add(layers.Dense(1,activation='sigmoid'))\n",
    "\n",
    "\n",
    "# 마지막 층은 확률을 출력하기 위해 시그모이드 활성화 함수 사용\n",
    "# 0-1사이의 점수로 어떤 샘플이 1일 가능성이 높다는 것은 글 리뷰가 긍정일 가능성이 높다는 것 \n",
    "\n",
    "# 2. 모델 컴파일\n",
    "# 손실 함수와 옵티마이저 선택\n",
    "# 손실 함수 : 이진분류 문제이고 신경망의 출력이 확률이기 때문에 (네트워크 끝에 시그모이드 함수를 사용한 하나의 유닛으로 된 층으로 놓았음) : binary_crossentropy\n",
    "# 옵티마이저 : optimizer = 'rmsprop', 옵티마이저 매개변수 변경시 : optimizer=optimizers.RMSprop(lr=0.001)\n",
    "model.compile(optimizer='rmsprop',\n",
    "             loss = 'binary_crossentropy',\n",
    "             metrics=['accuracy'])\n",
    "\n",
    "\n"
   ]
  },
  {
   "cell_type": "markdown",
   "id": "373ff2f6",
   "metadata": {},
   "source": [
    "# 4. 훈련 검증 데이터 셋 생성\n",
    "* 검증 데이터 셋 생성\n",
    "    * 훈련하는 동안 처음 본 데이터에 대한 모델의 정확도를 측정하기 위해 원본 훈련 데이터에서 10,000개의 샘플을 따로 분리해서 검증 데이터 셋으로 생성"
   ]
  },
  {
   "cell_type": "code",
   "execution_count": 27,
   "id": "555670b0",
   "metadata": {},
   "outputs": [],
   "source": [
    "x_val = x_train[:10000] # 10,000개까지\n",
    "partial_x_train = x_train[10000:] # 10,000개부터 끝까지 \n",
    "\n",
    "y_val = y_train[:10000]\n",
    "partial_y_train = y_train[10000:]"
   ]
  },
  {
   "cell_type": "code",
   "execution_count": 28,
   "id": "f79e3271",
   "metadata": {},
   "outputs": [
    {
     "name": "stdout",
     "output_type": "stream",
     "text": [
      "Epoch 1/20\n",
      "30/30 [==============================] - 10s 226ms/step - loss: 0.5805 - acc: 0.7119 - val_loss: 0.3853 - val_acc: 0.8607\n",
      "Epoch 2/20\n",
      "30/30 [==============================] - 2s 74ms/step - loss: 0.3192 - acc: 0.9042 - val_loss: 0.3229 - val_acc: 0.8758\n",
      "Epoch 3/20\n",
      "30/30 [==============================] - 2s 61ms/step - loss: 0.2270 - acc: 0.9282 - val_loss: 0.3136 - val_acc: 0.8709\n",
      "Epoch 4/20\n",
      "30/30 [==============================] - 2s 71ms/step - loss: 0.1777 - acc: 0.9458 - val_loss: 0.2813 - val_acc: 0.8867\n",
      "Epoch 5/20\n",
      "30/30 [==============================] - 2s 77ms/step - loss: 0.1405 - acc: 0.9567 - val_loss: 0.2816 - val_acc: 0.8856\n",
      "Epoch 6/20\n",
      "30/30 [==============================] - 2s 61ms/step - loss: 0.1165 - acc: 0.9674 - val_loss: 0.2946 - val_acc: 0.8843\n",
      "Epoch 7/20\n",
      "30/30 [==============================] - 2s 75ms/step - loss: 0.0964 - acc: 0.9718 - val_loss: 0.3084 - val_acc: 0.8823\n",
      "Epoch 8/20\n",
      "30/30 [==============================] - 2s 65ms/step - loss: 0.0820 - acc: 0.9777 - val_loss: 0.3366 - val_acc: 0.8798\n",
      "Epoch 9/20\n",
      "30/30 [==============================] - 2s 69ms/step - loss: 0.0623 - acc: 0.9848 - val_loss: 0.3668 - val_acc: 0.8715\n",
      "Epoch 10/20\n",
      "30/30 [==============================] - 2s 63ms/step - loss: 0.0557 - acc: 0.9875 - val_loss: 0.3730 - val_acc: 0.8784\n",
      "Epoch 11/20\n",
      "30/30 [==============================] - 1s 45ms/step - loss: 0.0451 - acc: 0.9893 - val_loss: 0.3988 - val_acc: 0.8769\n",
      "Epoch 12/20\n",
      "30/30 [==============================] - 1s 33ms/step - loss: 0.0354 - acc: 0.9932 - val_loss: 0.4494 - val_acc: 0.8670\n",
      "Epoch 13/20\n",
      "30/30 [==============================] - 1s 35ms/step - loss: 0.0276 - acc: 0.9954 - val_loss: 0.4581 - val_acc: 0.8733\n",
      "Epoch 14/20\n",
      "30/30 [==============================] - 1s 31ms/step - loss: 0.0221 - acc: 0.9970 - val_loss: 0.4889 - val_acc: 0.8709\n",
      "Epoch 15/20\n",
      "30/30 [==============================] - 1s 30ms/step - loss: 0.0174 - acc: 0.9978 - val_loss: 0.5191 - val_acc: 0.8703\n",
      "Epoch 16/20\n",
      "30/30 [==============================] - 1s 31ms/step - loss: 0.0128 - acc: 0.9994 - val_loss: 0.5446 - val_acc: 0.8693\n",
      "Epoch 17/20\n",
      "30/30 [==============================] - 1s 35ms/step - loss: 0.0133 - acc: 0.9983 - val_loss: 0.5777 - val_acc: 0.8670\n",
      "Epoch 18/20\n",
      "30/30 [==============================] - 1s 35ms/step - loss: 0.0092 - acc: 0.9991 - val_loss: 0.6322 - val_acc: 0.8630\n",
      "Epoch 19/20\n",
      "30/30 [==============================] - 1s 31ms/step - loss: 0.0076 - acc: 0.9994 - val_loss: 0.6516 - val_acc: 0.8654\n",
      "Epoch 20/20\n",
      "30/30 [==============================] - 1s 37ms/step - loss: 0.0057 - acc: 0.9996 - val_loss: 0.6774 - val_acc: 0.8661\n"
     ]
    }
   ],
   "source": [
    "# 3. 모델 실행 (학습)\n",
    "# 모델을 512개 샘플씩 미니 배치를 만들어 20번 에포크 동안 훈련\n",
    "# x_train과 y_train 텐서에 있는 모든 샘플에 대해 20번 반복\n",
    "# partial_x_train, partial_y_train 손실과 정확도도 측정\n",
    "# validation_data 매개변수\n",
    "\n",
    "model.compile(optimizer='rmsprop',\n",
    "             loss = 'binary_crossentropy',\n",
    "             metrics=['acc'])\n",
    "\n",
    "history = model.fit(partial_x_train,\n",
    "                   partial_y_train,\n",
    "                   epochs=20,\n",
    "                   batch_size=512,\n",
    "                   validation_data=(x_val,y_val))\n",
    "\n",
    "# 정리\n",
    "# history에는 loss, acc, val_loss, val_acc가 저장되어있음\n",
    "# 훈련 손실, 훈련 정확도, 검증 손실, 검증 정확도"
   ]
  },
  {
   "cell_type": "code",
   "execution_count": null,
   "id": "2683cc8d",
   "metadata": {},
   "outputs": [],
   "source": []
  },
  {
   "cell_type": "markdown",
   "id": "57a69ea5",
   "metadata": {},
   "source": [
    "# 5.matplotlib을 사용해 훈련과 검증 데이터에 대한 손실과 정확도를 시각화\n",
    "* model.fit( ) 메서드 반환하는 history객체 생성\n",
    "* 이 객체는 훈련하는 동안에 발생한 모든 정보를 딕셔너리 형태로 가지고 있음 "
   ]
  },
  {
   "cell_type": "code",
   "execution_count": 34,
   "id": "13daa010",
   "metadata": {},
   "outputs": [
    {
     "name": "stdout",
     "output_type": "stream",
     "text": [
      "dict_keys(['loss', 'acc', 'val_loss', 'val_acc'])\n",
      "dict_items([('loss', [0.5035755634307861, 0.3022335171699524, 0.22488442063331604, 0.17656077444553375, 0.14671792089939117, 0.11833220720291138, 0.09818793088197708, 0.08410487323999405, 0.0688680037856102, 0.05868445709347725, 0.047817375510931015, 0.038566865026950836, 0.03124043345451355, 0.025929998606443405, 0.022831663489341736, 0.01399650052189827, 0.014274179004132748, 0.010821590200066566, 0.008748706430196762, 0.009948132559657097]), ('acc', [0.7921333312988281, 0.9043333530426025, 0.9262666702270508, 0.944266676902771, 0.9520666599273682, 0.9644666910171509, 0.9700666666030884, 0.9760666489601135, 0.9814666509628296, 0.9854666590690613, 0.98826664686203, 0.9918000102043152, 0.9932666420936584, 0.9951333403587341, 0.9955333471298218, 0.9991999864578247, 0.998199999332428, 0.9989333152770996, 0.9990666508674622, 0.9980000257492065]), ('val_loss', [0.38531821966171265, 0.3228786587715149, 0.3136233985424042, 0.2812817692756653, 0.28155583143234253, 0.29457491636276245, 0.3084074854850769, 0.3366071879863739, 0.3668347895145416, 0.3730364143848419, 0.39875665307044983, 0.4494325816631317, 0.4581192433834076, 0.4889332056045532, 0.5191130638122559, 0.5445982217788696, 0.5776554942131042, 0.6321626305580139, 0.6516216993331909, 0.6773580312728882]), ('val_acc', [0.8607000112533569, 0.8758000135421753, 0.8708999752998352, 0.8866999745368958, 0.8855999708175659, 0.8842999935150146, 0.8823000192642212, 0.879800021648407, 0.8715000152587891, 0.8784000277519226, 0.8769000172615051, 0.8669999837875366, 0.8733000159263611, 0.8708999752998352, 0.8702999949455261, 0.8693000078201294, 0.8669999837875366, 0.8629999756813049, 0.8654000163078308, 0.866100013256073])])\n"
     ]
    }
   ],
   "source": [
    "history_dict = history.history\n",
    "print(history_dict.keys()) # 훈련과 검증하는 동안 모니터링할 측정 지표 \n",
    "print(history_dict.items()) # 훈련과 검증하는 동안 측정지표값 "
   ]
  },
  {
   "cell_type": "code",
   "execution_count": 35,
   "id": "f48689cb",
   "metadata": {},
   "outputs": [
    {
     "data": {
      "image/png": "[encoded data removed]",
      "text/plain": [
       "<Figure size 432x288 with 1 Axes>"
      ]
     },
     "metadata": {
      "needs_background": "light"
     },
     "output_type": "display_data"
    }
   ],
   "source": [
    "# 훈련과 검증 손실 시각화\n",
    "import matplotlib.pyplot as plt\n",
    "\n",
    "history_dict = history.history\n",
    "loss = history_dict['loss']\n",
    "val_loss = history_dict['val_loss']\n",
    "\n",
    "epochs = range(1,len(loss)+1) # epochs 1부터 마지막까지 (n+1)\n",
    "\n",
    "plt.plot(epochs, loss, 'bo',label = 'Training loss')\n",
    "plt.plot(epochs, val_loss, 'b',label = 'Validation loss')\n",
    "plt.title('Training and Validation loss')\n",
    "plt.xlabel('Epochs')\n",
    "plt.ylabel('Loss')\n",
    "plt.legend()\n",
    "\n",
    "plt.show()\n",
    "\n",
    "# 너무 과적합하게 훈련해서 오류 발생? "
   ]
  },
  {
   "cell_type": "markdown",
   "id": "d4393e6b",
   "metadata": {},
   "source": [
    "### 훈련 손실 결과\n",
    "* 에포크가 증가할수록 훈련 손실 감소\n",
    "* 경사하강법 최적화를 사용했을 때 반복마다 최소화되는 것이 손실\n",
    "* 그러므로 반복할때마다 손실이 최소화 (기대했던대로)\n",
    "\n",
    "\n",
    "### 검증 손실 결과\n",
    "* 그런데 검증 손실 결과는 네번째 에포크에서 그래프가 역전되는 것처럼 보임\n",
    "* 훈련 세트에서 잘 작동하는 모델이 처음 보는 데이터에서는 잘 작동되지 않음 ==> **과대적합(overfitting)** \n",
    "* 두번째 에포크부터 훈련 데이터에 과도하게 최적화되어 훈련 데이터에 특화된 표현을 학습하므로 훈련 세트 이외의 데이터에는 일반화되지 못함\n",
    "* 이런 경우 과대적합 방지를 위해\n",
    "* 3번째 에포크 이후에 훈련을 중지할 수 있음"
   ]
  },
  {
   "cell_type": "code",
   "execution_count": null,
   "id": "15147259",
   "metadata": {},
   "outputs": [],
   "source": []
  },
  {
   "cell_type": "code",
   "execution_count": 36,
   "id": "fe0f50f8",
   "metadata": {},
   "outputs": [
    {
     "data": {
      "image/png": "[encoded data removed]",
      "text/plain": [
       "<Figure size 432x288 with 1 Axes>"
      ]
     },
     "metadata": {
      "needs_background": "light"
     },
     "output_type": "display_data"
    }
   ],
   "source": [
    "# 훈련과 검증 정확도 시각화\n",
    "plt.clf() # 그래프 초기화 \n",
    "acc = history_dict['acc']\n",
    "val_acc = history_dict['val_acc']\n",
    "plt.plot(epochs, acc,'bo',label='Training acc')\n",
    "plt.plot(epochs,val_acc,'b',label='Validation acc')\n",
    "plt.title('Traning and Validation accuracy')\n",
    "plt.xlabel('Epochs')\n",
    "plt.ylabel('Accuracy')\n",
    "plt.legend()\n",
    "\n",
    "plt.show()"
   ]
  },
  {
   "cell_type": "markdown",
   "id": "8e7def43",
   "metadata": {},
   "source": [
    "#### 처음부터 다시 새로운 신경망을 만들어서 4번의 에포크동안만 훈련하고 테스트 데이터에서 평가"
   ]
  },
  {
   "cell_type": "code",
   "execution_count": 40,
   "id": "a16f7bca",
   "metadata": {},
   "outputs": [
    {
     "name": "stdout",
     "output_type": "stream",
     "text": [
      "Epoch 1/4\n",
      "30/30 [==============================] - 6s 118ms/step - loss: 0.5805 - acc: 0.7119 - val_loss: 0.3853 - val_acc: 0.8607\n",
      "Epoch 2/4\n",
      "30/30 [==============================] - 2s 59ms/step - loss: 0.3192 - acc: 0.9042 - val_loss: 0.3229 - val_acc: 0.8758\n",
      "Epoch 3/4\n",
      "30/30 [==============================] - 2s 63ms/step - loss: 0.2270 - acc: 0.9282 - val_loss: 0.3136 - val_acc: 0.8709\n",
      "Epoch 4/4\n",
      "30/30 [==============================] - 2s 68ms/step - loss: 0.1777 - acc: 0.9458 - val_loss: 0.2813 - val_acc: 0.8867\n",
      "313/313 [==============================] - 3s 9ms/step - loss: 0.2813 - acc: 0.8867\n"
     ]
    }
   ],
   "source": [
    "# 처음부터 다시 새로운 신경망을 만들어서 4번의 에포크동안만 훈련하고 테스트 데이터에서 평가\n",
    "\n",
    "tf.random.set_seed(3)\n",
    "\n",
    "\n",
    "model = models.Sequential()\n",
    "model.add(layers.Dense(16,activation='relu', input_shape=(10000,)))\n",
    "model.add(layers.Dense(16,activation='relu'))\n",
    "\n",
    "model.add(layers.Dense(1,activation='sigmoid'))\n",
    "\n",
    "\n",
    "model.compile(optimizer='rmsprop',\n",
    "             loss = 'binary_crossentropy',\n",
    "             metrics=['acc'])\n",
    "\n",
    "history = model.fit(partial_x_train,\n",
    "                   partial_y_train,\n",
    "                   epochs=4,\n",
    "                   batch_size=512,\n",
    "                   validation_data=(x_val,y_val))\n",
    "\n",
    "results = model.evaluate(x_val,y_val)\n",
    "\n"
   ]
  },
  {
   "cell_type": "code",
   "execution_count": 41,
   "id": "a9c974ee",
   "metadata": {},
   "outputs": [
    {
     "data": {
      "text/plain": [
       "[0.2812816798686981, 0.8866999745368958]"
      ]
     },
     "execution_count": 41,
     "metadata": {},
     "output_type": "execute_result"
    }
   ],
   "source": [
    "results"
   ]
  },
  {
   "cell_type": "markdown",
   "id": "6fae7b1b",
   "metadata": {},
   "source": [
    "### 4번 에포크 동안의 결과\n",
    "Epoch 20/20\n",
    "30/30 [==============================] - 1s 37ms/step - loss: 0.0057 - acc: 0.9996 - val_loss: 0.6774 - val_acc: 0.8661  \n",
    "Epoch 4/4\n",
    "30/30 [==============================] - 1s 35ms/step - loss: 0.1777 - acc: 0.9458 - val_loss: 0.2813 - val_acc: 0.8867\n",
    "\n",
    "* 과대적합이 6번 에포크부터 발생했다는 확인하에\n",
    "* 4번, 5번 에포크 동안 훈련한 결과\n",
    "* 4번 에포크 수행시 검증 손실이 많이 줄었음 (val_loss : 0.6774 -> 0.2813)"
   ]
  },
  {
   "cell_type": "code",
   "execution_count": 42,
   "id": "954fd687",
   "metadata": {},
   "outputs": [
    {
     "data": {
      "image/png": "[encoded data removed]",
      "text/plain": [
       "<Figure size 432x288 with 1 Axes>"
      ]
     },
     "metadata": {
      "needs_background": "light"
     },
     "output_type": "display_data"
    }
   ],
   "source": [
    "# 다시 시각화\n",
    "history_dict = history.history\n",
    "loss = history_dict['loss']\n",
    "val_loss = history_dict['val_loss']\n",
    "\n",
    "epochs = range(1,len(loss)+1) # epochs 1부터 마지막까지 (n+1)\n",
    "\n",
    "plt.plot(epochs, loss, 'bo',label = 'Training loss')\n",
    "plt.plot(epochs, val_loss, 'b',label = 'Validation loss')\n",
    "plt.title('Training and Validation loss')\n",
    "plt.xlabel('Epochs')\n",
    "plt.ylabel('Loss')\n",
    "plt.legend()\n",
    "\n",
    "plt.show()"
   ]
  },
  {
   "cell_type": "code",
   "execution_count": 43,
   "id": "fc0fbdf0",
   "metadata": {},
   "outputs": [
    {
     "data": {
      "image/png": "[encoded data removed]",
      "text/plain": [
       "<Figure size 432x288 with 1 Axes>"
      ]
     },
     "metadata": {
      "needs_background": "light"
     },
     "output_type": "display_data"
    }
   ],
   "source": [
    "acc = history_dict['acc']\n",
    "val_acc = history_dict['val_acc']\n",
    "plt.plot(epochs, acc,'bo',label='Training acc')\n",
    "plt.plot(epochs,val_acc,'b',label='Validation acc')\n",
    "plt.title('Traning and Validation accuracy')\n",
    "plt.xlabel('Epochs')\n",
    "plt.ylabel('Accuracy')\n",
    "plt.legend()\n",
    "\n",
    "plt.show()"
   ]
  },
  {
   "cell_type": "markdown",
   "id": "8373cc0e",
   "metadata": {},
   "source": [
    "# 모델을 처음부터 다시 훈련하기"
   ]
  },
  {
   "cell_type": "code",
   "execution_count": 13,
   "id": "30e94929",
   "metadata": {},
   "outputs": [
    {
     "name": "stdout",
     "output_type": "stream",
     "text": [
      "Epoch 1/4\n",
      "49/49 [==============================] - 2s 22ms/step - loss: 0.5458 - acc: 0.7474\n",
      "Epoch 2/4\n",
      "49/49 [==============================] - 1s 23ms/step - loss: 0.2772 - acc: 0.9074\n",
      "Epoch 3/4\n",
      "49/49 [==============================] - 1s 22ms/step - loss: 0.1998 - acc: 0.9305\n",
      "Epoch 4/4\n",
      "49/49 [==============================] - 1s 23ms/step - loss: 0.1628 - acc: 0.9418\n",
      "782/782 [==============================] - 13s 17ms/step - loss: 0.2911 - acc: 0.8853\n"
     ]
    }
   ],
   "source": [
    "from keras import models\n",
    "from keras import layers\n",
    "import tensorflow as tf\n",
    "tf.random.set_seed(3)\n",
    "\n",
    "\n",
    "model = models.Sequential()\n",
    "model.add(layers.Dense(16,activation='relu', input_shape=(10000,)))\n",
    "# Dense(unit은 거의 2의 배수로 씀. e.g. 16, 32, 64 이렇게 )\n",
    "model.add(layers.Dense(16,activation='relu'))\n",
    "\n",
    "model.add(layers.Dense(1,activation='sigmoid'))\n",
    "\n",
    "\n",
    "model.compile(optimizer='rmsprop',\n",
    "             loss = 'binary_crossentropy',\n",
    "             metrics=['acc'])\n",
    "\n",
    "model.fit(x_train,\n",
    "                   y_train,\n",
    "                   epochs=4,\n",
    "                   batch_size=512)\n",
    "\n",
    "results = model.evaluate(x_test,y_test)"
   ]
  },
  {
   "cell_type": "code",
   "execution_count": 14,
   "id": "7f1752f6",
   "metadata": {},
   "outputs": [
    {
     "data": {
      "text/plain": [
       "[0.2910781800746918, 0.8852800130844116]"
      ]
     },
     "execution_count": 14,
     "metadata": {},
     "output_type": "execute_result"
    }
   ],
   "source": [
    "results"
   ]
  },
  {
   "cell_type": "code",
   "execution_count": 15,
   "id": "8c4df1fe",
   "metadata": {},
   "outputs": [
    {
     "data": {
      "text/plain": [
       "array([[0.18875423],\n",
       "       [0.99983513],\n",
       "       [0.93763626],\n",
       "       ...,\n",
       "       [0.13299632],\n",
       "       [0.06220827],\n",
       "       [0.6779878 ]], dtype=float32)"
      ]
     },
     "execution_count": 15,
     "metadata": {},
     "output_type": "execute_result"
    }
   ],
   "source": [
    "model.predict(x_test)"
   ]
  },
  {
   "cell_type": "markdown",
   "id": "e61c90e2",
   "metadata": {},
   "source": [
    "* 우리가 생성한 모델은 어떤 샘플에 대해 확신을 가지고 있고 (0.99이상, 0.01이하인 경우) \n",
    "* 어떤 샘플에 대해서는 확신이 부족 (0.6, 0.4)"
   ]
  },
  {
   "cell_type": "markdown",
   "id": "3ebf1b2b",
   "metadata": {},
   "source": [
    "# 결과 정리\n",
    "* 원본 데이터를 신경망에 텐서로 주입하기 위해서는 많은 전처리 작업이 필요하다\n",
    "* 단어 시퀀스는 이진벡터로 인코딩 \n",
    "* relu 활성화 함수와 함께 Dense층을 쌓은 네트워크(모델)는 감성 분류 등 여러 종류의 문제에 적용할 수 있어서 앞으로 자주 사용함\n",
    "* 출력 클래스가 2개인 이진 분류 문제에는 하나의 유닛과 sigmoid 활성화 함수를 가진 Dense층으로 끝나야 함\n",
    "* 신경망의 출력은 확률을 나타내는 0과 1사이의 스칼라 값\n",
    "* 이진분류 문제에서 이런 스칼라 시그모이드 출력에 대해 사용하는 손실 함수는 : binary_crossentropy\n",
    "* rmsprop 옵티마이저는 관계없이 사용가능\n",
    "* 훈련 데이터에 대해 성능이 향상됨에 따라 신경망은 과대적합되기 시작\n",
    "* 이전에 본적 없는 테스트 데이터에서는 결과가 점점 나빠짐"
   ]
  },
  {
   "cell_type": "code",
   "execution_count": null,
   "id": "b8f625d8",
   "metadata": {},
   "outputs": [],
   "source": []
  }
 ],
 "metadata": {
  "kernelspec": {
   "display_name": "KYJ_ENV",
   "language": "python",
   "name": "kyjenv"
  },
  "language_info": {
   "codemirror_mode": {
    "name": "ipython",
    "version": 3
   },
   "file_extension": ".py",
   "mimetype": "text/x-python",
   "name": "python",
   "nbconvert_exporter": "python",
   "pygments_lexer": "ipython3",
   "version": "3.7.11"
  }
 },
 "nbformat": 4,
 "nbformat_minor": 5
}
