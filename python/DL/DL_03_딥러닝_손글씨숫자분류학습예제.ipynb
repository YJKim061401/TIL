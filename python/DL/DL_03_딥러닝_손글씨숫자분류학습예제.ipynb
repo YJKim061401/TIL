{
 "cells": [
  {
   "cell_type": "markdown",
   "id": "85b8b834",
   "metadata": {},
   "source": [
    "# 케라스 파이썬 라이브러리를 사용항 손글씨 숫자 분류 학습"
   ]
  },
  {
   "cell_type": "markdown",
   "id": "523a2671",
   "metadata": {},
   "source": [
    "* 흑백 손글씨 숫자 이미지 (28x28픽셀)을 10개의 범주(0-9)로 분류\n",
    "* MNIST 데이터 셋 사용"
   ]
  },
  {
   "cell_type": "code",
   "execution_count": 1,
   "id": "1dd4cf7f",
   "metadata": {},
   "outputs": [],
   "source": [
    "#from tensorflow.keras.models import Sequential\n",
    "#from tensorflow.keras.layers import Dense\n",
    "#import numpy as np\n",
    "#import tensorflow as tf"
   ]
  },
  {
   "cell_type": "code",
   "execution_count": 2,
   "id": "54604f1c",
   "metadata": {},
   "outputs": [],
   "source": [
    "from keras.datasets import mnist"
   ]
  },
  {
   "cell_type": "code",
   "execution_count": 4,
   "id": "d954801a",
   "metadata": {},
   "outputs": [],
   "source": [
    "(train_images,train_labels),(test_images,test_labels) = mnist.load_data()"
   ]
  },
  {
   "cell_type": "code",
   "execution_count": 7,
   "id": "4d4013c8",
   "metadata": {},
   "outputs": [
    {
     "name": "stdout",
     "output_type": "stream",
     "text": [
      "(60000, 28, 28)\n",
      "(60000,)\n"
     ]
    }
   ],
   "source": [
    "# 학습 데이터 확인\n",
    "print(train_images.shape) # 8비트 정수형 3D 텐서\n",
    "print(train_labels.shape) # "
   ]
  },
  {
   "cell_type": "code",
   "execution_count": 8,
   "id": "9f4502b1",
   "metadata": {},
   "outputs": [
    {
     "data": {
      "text/plain": [
       "3"
      ]
     },
     "execution_count": 8,
     "metadata": {},
     "output_type": "execute_result"
    }
   ],
   "source": [
    "# 축의 개수를 확인 (ndim)\n",
    "train_images.ndim # 3차원 (즉, 3개의 축으로 구성 k,n,m)\n",
    "# 28x28 크기의 정수 행렬이 6만개가 있는 배열"
   ]
  },
  {
   "cell_type": "code",
   "execution_count": 9,
   "id": "1bd054db",
   "metadata": {},
   "outputs": [
    {
     "data": {
      "text/plain": [
       "60000"
      ]
     },
     "execution_count": 9,
     "metadata": {},
     "output_type": "execute_result"
    }
   ],
   "source": [
    "len(train_labels)"
   ]
  },
  {
   "cell_type": "code",
   "execution_count": 10,
   "id": "a4a3ff68",
   "metadata": {},
   "outputs": [
    {
     "data": {
      "text/plain": [
       "array([5, 0, 4, ..., 5, 6, 8], dtype=uint8)"
      ]
     },
     "execution_count": 10,
     "metadata": {},
     "output_type": "execute_result"
    }
   ],
   "source": [
    "# 학습 레이블 확인 \n",
    "train_labels \n",
    "# 데이터 타입(dtype)이 uint8 (unsigned int8) 0-255까지의 범위로 양수만 표현이 가능한\n",
    "# 2^8개만큼 표현 가능 "
   ]
  },
  {
   "cell_type": "code",
   "execution_count": 14,
   "id": "3ed628b2",
   "metadata": {},
   "outputs": [
    {
     "data": {
      "image/png": "[encoded data removed]",
      "text/plain": [
       "<Figure size 432x288 with 1 Axes>"
      ]
     },
     "metadata": {
      "needs_background": "light"
     },
     "output_type": "display_data"
    }
   ],
   "source": [
    "# 이미지 출력시키기\n",
    "# 다섯번째 샘플을 matplotlib으로 이미지 확인\n",
    "import matplotlib.pyplot as plt\n",
    "\n",
    "digit = train_images[4]\n",
    "\n",
    "plt.imshow(digit,cmap=plt.cm.binary) # display data as an image \n",
    "plt.show()"
   ]
  },
  {
   "cell_type": "code",
   "execution_count": 15,
   "id": "f6a9600c",
   "metadata": {},
   "outputs": [],
   "source": [
    "# 데이터 전처리 작업 : 3차원을 2차원 데이터로 변환\n",
    "# 0과 1사이의 값을 가지는 float32 타입의 (60000,28*28)의 2차원 배열로 변환 (60000,784)\n",
    "train_images = train_images.reshape((60000,28*28))\n",
    "train_images = train_images.astype('float32')/255\n",
    "\n",
    "# (10000,28*28) 크기의 2차원 배열로 변경 (10000,784)\n",
    "test_images = test_images.reshape((10000,28*28))\n",
    "test_images = test_images.astype('float32')/255\n"
   ]
  },
  {
   "cell_type": "code",
   "execution_count": 17,
   "id": "03632976",
   "metadata": {},
   "outputs": [
    {
     "name": "stdout",
     "output_type": "stream",
     "text": [
      "(60000, 784)\n",
      "(10000, 784)\n"
     ]
    }
   ],
   "source": [
    "print(train_images.shape)\n",
    "print(test_images.shape)"
   ]
  },
  {
   "cell_type": "code",
   "execution_count": 18,
   "id": "431f28ef",
   "metadata": {},
   "outputs": [
    {
     "data": {
      "text/plain": [
       "2"
      ]
     },
     "execution_count": 18,
     "metadata": {},
     "output_type": "execute_result"
    }
   ],
   "source": [
    "train_images.ndim # 2차원으로 변환됨"
   ]
  },
  {
   "cell_type": "code",
   "execution_count": 20,
   "id": "0e3240a7",
   "metadata": {},
   "outputs": [],
   "source": [
    "from keras.utils import to_categorical\n",
    "train_labels = to_categorical(train_labels)\n",
    "test_labels = to_categorical(test_labels)"
   ]
  },
  {
   "cell_type": "markdown",
   "id": "1e07fdfc",
   "metadata": {},
   "source": [
    "## 작업순서\n",
    "1. 모델설정\n",
    "2. 컴파일\n",
    "3. 모델 실행 (학습)\n",
    "4. 모델 평가 (evaluation)"
   ]
  },
  {
   "cell_type": "code",
   "execution_count": 22,
   "id": "9dd45c31",
   "metadata": {},
   "outputs": [],
   "source": [
    "from tensorflow.keras.models import Sequential\n",
    "from tensorflow.keras.layers import Dense,LSTM\n",
    "import numpy as np\n",
    "import tensorflow as tf\n",
    "\n"
   ]
  },
  {
   "cell_type": "code",
   "execution_count": 23,
   "id": "52c33a02",
   "metadata": {},
   "outputs": [],
   "source": [
    "tf.random.set_seed(3)"
   ]
  },
  {
   "cell_type": "code",
   "execution_count": 24,
   "id": "fa0b49f6",
   "metadata": {},
   "outputs": [
    {
     "name": "stdout",
     "output_type": "stream",
     "text": [
      "Epoch 1/5\n",
      "469/469 [==============================] - 6s 12ms/step - loss: 0.4304 - accuracy: 0.8742\n",
      "Epoch 2/5\n",
      "469/469 [==============================] - 5s 10ms/step - loss: 0.1087 - accuracy: 0.9682\n",
      "Epoch 3/5\n",
      "469/469 [==============================] - 5s 11ms/step - loss: 0.0665 - accuracy: 0.9790\n",
      "Epoch 4/5\n",
      "469/469 [==============================] - 5s 10ms/step - loss: 0.0503 - accuracy: 0.9846\n",
      "Epoch 5/5\n",
      "469/469 [==============================] - 5s 10ms/step - loss: 0.0354 - accuracy: 0.9899\n",
      "313/313 [==============================] - 1s 3ms/step - loss: 0.0759 - accuracy: 0.9781\n",
      "test_acc :  0.9781000018119812\n",
      "test_loss :  0.07594442367553711\n"
     ]
    }
   ],
   "source": [
    "# 1. 모델 설정\n",
    "# 딥러닝의 구조와 층을 설정하는 단계\n",
    "network = Sequential() # 일반적으로 model이라는 이름을 줌\n",
    "network.add(Dense(512,activation='relu',input_shape=(28*28,)))\n",
    "network.add(Dense(10,activation='softmax'))\n",
    " \n",
    "# 2. 컴파일 : 실행 전 loss, optimizer, metrics 설정하는 단계\n",
    "network.compile(loss='categorical_crossentropy',optimizer='rmsprop',metrics=['accuracy'])\n",
    "\n",
    "# 3. 모델실행 (학습)\n",
    "network.fit(train_images,train_labels,epochs=5,batch_size=128)\n",
    "\n",
    "# 4. 모델 평가\n",
    "test_loss, test_acc = network.evaluate(test_images,test_labels)\n",
    "\n",
    "print('test_acc : ',test_acc)\n",
    "print('test_loss : ',test_loss)\n",
    "\n",
    "# 60000개를 128번으로 나누어서 469개씩\n",
    "# 5번 실행\n",
    "# 손실률 : 약 0.08\n",
    "# 정확도 : 약 98%\n",
    "\n",
    "# 손실은 점점 작아지고, 정확도는 점점 높아짐 \n",
    "# 경사하강법 원리 \n",
    "# 손실을 점점 줄여가면서 최적의 결과가 나올 수 있도록 "
   ]
  },
  {
   "cell_type": "code",
   "execution_count": null,
   "id": "c16e9249",
   "metadata": {},
   "outputs": [],
   "source": [
    "# 학습할때마다 값이 다르게 나오나? "
   ]
  }
 ],
 "metadata": {
  "kernelspec": {
   "display_name": "KYJ_ENV",
   "language": "python",
   "name": "kyjenv"
  },
  "language_info": {
   "codemirror_mode": {
    "name": "ipython",
    "version": 3
   },
   "file_extension": ".py",
   "mimetype": "text/x-python",
   "name": "python",
   "nbconvert_exporter": "python",
   "pygments_lexer": "ipython3",
   "version": "3.7.11"
  }
 },
 "nbformat": 4,
 "nbformat_minor": 5
}
