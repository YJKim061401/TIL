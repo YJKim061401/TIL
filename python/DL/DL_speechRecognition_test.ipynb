{
 "cells": [
  {
   "cell_type": "markdown",
   "source": [
    "# Speech Recognition"
   ],
   "metadata": {}
  },
  {
   "cell_type": "code",
   "execution_count": 9,
   "source": [
    "#pip install speechrecognition"
   ],
   "outputs": [],
   "metadata": {}
  },
  {
   "cell_type": "code",
   "execution_count": 10,
   "source": [
    "import speech_recognition as sr\n",
    "sr.__version__"
   ],
   "outputs": [
    {
     "output_type": "execute_result",
     "data": {
      "text/plain": [
       "'3.8.1'"
      ]
     },
     "metadata": {},
     "execution_count": 10
    }
   ],
   "metadata": {}
  },
  {
   "cell_type": "code",
   "execution_count": 11,
   "source": [
    "r = sr.Recognizer()\n",
    "test = sr.AudioFile('./data/speech/test.wav')\n",
    "with test as source:\n",
    "    audio = r.record(source)\n",
    "print(r.recognize_google(audio))\n"
   ],
   "outputs": [
    {
     "output_type": "stream",
     "name": "stdout",
     "text": [
      "the ministers are not to make their decision\n"
     ]
    }
   ],
   "metadata": {}
  },
  {
   "cell_type": "markdown",
   "source": [
    "* 샘플 음성 데이터 출처 : https://aihub.or.kr/aidata/7978"
   ],
   "metadata": {}
  },
  {
   "cell_type": "code",
   "execution_count": 12,
   "source": [
    "r = sr.Recognizer()\n",
    "test2 = sr.AudioFile('./data/speech/F_000001.wav')\n",
    "with test2 as source:\n",
    "    audio = r.record(source)\n",
    "print(r.recognize_google(audio,language='ko-KR'))"
   ],
   "outputs": [
    {
     "output_type": "stream",
     "name": "stdout",
     "text": [
      "우리 집에 잘 못 산다는 것을 친구들이 알게 되었을 때 정말 억장이 무너지는 거 같았어\n"
     ]
    }
   ],
   "metadata": {}
  },
  {
   "cell_type": "code",
   "execution_count": 13,
   "source": [
    "r = sr.Recognizer()\n",
    "test3 = sr.AudioFile('./data/speech/M_000001.wav')\n",
    "with test3 as source:\n",
    "    audio = r.record(source)\n",
    "print(r.recognize_google(audio,language='ko-KR'))"
   ],
   "outputs": [
    {
     "output_type": "stream",
     "name": "stdout",
     "text": [
      "우리 아빠는 나한테 제대로 된 선물 한번 준 적 없으셔\n"
     ]
    }
   ],
   "metadata": {}
  },
  {
   "cell_type": "code",
   "execution_count": null,
   "source": [],
   "outputs": [],
   "metadata": {}
  }
 ],
 "metadata": {
  "orig_nbformat": 4,
  "language_info": {
   "name": "python",
   "version": "3.8.2",
   "mimetype": "text/x-python",
   "codemirror_mode": {
    "name": "ipython",
    "version": 3
   },
   "pygments_lexer": "ipython3",
   "nbconvert_exporter": "python",
   "file_extension": ".py"
  },
  "kernelspec": {
   "name": "python3",
   "display_name": "Python 3.8.2 64-bit"
  },
  "interpreter": {
   "hash": "31f2aee4e71d21fbe5cf8b01ff0e069b9275f58929596ceb00d14d90e3e16cd6"
  }
 },
 "nbformat": 4,
 "nbformat_minor": 2
}