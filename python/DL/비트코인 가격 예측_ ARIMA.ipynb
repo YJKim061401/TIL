{
 "cells": [
  {
   "cell_type": "markdown",
   "id": "cbf9361a",
   "metadata": {},
   "source": [
    "## 비트코인 가격 예측 : ARIMA"
   ]
  },
  {
   "cell_type": "markdown",
   "id": "c9aacd38",
   "metadata": {},
   "source": [
    "### ARIMA 모델 활용 비트코인 시세 예측"
   ]
  },
  {
   "cell_type": "code",
   "execution_count": null,
   "id": "01274902",
   "metadata": {},
   "outputs": [],
   "source": [
    "ARIMA : Autoregressive integrated moving average\n",
    "자동회귀누적이동평균 모델\n",
    "\n",
    "자동회귀이동평균(ARMA : Autoregressive moving average) 모델의 일반화\n",
    "\n",
    "ARIMA기법은 전통적인 시계열 예측 방법으로 크게 두 가지 개념을 포함 \n",
    "(1) AR(Autoregression) 모델로 자기 자신의 과거를 정보로 사용하는 개념 \n",
    "- 진화하는 관심 변수가 시차(즉, 이전) 값으로 회귀됨\n",
    "(2)  MA(Moving Average) 모델\n",
    "- 회귀 오류가 실제로 과거 여러 시간에 동시에 발생한 오류 항의 선형 조합 \n",
    "\n",
    "이 둘을 합친것을 ARMA 모델이라고 하며, \n",
    "- ARIMA(Autoregressice Integrated Moving Average) 모델은   \n",
    "- ARMA 모델에 추세 변동의 경향성 까지 반영한 방법\n",
    "\n",
    "\n",
    "- 파이썬에서는 statsmodels 모듈로 ARIMA 분석 수행 "
   ]
  },
  {
   "cell_type": "code",
   "execution_count": 2,
   "id": "890c822e",
   "metadata": {},
   "outputs": [],
   "source": [
    "import pandas as pd\n",
    "import numpy as np\n",
    "import matplotlib.pyplot as plt\n",
    "%matplotlib inline\n",
    "\n",
    "import warnings\n",
    "warnings.filterwarnings(\"ignore\")"
   ]
  },
  {
   "cell_type": "code",
   "execution_count": 9,
   "id": "dfde4ee3",
   "metadata": {},
   "outputs": [
    {
     "data": {
      "text/html": [
       "<div>\n",
       "<style scoped>\n",
       "    .dataframe tbody tr th:only-of-type {\n",
       "        vertical-align: middle;\n",
       "    }\n",
       "\n",
       "    .dataframe tbody tr th {\n",
       "        vertical-align: top;\n",
       "    }\n",
       "\n",
       "    .dataframe thead th {\n",
       "        text-align: right;\n",
       "    }\n",
       "</style>\n",
       "<table border=\"1\" class=\"dataframe\">\n",
       "  <thead>\n",
       "    <tr style=\"text-align: right;\">\n",
       "      <th></th>\n",
       "      <th>day</th>\n",
       "      <th>price</th>\n",
       "    </tr>\n",
       "  </thead>\n",
       "  <tbody>\n",
       "    <tr>\n",
       "      <th>0</th>\n",
       "      <td>2018-09-15 00:00:00</td>\n",
       "      <td>6487.12</td>\n",
       "    </tr>\n",
       "    <tr>\n",
       "      <th>1</th>\n",
       "      <td>2018-09-16 00:00:00</td>\n",
       "      <td>6522.39</td>\n",
       "    </tr>\n",
       "    <tr>\n",
       "      <th>2</th>\n",
       "      <td>2018-09-17 00:00:00</td>\n",
       "      <td>6497.37</td>\n",
       "    </tr>\n",
       "    <tr>\n",
       "      <th>3</th>\n",
       "      <td>2018-09-18 00:00:00</td>\n",
       "      <td>6253.99</td>\n",
       "    </tr>\n",
       "    <tr>\n",
       "      <th>4</th>\n",
       "      <td>2018-09-19 00:00:00</td>\n",
       "      <td>6342.39</td>\n",
       "    </tr>\n",
       "    <tr>\n",
       "      <th>...</th>\n",
       "      <td>...</td>\n",
       "      <td>...</td>\n",
       "    </tr>\n",
       "    <tr>\n",
       "      <th>1090</th>\n",
       "      <td>2021-09-09 00:00:00</td>\n",
       "      <td>46078.38</td>\n",
       "    </tr>\n",
       "    <tr>\n",
       "      <th>1091</th>\n",
       "      <td>2021-09-10 00:00:00</td>\n",
       "      <td>46368.69</td>\n",
       "    </tr>\n",
       "    <tr>\n",
       "      <th>1092</th>\n",
       "      <td>2021-09-11 00:00:00</td>\n",
       "      <td>44847.48</td>\n",
       "    </tr>\n",
       "    <tr>\n",
       "      <th>1093</th>\n",
       "      <td>2021-09-12 00:00:00</td>\n",
       "      <td>45144.79</td>\n",
       "    </tr>\n",
       "    <tr>\n",
       "      <th>1094</th>\n",
       "      <td>2021-09-13 00:00:00</td>\n",
       "      <td>46059.12</td>\n",
       "    </tr>\n",
       "  </tbody>\n",
       "</table>\n",
       "<p>1095 rows × 2 columns</p>\n",
       "</div>"
      ],
      "text/plain": [
       "                      day     price\n",
       "0     2018-09-15 00:00:00   6487.12\n",
       "1     2018-09-16 00:00:00   6522.39\n",
       "2     2018-09-17 00:00:00   6497.37\n",
       "3     2018-09-18 00:00:00   6253.99\n",
       "4     2018-09-19 00:00:00   6342.39\n",
       "...                   ...       ...\n",
       "1090  2021-09-09 00:00:00  46078.38\n",
       "1091  2021-09-10 00:00:00  46368.69\n",
       "1092  2021-09-11 00:00:00  44847.48\n",
       "1093  2021-09-12 00:00:00  45144.79\n",
       "1094  2021-09-13 00:00:00  46059.12\n",
       "\n",
       "[1095 rows x 2 columns]"
      ]
     },
     "execution_count": 9,
     "metadata": {},
     "output_type": "execute_result"
    }
   ],
   "source": [
    "# 사용 데이터\n",
    "# https://www.blockchain.com/ko/charts/market-price?timespan=60days\n",
    "\n",
    "file_path = './data/market-price_3y.csv'\n",
    "bitcoin_df = pd.read_csv(file_path, names =['day', 'price'], header=0)\n",
    "bitcoin_df"
   ]
  },
  {
   "cell_type": "code",
   "execution_count": 5,
   "id": "ca5691f2",
   "metadata": {},
   "outputs": [
    {
     "name": "stdout",
     "output_type": "stream",
     "text": [
      "<class 'pandas.core.frame.DataFrame'>\n",
      "RangeIndex: 1095 entries, 0 to 1094\n",
      "Data columns (total 2 columns):\n",
      " #   Column  Non-Null Count  Dtype  \n",
      "---  ------  --------------  -----  \n",
      " 0   day     1095 non-null   object \n",
      " 1   price   1095 non-null   float64\n",
      "dtypes: float64(1), object(1)\n",
      "memory usage: 17.2+ KB\n"
     ]
    }
   ],
   "source": [
    "bitcoin_df.info()"
   ]
  },
  {
   "cell_type": "code",
   "execution_count": 10,
   "id": "07469a1b",
   "metadata": {},
   "outputs": [
    {
     "data": {
      "text/html": [
       "<div>\n",
       "<style scoped>\n",
       "    .dataframe tbody tr th:only-of-type {\n",
       "        vertical-align: middle;\n",
       "    }\n",
       "\n",
       "    .dataframe tbody tr th {\n",
       "        vertical-align: top;\n",
       "    }\n",
       "\n",
       "    .dataframe thead th {\n",
       "        text-align: right;\n",
       "    }\n",
       "</style>\n",
       "<table border=\"1\" class=\"dataframe\">\n",
       "  <thead>\n",
       "    <tr style=\"text-align: right;\">\n",
       "      <th></th>\n",
       "      <th>day</th>\n",
       "      <th>price</th>\n",
       "    </tr>\n",
       "  </thead>\n",
       "  <tbody>\n",
       "    <tr>\n",
       "      <th>0</th>\n",
       "      <td>2018-09-15</td>\n",
       "      <td>6487.12</td>\n",
       "    </tr>\n",
       "    <tr>\n",
       "      <th>1</th>\n",
       "      <td>2018-09-16</td>\n",
       "      <td>6522.39</td>\n",
       "    </tr>\n",
       "    <tr>\n",
       "      <th>2</th>\n",
       "      <td>2018-09-17</td>\n",
       "      <td>6497.37</td>\n",
       "    </tr>\n",
       "    <tr>\n",
       "      <th>3</th>\n",
       "      <td>2018-09-18</td>\n",
       "      <td>6253.99</td>\n",
       "    </tr>\n",
       "    <tr>\n",
       "      <th>4</th>\n",
       "      <td>2018-09-19</td>\n",
       "      <td>6342.39</td>\n",
       "    </tr>\n",
       "    <tr>\n",
       "      <th>...</th>\n",
       "      <td>...</td>\n",
       "      <td>...</td>\n",
       "    </tr>\n",
       "    <tr>\n",
       "      <th>1090</th>\n",
       "      <td>2021-09-09</td>\n",
       "      <td>46078.38</td>\n",
       "    </tr>\n",
       "    <tr>\n",
       "      <th>1091</th>\n",
       "      <td>2021-09-10</td>\n",
       "      <td>46368.69</td>\n",
       "    </tr>\n",
       "    <tr>\n",
       "      <th>1092</th>\n",
       "      <td>2021-09-11</td>\n",
       "      <td>44847.48</td>\n",
       "    </tr>\n",
       "    <tr>\n",
       "      <th>1093</th>\n",
       "      <td>2021-09-12</td>\n",
       "      <td>45144.79</td>\n",
       "    </tr>\n",
       "    <tr>\n",
       "      <th>1094</th>\n",
       "      <td>2021-09-13</td>\n",
       "      <td>46059.12</td>\n",
       "    </tr>\n",
       "  </tbody>\n",
       "</table>\n",
       "<p>1095 rows × 2 columns</p>\n",
       "</div>"
      ],
      "text/plain": [
       "            day     price\n",
       "0    2018-09-15   6487.12\n",
       "1    2018-09-16   6522.39\n",
       "2    2018-09-17   6497.37\n",
       "3    2018-09-18   6253.99\n",
       "4    2018-09-19   6342.39\n",
       "...         ...       ...\n",
       "1090 2021-09-09  46078.38\n",
       "1091 2021-09-10  46368.69\n",
       "1092 2021-09-11  44847.48\n",
       "1093 2021-09-12  45144.79\n",
       "1094 2021-09-13  46059.12\n",
       "\n",
       "[1095 rows x 2 columns]"
      ]
     },
     "execution_count": 10,
     "metadata": {},
     "output_type": "execute_result"
    }
   ],
   "source": [
    "# 문자열 day를 날짜형으로 형변환 : to_datetime()\n",
    "bitcoin_df['day'] = pd.to_datetime(bitcoin_df['day'] )\n",
    "bitcoin_df"
   ]
  },
  {
   "cell_type": "code",
   "execution_count": 11,
   "id": "65c6aa1e",
   "metadata": {},
   "outputs": [
    {
     "data": {
      "text/html": [
       "<div>\n",
       "<style scoped>\n",
       "    .dataframe tbody tr th:only-of-type {\n",
       "        vertical-align: middle;\n",
       "    }\n",
       "\n",
       "    .dataframe tbody tr th {\n",
       "        vertical-align: top;\n",
       "    }\n",
       "\n",
       "    .dataframe thead th {\n",
       "        text-align: right;\n",
       "    }\n",
       "</style>\n",
       "<table border=\"1\" class=\"dataframe\">\n",
       "  <thead>\n",
       "    <tr style=\"text-align: right;\">\n",
       "      <th></th>\n",
       "      <th>price</th>\n",
       "    </tr>\n",
       "    <tr>\n",
       "      <th>day</th>\n",
       "      <th></th>\n",
       "    </tr>\n",
       "  </thead>\n",
       "  <tbody>\n",
       "    <tr>\n",
       "      <th>2018-09-15</th>\n",
       "      <td>6487.12</td>\n",
       "    </tr>\n",
       "    <tr>\n",
       "      <th>2018-09-16</th>\n",
       "      <td>6522.39</td>\n",
       "    </tr>\n",
       "    <tr>\n",
       "      <th>2018-09-17</th>\n",
       "      <td>6497.37</td>\n",
       "    </tr>\n",
       "    <tr>\n",
       "      <th>2018-09-18</th>\n",
       "      <td>6253.99</td>\n",
       "    </tr>\n",
       "    <tr>\n",
       "      <th>2018-09-19</th>\n",
       "      <td>6342.39</td>\n",
       "    </tr>\n",
       "  </tbody>\n",
       "</table>\n",
       "</div>"
      ],
      "text/plain": [
       "              price\n",
       "day                \n",
       "2018-09-15  6487.12\n",
       "2018-09-16  6522.39\n",
       "2018-09-17  6497.37\n",
       "2018-09-18  6253.99\n",
       "2018-09-19  6342.39"
      ]
     },
     "execution_count": 11,
     "metadata": {},
     "output_type": "execute_result"
    }
   ],
   "source": [
    "# day로 인덱스 설정\n",
    "bitcoin_df.set_index('day', inplace=True)\n",
    "bitcoin_df.head()"
   ]
  },
  {
   "cell_type": "code",
   "execution_count": 12,
   "id": "17ab50ae",
   "metadata": {},
   "outputs": [
    {
     "data": {
      "text/html": [
       "<div>\n",
       "<style scoped>\n",
       "    .dataframe tbody tr th:only-of-type {\n",
       "        vertical-align: middle;\n",
       "    }\n",
       "\n",
       "    .dataframe tbody tr th {\n",
       "        vertical-align: top;\n",
       "    }\n",
       "\n",
       "    .dataframe thead th {\n",
       "        text-align: right;\n",
       "    }\n",
       "</style>\n",
       "<table border=\"1\" class=\"dataframe\">\n",
       "  <thead>\n",
       "    <tr style=\"text-align: right;\">\n",
       "      <th></th>\n",
       "      <th>price</th>\n",
       "    </tr>\n",
       "    <tr>\n",
       "      <th>day</th>\n",
       "      <th></th>\n",
       "    </tr>\n",
       "  </thead>\n",
       "  <tbody>\n",
       "    <tr>\n",
       "      <th>2021-09-09</th>\n",
       "      <td>46078.38</td>\n",
       "    </tr>\n",
       "    <tr>\n",
       "      <th>2021-09-10</th>\n",
       "      <td>46368.69</td>\n",
       "    </tr>\n",
       "    <tr>\n",
       "      <th>2021-09-11</th>\n",
       "      <td>44847.48</td>\n",
       "    </tr>\n",
       "    <tr>\n",
       "      <th>2021-09-12</th>\n",
       "      <td>45144.79</td>\n",
       "    </tr>\n",
       "    <tr>\n",
       "      <th>2021-09-13</th>\n",
       "      <td>46059.12</td>\n",
       "    </tr>\n",
       "  </tbody>\n",
       "</table>\n",
       "</div>"
      ],
      "text/plain": [
       "               price\n",
       "day                 \n",
       "2021-09-09  46078.38\n",
       "2021-09-10  46368.69\n",
       "2021-09-11  44847.48\n",
       "2021-09-12  45144.79\n",
       "2021-09-13  46059.12"
      ]
     },
     "execution_count": 12,
     "metadata": {},
     "output_type": "execute_result"
    }
   ],
   "source": [
    "bitcoin_df.tail()"
   ]
  },
  {
   "cell_type": "code",
   "execution_count": 21,
   "id": "f514aeca",
   "metadata": {},
   "outputs": [
    {
     "data": {
      "text/html": [
       "<div>\n",
       "<style scoped>\n",
       "    .dataframe tbody tr th:only-of-type {\n",
       "        vertical-align: middle;\n",
       "    }\n",
       "\n",
       "    .dataframe tbody tr th {\n",
       "        vertical-align: top;\n",
       "    }\n",
       "\n",
       "    .dataframe thead th {\n",
       "        text-align: right;\n",
       "    }\n",
       "</style>\n",
       "<table border=\"1\" class=\"dataframe\">\n",
       "  <thead>\n",
       "    <tr style=\"text-align: right;\">\n",
       "      <th></th>\n",
       "      <th>price</th>\n",
       "    </tr>\n",
       "    <tr>\n",
       "      <th>day</th>\n",
       "      <th></th>\n",
       "    </tr>\n",
       "  </thead>\n",
       "  <tbody>\n",
       "    <tr>\n",
       "      <th>2020-09-01</th>\n",
       "      <td>11659.57</td>\n",
       "    </tr>\n",
       "    <tr>\n",
       "      <th>2020-09-02</th>\n",
       "      <td>11923.25</td>\n",
       "    </tr>\n",
       "    <tr>\n",
       "      <th>2020-09-03</th>\n",
       "      <td>11397.44</td>\n",
       "    </tr>\n",
       "    <tr>\n",
       "      <th>2020-09-04</th>\n",
       "      <td>10187.51</td>\n",
       "    </tr>\n",
       "    <tr>\n",
       "      <th>2020-09-05</th>\n",
       "      <td>10467.89</td>\n",
       "    </tr>\n",
       "    <tr>\n",
       "      <th>...</th>\n",
       "      <td>...</td>\n",
       "    </tr>\n",
       "    <tr>\n",
       "      <th>2021-08-27</th>\n",
       "      <td>46962.80</td>\n",
       "    </tr>\n",
       "    <tr>\n",
       "      <th>2021-08-28</th>\n",
       "      <td>49056.86</td>\n",
       "    </tr>\n",
       "    <tr>\n",
       "      <th>2021-08-29</th>\n",
       "      <td>48897.65</td>\n",
       "    </tr>\n",
       "    <tr>\n",
       "      <th>2021-08-30</th>\n",
       "      <td>48806.78</td>\n",
       "    </tr>\n",
       "    <tr>\n",
       "      <th>2021-08-31</th>\n",
       "      <td>47074.77</td>\n",
       "    </tr>\n",
       "  </tbody>\n",
       "</table>\n",
       "<p>365 rows × 1 columns</p>\n",
       "</div>"
      ],
      "text/plain": [
       "               price\n",
       "day                 \n",
       "2020-09-01  11659.57\n",
       "2020-09-02  11923.25\n",
       "2020-09-03  11397.44\n",
       "2020-09-04  10187.51\n",
       "2020-09-05  10467.89\n",
       "...              ...\n",
       "2021-08-27  46962.80\n",
       "2021-08-28  49056.86\n",
       "2021-08-29  48897.65\n",
       "2021-08-30  48806.78\n",
       "2021-08-31  47074.77\n",
       "\n",
       "[365 rows x 1 columns]"
      ]
     },
     "execution_count": 21,
     "metadata": {},
     "output_type": "execute_result"
    }
   ],
   "source": [
    "# 학습/예측에 사용할 데이터\n",
    "train_df = bitcoin_df.loc['2020-09-01':'2021-08-31']\n",
    "train_df"
   ]
  },
  {
   "cell_type": "code",
   "execution_count": 17,
   "id": "11d77bea",
   "metadata": {},
   "outputs": [
    {
     "data": {
      "text/html": [
       "<div>\n",
       "<style scoped>\n",
       "    .dataframe tbody tr th:only-of-type {\n",
       "        vertical-align: middle;\n",
       "    }\n",
       "\n",
       "    .dataframe tbody tr th {\n",
       "        vertical-align: top;\n",
       "    }\n",
       "\n",
       "    .dataframe thead th {\n",
       "        text-align: right;\n",
       "    }\n",
       "</style>\n",
       "<table border=\"1\" class=\"dataframe\">\n",
       "  <thead>\n",
       "    <tr style=\"text-align: right;\">\n",
       "      <th></th>\n",
       "      <th>price</th>\n",
       "    </tr>\n",
       "    <tr>\n",
       "      <th>day</th>\n",
       "      <th></th>\n",
       "    </tr>\n",
       "  </thead>\n",
       "  <tbody>\n",
       "    <tr>\n",
       "      <th>2021-09-01</th>\n",
       "      <td>47155.87</td>\n",
       "    </tr>\n",
       "    <tr>\n",
       "      <th>2021-09-02</th>\n",
       "      <td>48862.76</td>\n",
       "    </tr>\n",
       "    <tr>\n",
       "      <th>2021-09-03</th>\n",
       "      <td>49329.01</td>\n",
       "    </tr>\n",
       "    <tr>\n",
       "      <th>2021-09-04</th>\n",
       "      <td>50035.33</td>\n",
       "    </tr>\n",
       "    <tr>\n",
       "      <th>2021-09-05</th>\n",
       "      <td>49947.38</td>\n",
       "    </tr>\n",
       "  </tbody>\n",
       "</table>\n",
       "</div>"
      ],
      "text/plain": [
       "               price\n",
       "day                 \n",
       "2021-09-01  47155.87\n",
       "2021-09-02  48862.76\n",
       "2021-09-03  49329.01\n",
       "2021-09-04  50035.33\n",
       "2021-09-05  49947.38"
      ]
     },
     "execution_count": 17,
     "metadata": {},
     "output_type": "execute_result"
    }
   ],
   "source": [
    "# 실제값 데이터로 사용\n",
    "test_df = bitcoin_df.loc['2021-09-01':'2021-09-05']\n",
    "test_df"
   ]
  },
  {
   "cell_type": "code",
   "execution_count": null,
   "id": "53d28777",
   "metadata": {},
   "outputs": [],
   "source": [
    "# 일자별 비트코인 시세 시각화\n",
    "train_df.plot()\n",
    "plt.show()"
   ]
  },
  {
   "cell_type": "code",
   "execution_count": null,
   "id": "d08cef9f",
   "metadata": {},
   "outputs": [],
   "source": [
    "# statsmodels 설치\n",
    "# pip install statsmodels"
   ]
  },
  {
   "cell_type": "markdown",
   "id": "454e3bc5",
   "metadata": {},
   "source": [
    "### ARIMA 모델 생성"
   ]
  },
  {
   "cell_type": "code",
   "execution_count": null,
   "id": "b8e88e45",
   "metadata": {},
   "outputs": [],
   "source": [
    "-ARIMA 클래스에 order=(2,1,2)라고 입력되어진 파라미터는   \n",
    "-AR이 몇번째 과거까지를 바라보는지에 대한 파라미터 (2),   \n",
    "-차분(Defference)에 대한 파라미터(1),  \n",
    "-MA가 몇 번째 과거까지를 바라보는지에 대한 파라미터(2)’를 의미  \n",
    "\n",
    "차분이란 현재 상태의 변수에서 바로 전 상태의 변수를 빼주는 것을 의미하며,   \n",
    "시계열 데이터의 불규칙성을 조금이나마 보정해주는 역할을 함   \n",
    "또한 앞서 말한 ARIMA 모델의 경향성을 의미 "
   ]
  },
  {
   "cell_type": "code",
   "execution_count": 31,
   "id": "f613180d",
   "metadata": {},
   "outputs": [],
   "source": [
    "from statsmodels.tsa.arima_model import ARIMA\n",
    "import statsmodels.api as sm\n",
    "\n",
    "# (AR:2, 차분:1, MA:2)\n",
    "model = ARIMA(train_df.price.values, order=(2,1,2))\n",
    "model_fit = model.fit(trend='c', full_output=True, disp=True)"
   ]
  },
  {
   "cell_type": "code",
   "execution_count": 32,
   "id": "448058b9",
   "metadata": {},
   "outputs": [
    {
     "name": "stdout",
     "output_type": "stream",
     "text": [
      "                             ARIMA Model Results                              \n",
      "==============================================================================\n",
      "Dep. Variable:                    D.y   No. Observations:                  364\n",
      "Model:                 ARIMA(2, 1, 2)   Log Likelihood               -3206.805\n",
      "Method:                       css-mle   S.D. of innovations           1621.201\n",
      "Date:                Tue, 14 Sep 2021   AIC                           6425.610\n",
      "Time:                        09:41:50   BIC                           6448.993\n",
      "Sample:                             1   HQIC                          6434.903\n",
      "                                                                              \n",
      "==============================================================================\n",
      "                 coef    std err          z      P>|z|      [0.025      0.975]\n",
      "------------------------------------------------------------------------------\n",
      "const         96.2121     90.028      1.069      0.285     -80.240     272.664\n",
      "ar.L1.D.y      0.4099      0.433      0.946      0.344      -0.439       1.259\n",
      "ar.L2.D.y      0.0224      0.346      0.065      0.948      -0.656       0.701\n",
      "ma.L1.D.y     -0.5056      0.431     -1.173      0.241      -1.351       0.339\n",
      "ma.L2.D.y      0.1075      0.340      0.316      0.752      -0.559       0.774\n",
      "                                    Roots                                    \n",
      "=============================================================================\n",
      "                  Real          Imaginary           Modulus         Frequency\n",
      "-----------------------------------------------------------------------------\n",
      "AR.1            2.1795           +0.0000j            2.1795            0.0000\n",
      "AR.2          -20.4406           +0.0000j           20.4406            0.5000\n",
      "MA.1            2.3522           -1.9422j            3.0504           -0.1098\n",
      "MA.2            2.3522           +1.9422j            3.0504            0.1098\n",
      "-----------------------------------------------------------------------------\n"
     ]
    }
   ],
   "source": [
    "print(model_fit.summary())"
   ]
  },
  {
   "cell_type": "code",
   "execution_count": 34,
   "id": "f75c5ebd",
   "metadata": {},
   "outputs": [
    {
     "data": {
      "text/plain": [
       "<AxesSubplot:>"
      ]
     },
     "execution_count": 34,
     "metadata": {},
     "output_type": "execute_result"
    },
    {
     "data": {
      "image/png": "[encoded data removed]",
      "text/plain": [
       "<Figure size 432x288 with 1 Axes>"
      ]
     },
     "metadata": {
      "needs_background": "light"
     },
     "output_type": "display_data"
    },
    {
     "data": {
      "image/png": "[encoded data removed]",
      "text/plain": [
       "<Figure size 432x288 with 1 Axes>"
      ]
     },
     "metadata": {
      "needs_background": "light"
     },
     "output_type": "display_data"
    }
   ],
   "source": [
    "# 예측 시각화\n",
    "fig = model_fit.plot_predict() # 학습 데이터에 대한 예측 결과 (첫 번째 그래프)\n",
    "residuals = pd.DataFrame(model_fit.resid) # 잔차 변동 시각화 (두 번째 그래프)\n",
    "residuals.plot()"
   ]
  },
  {
   "cell_type": "markdown",
   "id": "4a28824e",
   "metadata": {},
   "source": [
    "### 실제 데이터와 비교"
   ]
  },
  {
   "cell_type": "code",
   "execution_count": null,
   "id": "6e59ff3b",
   "metadata": {},
   "outputs": [],
   "source": [
    "# 학습 데이터 이후 5일 예측값을 실제값 비교\n",
    "# 실제값 : test_df 가정"
   ]
  },
  {
   "cell_type": "code",
   "execution_count": 35,
   "id": "fd16bf4c",
   "metadata": {},
   "outputs": [],
   "source": [
    "forecast_data = model_fit.forecast(steps=5) # 학습 데이터 셋 이후 5일 뒤 예측\n",
    "\n",
    "pred_y = forecast_data[0].tolist()# 5일 예측값\n",
    "test_y = test_df.price.values #  5일 실제값\n",
    "\n",
    "pred_y_lower = []\n",
    "pred_y_upper = []\n",
    "\n",
    "for lower_upper in forecast_data[2]:\n",
    "    lower = lower_upper[0]\n",
    "    upper = lower_upper[1]\n",
    "    pred_y_lower.append(lower)\n",
    "    pred_y_upper.append(upper)"
   ]
  },
  {
   "cell_type": "code",
   "execution_count": 36,
   "id": "c8ebeb97",
   "metadata": {},
   "outputs": [
    {
     "data": {
      "text/plain": [
       "(array([47345.86078331, 47268.9769505 , 47298.16202737, 47363.01415372,\n",
       "        47444.86719428]),\n",
       " array([1621.20108443, 2185.79187886, 2716.58517433, 3188.79649754,\n",
       "        3611.99176185]),\n",
       " array([[44168.36504613, 50523.35652049],\n",
       "        [42984.90359023, 51553.05031077],\n",
       "        [41973.75292474, 52622.57113   ],\n",
       "        [41113.08786451, 53612.94044293],\n",
       "        [40365.4934286 , 54524.24095996]]))"
      ]
     },
     "execution_count": 36,
     "metadata": {},
     "output_type": "execute_result"
    }
   ],
   "source": [
    "forecast_data\n",
    "\n",
    "# forecast() 반환값\n",
    "# forecast : ndarray\n",
    "#     Array of out of sample forecasts\n",
    "# stderr : ndarray\n",
    "#     Array of the standard error of the forecasts.\n",
    "# conf_int : ndarray\n",
    "#     2d array of the confidence interval for the forecast"
   ]
  },
  {
   "cell_type": "code",
   "execution_count": 37,
   "id": "edec77eb",
   "metadata": {},
   "outputs": [
    {
     "data": {
      "text/plain": [
       "[<matplotlib.lines.Line2D at 0x205d4e7ff88>]"
      ]
     },
     "execution_count": 37,
     "metadata": {},
     "output_type": "execute_result"
    },
    {
     "data": {
      "image/png": "[encoded data removed]",
      "text/plain": [
       "<Figure size 432x288 with 1 Axes>"
      ]
     },
     "metadata": {
      "needs_background": "light"
     },
     "output_type": "display_data"
    }
   ],
   "source": [
    "plt.plot(pred_y, color='gold') # 모델이 예상한 가격 그래프\n",
    "plt.plot(pred_y_lower, color='red') # 모델이 예상한 최소가격 그래프\n",
    "plt.plot(pred_y_upper, color='blue') # 모델이 예상한 최대가격 그래프\n",
    "plt.plot(test_y, color='green') # 실제 가격 그래프"
   ]
  },
  {
   "cell_type": "code",
   "execution_count": 38,
   "id": "2419cf28",
   "metadata": {},
   "outputs": [
    {
     "data": {
      "text/plain": [
       "[<matplotlib.lines.Line2D at 0x205d5116ac8>]"
      ]
     },
     "execution_count": 38,
     "metadata": {},
     "output_type": "execute_result"
    },
    {
     "data": {
      "image/png": "[encoded data removed]",
      "text/plain": [
       "<Figure size 432x288 with 1 Axes>"
      ]
     },
     "metadata": {
      "needs_background": "light"
     },
     "output_type": "display_data"
    }
   ],
   "source": [
    "plt.plot(pred_y, color='gold') # 모델이 예상한 가격 그래프\n",
    "plt.plot(test_y, color='green') # 실제 가격 그래프"
   ]
  },
  {
   "cell_type": "code",
   "execution_count": 39,
   "id": "bbe8b2c8",
   "metadata": {},
   "outputs": [
    {
     "data": {
      "text/plain": [
       "[47345.860783306794,\n",
       " 47268.97695049781,\n",
       " 47298.16202737264,\n",
       " 47363.01415371997,\n",
       " 47444.86719428086]"
      ]
     },
     "execution_count": 39,
     "metadata": {},
     "output_type": "execute_result"
    }
   ],
   "source": [
    "pred_y"
   ]
  },
  {
   "cell_type": "code",
   "execution_count": 40,
   "id": "aaf13f8c",
   "metadata": {},
   "outputs": [
    {
     "data": {
      "text/plain": [
       "array([47155.87, 48862.76, 49329.01, 50035.33, 49947.38])"
      ]
     },
     "execution_count": 40,
     "metadata": {},
     "output_type": "execute_result"
    }
   ],
   "source": [
    "test_y"
   ]
  },
  {
   "cell_type": "code",
   "execution_count": 41,
   "id": "d1f947d8",
   "metadata": {},
   "outputs": [
    {
     "name": "stdout",
     "output_type": "stream",
     "text": [
      "2005.2145381287446\n"
     ]
    }
   ],
   "source": [
    "from sklearn.metrics import mean_squared_error, r2_score\n",
    "from math import sqrt\n",
    "\n",
    "rmse = sqrt(mean_squared_error(pred_y, test_y))\n",
    "print(rmse)"
   ]
  },
  {
   "cell_type": "code",
   "execution_count": null,
   "id": "c0bd287b",
   "metadata": {},
   "outputs": [],
   "source": []
  },
  {
   "cell_type": "code",
   "execution_count": null,
   "id": "58af1a86",
   "metadata": {},
   "outputs": [],
   "source": []
  },
  {
   "cell_type": "code",
   "execution_count": null,
   "id": "3711df3f",
   "metadata": {},
   "outputs": [],
   "source": []
  },
  {
   "cell_type": "code",
   "execution_count": null,
   "id": "78d4878a",
   "metadata": {},
   "outputs": [],
   "source": []
  },
  {
   "cell_type": "code",
   "execution_count": null,
   "id": "7c02a1cf",
   "metadata": {},
   "outputs": [],
   "source": []
  }
 ],
 "metadata": {
  "kernelspec": {
   "display_name": "MY_ENV",
   "language": "python",
   "name": "myenv"
  },
  "language_info": {
   "codemirror_mode": {
    "name": "ipython",
    "version": 3
   },
   "file_extension": ".py",
   "mimetype": "text/x-python",
   "name": "python",
   "nbconvert_exporter": "python",
   "pygments_lexer": "ipython3",
   "version": "3.7.11"
  }
 },
 "nbformat": 4,
 "nbformat_minor": 5
}
