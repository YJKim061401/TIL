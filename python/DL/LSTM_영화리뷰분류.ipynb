{
  "nbformat": 4,
  "nbformat_minor": 0,
  "metadata": {
    "colab": {
      "name": "LSTM_영화리뷰분류.ipynb",
      "provenance": []
    },
    "kernelspec": {
      "name": "python3",
      "display_name": "Python 3"
    },
    "language_info": {
      "name": "python"
    }
  },
  "cells": [
    {
      "cell_type": "code",
      "metadata": {
        "id": "5GnxzxjpmX0K"
      },
      "source": [
        "from keras.preprocessing import sequence\n",
        "from keras.models import Sequential\n",
        "from keras.layers import Dense,Dropout,Activation\n",
        "from keras.layers import Embedding\n",
        "from keras.layers import LSTM\n",
        "from keras.layers import Conv1D, MaxPooling1D\n",
        "from keras.datasets import imdb\n",
        "import numpy as np\n",
        "import tensorflow as tf\n",
        "import pandas as pd\n",
        "import matplotlib.pyplot as plt\n",
        "import warnings\n",
        "\n",
        "warnings.filterwarnings(\"ignore\", category=np.VisibleDeprecationWarning) "
      ],
      "execution_count": 1,
      "outputs": []
    },
    {
      "cell_type": "code",
      "metadata": {
        "id": "FeInMVS6mYkD"
      },
      "source": [
        "seed = 0\n",
        "np.random.seed(seed)\n",
        "tf.random.set_seed(3)\n",
        "\n",
        "(x_train,y_train),(x_test,y_test) = imdb.load_data(num_words=5000)\n",
        "x_train = sequence.pad_sequences(x_train,maxlen=100)\n",
        "x_test = sequence.pad_sequences(x_test,maxlen=100)"
      ],
      "execution_count": 6,
      "outputs": []
    },
    {
      "cell_type": "code",
      "metadata": {
        "colab": {
          "base_uri": "https://localhost:8080/"
        },
        "id": "crcLs9fTmb5k",
        "outputId": "1fd4c420-ce90-40ab-cbd2-015aa21bcefb"
      },
      "source": [
        "model = Sequential()\n",
        "model.add(Embedding(5000,100))\n",
        "model.add(Dropout(0.5))\n",
        "model.add(Conv1D(64,5, padding='valid',activation='relu',strides=1))\n",
        "model.add(MaxPooling1D(pool_size=4))\n",
        "model.add(LSTM(55))\n",
        "model.add(Dense(1))\n",
        "model.add(Activation('sigmoid'))\n",
        "model.summary()"
      ],
      "execution_count": 7,
      "outputs": [
        {
          "output_type": "stream",
          "name": "stdout",
          "text": [
            "Model: \"sequential_1\"\n",
            "_________________________________________________________________\n",
            "Layer (type)                 Output Shape              Param #   \n",
            "=================================================================\n",
            "embedding_1 (Embedding)      (None, None, 100)         500000    \n",
            "_________________________________________________________________\n",
            "dropout_1 (Dropout)          (None, None, 100)         0         \n",
            "_________________________________________________________________\n",
            "conv1d_1 (Conv1D)            (None, None, 64)          32064     \n",
            "_________________________________________________________________\n",
            "max_pooling1d_1 (MaxPooling1 (None, None, 64)          0         \n",
            "_________________________________________________________________\n",
            "lstm_1 (LSTM)                (None, 55)                26400     \n",
            "_________________________________________________________________\n",
            "dense_1 (Dense)              (None, 1)                 56        \n",
            "_________________________________________________________________\n",
            "activation_1 (Activation)    (None, 1)                 0         \n",
            "=================================================================\n",
            "Total params: 558,520\n",
            "Trainable params: 558,520\n",
            "Non-trainable params: 0\n",
            "_________________________________________________________________\n"
          ]
        }
      ]
    },
    {
      "cell_type": "code",
      "metadata": {
        "id": "58QP70cWme_H"
      },
      "source": [
        "model.compile(loss='binary_crossentropy',\n",
        "              optimizer='adam',\n",
        "              metrics=['accuracy'])"
      ],
      "execution_count": 8,
      "outputs": []
    },
    {
      "cell_type": "code",
      "metadata": {
        "colab": {
          "base_uri": "https://localhost:8080/"
        },
        "id": "I1OaSw5Zmmrv",
        "outputId": "3e5b062b-2a3a-48f5-9c82-730a631351ad"
      },
      "source": [
        "history = model.fit(x_train,y_train,batch_size=100,epochs=5,validation_data = (x_test,y_test))"
      ],
      "execution_count": 9,
      "outputs": [
        {
          "output_type": "stream",
          "name": "stdout",
          "text": [
            "Epoch 1/5\n",
            "250/250 [==============================] - 43s 164ms/step - loss: 0.4485 - accuracy: 0.7738 - val_loss: 0.3674 - val_accuracy: 0.8376\n",
            "Epoch 2/5\n",
            "250/250 [==============================] - 46s 185ms/step - loss: 0.2960 - accuracy: 0.8754 - val_loss: 0.3333 - val_accuracy: 0.8558\n",
            "Epoch 3/5\n",
            "250/250 [==============================] - 49s 198ms/step - loss: 0.2537 - accuracy: 0.8944 - val_loss: 0.3250 - val_accuracy: 0.8598\n",
            "Epoch 4/5\n",
            "250/250 [==============================] - 33s 132ms/step - loss: 0.2161 - accuracy: 0.9154 - val_loss: 0.3285 - val_accuracy: 0.8549\n",
            "Epoch 5/5\n",
            "250/250 [==============================] - 28s 114ms/step - loss: 0.1802 - accuracy: 0.9325 - val_loss: 0.3500 - val_accuracy: 0.8550\n"
          ]
        }
      ]
    },
    {
      "cell_type": "code",
      "metadata": {
        "colab": {
          "base_uri": "https://localhost:8080/"
        },
        "id": "yrkVwhyKmrnf",
        "outputId": "b10d1528-40be-4124-ab05-64466c721c8c"
      },
      "source": [
        "print('Test Accuracy : %.4f' %(model.evaluate(x_test,y_test)[1]))"
      ],
      "execution_count": 10,
      "outputs": [
        {
          "output_type": "stream",
          "name": "stdout",
          "text": [
            "782/782 [==============================] - 9s 11ms/step - loss: 0.3500 - accuracy: 0.8550\n",
            "Test Accuracy : 0.8550\n"
          ]
        }
      ]
    },
    {
      "cell_type": "code",
      "metadata": {
        "id": "TAKzQaV3m-pI"
      },
      "source": [
        "y_vloss = history.history['val_loss']"
      ],
      "execution_count": 11,
      "outputs": []
    },
    {
      "cell_type": "code",
      "metadata": {
        "id": "xVAX_8wTnBaL"
      },
      "source": [
        "y_loss = history.history['loss']"
      ],
      "execution_count": 12,
      "outputs": []
    },
    {
      "cell_type": "code",
      "metadata": {
        "id": "JPFX3v3tn92K"
      },
      "source": [
        "y_vacc = history.history['val_accuracy']\n",
        "y_acc = history.history['accuracy']"
      ],
      "execution_count": 17,
      "outputs": []
    },
    {
      "cell_type": "code",
      "metadata": {
        "colab": {
          "base_uri": "https://localhost:8080/",
          "height": 279
        },
        "id": "c_DXkusLnDhM",
        "outputId": "5cac633f-72c8-4864-fe7e-e9e1814b6adc"
      },
      "source": [
        "x_len = np.arange(len(y_loss))\n",
        "plt.plot(x_len,y_vloss,marker='.',c='red',label='Test Set Loss')\n",
        "plt.plot(x_len,y_loss,marker='.',c='blue',label = 'Train Set Loss')\n",
        "plt.legend(loc='upper right')\n",
        "plt.grid()\n",
        "plt.xlabel('epoch')\n",
        "plt.ylabel('loss')\n",
        "plt.show()"
      ],
      "execution_count": 15,
      "outputs": [
        {
          "output_type": "display_data",
          "data": {
            "image/png": "[encoded data removed]",
            "text/plain": [
              "<Figure size 432x288 with 1 Axes>"
            ]
          },
          "metadata": {
            "needs_background": "light"
          }
        }
      ]
    },
    {
      "cell_type": "code",
      "metadata": {
        "colab": {
          "base_uri": "https://localhost:8080/",
          "height": 283
        },
        "id": "t6-hAOdVnxcF",
        "outputId": "bf0c8eff-1ae8-4d98-bfb2-cc02d1664a0a"
      },
      "source": [
        "\n",
        "plt.plot(x_len,y_vacc,marker='^',c='red',label='Test Set Accuracy')\n",
        "plt.plot(x_len,y_acc,marker='^',c='blue',label = 'Train Set Accuracy')\n",
        "plt.legend(loc='upper right')\n",
        "plt.grid()\n",
        "plt.xlabel('epoch')\n",
        "plt.ylabel('loss')\n",
        "plt.show()"
      ],
      "execution_count": 19,
      "outputs": [
        {
          "output_type": "display_data",
          "data": {
            "image/png": "[encoded data removed]",
            "text/plain": [
              "<Figure size 432x288 with 1 Axes>"
            ]
          },
          "metadata": {
            "needs_background": "light"
          }
        }
      ]
    },
    {
      "cell_type": "code",
      "metadata": {
        "id": "1X3_7npMoOzN"
      },
      "source": [
        ""
      ],
      "execution_count": null,
      "outputs": []
    }
  ]
}