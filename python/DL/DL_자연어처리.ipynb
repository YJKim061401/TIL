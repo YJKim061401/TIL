{
 "cells": [
  {
   "cell_type": "markdown",
   "id": "374f3046",
   "metadata": {},
   "source": [
    "## 밀집 표현 (Dense Representation)\n",
    "* 사용자가 설정한 값으로 모든 단어의 벡터 표현의 차원을 맞춤\n",
    "* 이 과정에서 0과 1만 가진 값이 아니라 실수값을 가지게 됨\n",
    "* 예\n",
    "    * 강아지 = [0 0 0 1 .... 0] # 10,000차원\n",
    "    * 밀집 표현으로 변경\n",
    "    * 강아지 = [0.2 1.8 1.1 ...] # 원하는 128차원으로 변경 가능\n",
    "    * 벡터의 차원이 조밀해졌다고 해서 밀집 벡터 (Dense vector)라고 함\n",
    "\n",
    "## 단어 임베딩 \n",
    "* 공간적 낭비를 해결하기 위한 방법으로 \n",
    "* 단어의 의미를 고려하고 밀집 벡터의 형태로 표현 \n",
    "* 의미가 비슷한 단어는 비슷한 방향에 위치\n",
    "* 단어의 의미를 효과적으로 표현하기 때문에 원-핫 인코딩보다 학습 성능을 높일 수 있음\n",
    "* 주어진 배열을 정해진 길이로 압축\n",
    "* 예\n",
    "    * 단어 happy는 bad보다 good에 더 가깝고\n",
    "    * Cat은 Good보다는 Dog에 가깝다는 것을 고려하여 배열을 새로운 수치로 변경"
   ]
  },
  {
   "cell_type": "markdown",
   "id": "d22e05d0",
   "metadata": {},
   "source": [
    "## 케라스 임베딩 구현\n",
    "* 임베딩 구현\n",
    "* model = Sequential()\n",
    "* model.add(Embedding(16,4, input_length=2))\n",
    "* 단어 -> 정수값 변환 -> 임베딩 층 통과 -> 밀집 벡터\n",
    "\n",
    "* 임베딩 층\n",
    "    * 입력 정수에 대해 밀집 벡터로 맵핑하고\n",
    "    * 밀집 벡터는 인공 신경망의 학습 과정에서 가중치가 학습되는 것과 같은 방식으로 훈련\n",
    "    * 훈련 과정에서 단어는 모델이 해결하고자 하는 작업에 맞는 값으로 업데이트 됨\n",
    "    * 이 밀집 벡터를 임베딩 벡터라고 함\n",
    "* 임베딩 층의 출력 크기\n",
    "* model.add(Embedding(16,4, input_length=2)) : 3D 실수형 텐서를 반환\n",
    "\n",
    "* Flatten층 추가 : 3D 실수형 텐서를 2D로 변환\n",
    "    * 다음의 Dense()에서 처리할 수 있는 입력으로 변환\n",
    "    * model.add(Flatten())"
   ]
  },
  {
   "cell_type": "markdown",
   "id": "6fff467a",
   "metadata": {},
   "source": [
    "## 패딩 (Padding)\n",
    "* 문장의 길이를 나타내는 배열의 크기를 동일하게 맞추는 작업\n",
    "* 길이가 전부 동일한 문서들에 대하여 하나의 행렬로 인식하고\n",
    "* 한꺼번에 묶어서 처리할 수 있도록 하기 위함\n",
    "* 각 문장 (문서)의 길이가 서로 다른 경우\n",
    "* 동일한 길이로 맞추고 빈 부분은 0으로 채운다 "
   ]
  },
  {
   "cell_type": "code",
   "execution_count": 3,
   "id": "f70a3509",
   "metadata": {},
   "outputs": [
    {
     "name": "stdout",
     "output_type": "stream",
     "text": [
      "{'지금은': 1, '딥러닝을': 2, '공부하고': 3, '있어요': 4, '어렵지': 5, '않고': 6, '쉬워요': 7, '참': 8, '재미있어요': 9}\n"
     ]
    }
   ],
   "source": [
    "from tensorflow.keras.preprocessing.text import Tokenizer\n",
    "\n",
    "sentence = ['지금은 딥러닝을 공부하고 있어요','어렵지 않고 쉬워요','참 재미있어요']\n",
    "\n",
    "token = Tokenizer()\n",
    "token.fit_on_texts(sentence)\n",
    "print(token.word_index)"
   ]
  },
  {
   "cell_type": "code",
   "execution_count": 4,
   "id": "a0fb4f28",
   "metadata": {},
   "outputs": [
    {
     "data": {
      "text/plain": [
       "[[1, 2, 3, 4], [5, 6, 7], [8, 9]]"
      ]
     },
     "execution_count": 4,
     "metadata": {},
     "output_type": "execute_result"
    }
   ],
   "source": [
    "# 각 문장에 해당되는 인덱스를 배열로 생성\n",
    "result = token.texts_to_sequences(sentence)\n",
    "result"
   ]
  },
  {
   "cell_type": "code",
   "execution_count": 9,
   "id": "f693a600",
   "metadata": {},
   "outputs": [],
   "source": [
    "from keras.preprocessing.sequence import pad_sequences"
   ]
  },
  {
   "cell_type": "code",
   "execution_count": 10,
   "id": "390452f5",
   "metadata": {},
   "outputs": [
    {
     "data": {
      "text/plain": [
       "array([[1, 2, 3, 4],\n",
       "       [0, 5, 6, 7],\n",
       "       [0, 0, 8, 9]], dtype=int32)"
      ]
     },
     "execution_count": 10,
     "metadata": {},
     "output_type": "execute_result"
    }
   ],
   "source": [
    "# 패딩 : 각 배열의 길이를 동일하게 맞춤\n",
    "# 길이를 지정하지 않으면 제일 긴 배열의 크기에 맞춰준다\n",
    "padded = pad_sequences(result)\n",
    "padded"
   ]
  },
  {
   "cell_type": "code",
   "execution_count": 11,
   "id": "f1ecbb09",
   "metadata": {},
   "outputs": [
    {
     "data": {
      "text/plain": [
       "array([[1, 2, 3, 4, 0, 0],\n",
       "       [5, 6, 7, 0, 0, 0],\n",
       "       [8, 9, 0, 0, 0, 0]], dtype=int32)"
      ]
     },
     "execution_count": 11,
     "metadata": {},
     "output_type": "execute_result"
    }
   ],
   "source": [
    "padded = pad_sequences(result, padding='post',maxlen=6) # 길이를 6으로 지정 (Maxlen=6)\n",
    "padded"
   ]
  },
  {
   "cell_type": "markdown",
   "id": "6e0139ed",
   "metadata": {},
   "source": [
    "# 자연어 처리 예제"
   ]
  },
  {
   "cell_type": "markdown",
   "id": "50092210",
   "metadata": {},
   "source": [
    "* 텍스트를 읽고 긍정, 부정 예측하기\n",
    "* 영화 리뷰를 읽고 딥러닝 모델로 학습해서 \n",
    "* 각 리뷰가 긍정적인지 부정적인지 예측\n",
    "* 예측 과정\n",
    "1. 짧은 리뷰 10개를 불러와서 긍정적이면 1, 부정적이면 0 클래스로 지정\n",
    "2. 토큰화\n",
    "3. 패딩\n",
    "4. 임베딩 및 딥러닝 처리"
   ]
  },
  {
   "cell_type": "code",
   "execution_count": 1,
   "id": "59711193",
   "metadata": {},
   "outputs": [],
   "source": [
    "import numpy as np\n",
    "import tensorflow as tf\n",
    "from numpy import array\n",
    "from tensorflow.keras.preprocessing.sequence import pad_sequences\n",
    "from tensorflow.keras.preprocessing.text import Tokenizer\n",
    "from tensorflow.keras.models import Sequential\n",
    "from tensorflow.keras.layers import Dense, Flatten, Embedding\n",
    "from tensorflow.keras.preprocessing.text import text_to_word_sequence"
   ]
  },
  {
   "cell_type": "code",
   "execution_count": 2,
   "id": "f4a5f240",
   "metadata": {},
   "outputs": [],
   "source": [
    "# 1. 짧은 리뷰 10개를 불러와서 긍정적이면 1, 부정적이면 0 클래스로 지정\n",
    "docs = [\"너무 재밌네요\",\"최고예요\",\"참 잘 만든 영화예요\", \\\n",
    "        \"추천하고 싶은 영화입니다\",\"한번 더 보고싶네요\",\"글쎄요\", \\\n",
    "        \"별로예요\",\"생각보다 지루하네요\",\"연기가 어색해요\",\"재미없어요\"]\n",
    "\n",
    "classes = array([1,1,1,1,1,0,0,0,0,0])"
   ]
  },
  {
   "cell_type": "code",
   "execution_count": 3,
   "id": "eee53363",
   "metadata": {},
   "outputs": [
    {
     "name": "stdout",
     "output_type": "stream",
     "text": [
      "{'너무': 1, '재밌네요': 2, '최고예요': 3, '참': 4, '잘': 5, '만든': 6, '영화예요': 7, '추천하고': 8, '싶은': 9, '영화입니다': 10, '한번': 11, '더': 12, '보고싶네요': 13, '글쎄요': 14, '별로예요': 15, '생각보다': 16, '지루하네요': 17, '연기가': 18, '어색해요': 19, '재미없어요': 20}\n"
     ]
    }
   ],
   "source": [
    "# 2. 토큰화\n",
    "token = Tokenizer()\n",
    "token.fit_on_texts(docs)\n",
    "print(token.word_index)"
   ]
  },
  {
   "cell_type": "code",
   "execution_count": 4,
   "id": "21f11729",
   "metadata": {},
   "outputs": [
    {
     "name": "stdout",
     "output_type": "stream",
     "text": [
      "[[1, 2], [3], [4, 5, 6, 7], [8, 9, 10], [11, 12, 13], [14], [15], [16, 17], [18, 19], [20]]\n"
     ]
    }
   ],
   "source": [
    "# 각 문장에 해당되는 인덱스를 배열로 생성 \n",
    "x = token.texts_to_sequences(docs)\n",
    "print(x)"
   ]
  },
  {
   "cell_type": "code",
   "execution_count": 5,
   "id": "976d6da9",
   "metadata": {},
   "outputs": [
    {
     "name": "stdout",
     "output_type": "stream",
     "text": [
      "패딩 결과 : \n",
      " [[ 0  0  1  2]\n",
      " [ 0  0  0  3]\n",
      " [ 4  5  6  7]\n",
      " [ 0  8  9 10]\n",
      " [ 0 11 12 13]\n",
      " [ 0  0  0 14]\n",
      " [ 0  0  0 15]\n",
      " [ 0  0 16 17]\n",
      " [ 0  0 18 19]\n",
      " [ 0  0  0 20]]\n"
     ]
    }
   ],
   "source": [
    "# 3. 패딩 : 길이를 4로 맞춤\n",
    "padded_x = pad_sequences(x,4)\n",
    "print('패딩 결과 : \\n', padded_x)"
   ]
  },
  {
   "cell_type": "markdown",
   "id": "e907ee8d",
   "metadata": {},
   "source": [
    "### 딥러닝 모델 적용\n",
    "1. 모델 설정\n",
    "2. 모델 컴파일\n",
    "3. 모델 훈련 (학습)\n",
    "4. 모델 평가"
   ]
  },
  {
   "cell_type": "code",
   "execution_count": 6,
   "id": "87702d76",
   "metadata": {},
   "outputs": [],
   "source": [
    "# 임베잉에 입력할 단어 수 지정\n",
    "# 맨 앞에 0이 나오도록 len() + 1\n",
    "word_size = len(token.word_index)+1"
   ]
  },
  {
   "cell_type": "code",
   "execution_count": 38,
   "id": "4e5fedcd",
   "metadata": {},
   "outputs": [
    {
     "name": "stdout",
     "output_type": "stream",
     "text": [
      "Epoch 1/20\n",
      "1/1 [==============================] - 2s 2s/step - loss: 0.6890 - accuracy: 0.6000\n",
      "Epoch 2/20\n",
      "1/1 [==============================] - 0s 26ms/step - loss: 0.6869 - accuracy: 0.6000\n",
      "Epoch 3/20\n",
      "1/1 [==============================] - 0s 9ms/step - loss: 0.6848 - accuracy: 0.6000\n",
      "Epoch 4/20\n",
      "1/1 [==============================] - 0s 9ms/step - loss: 0.6826 - accuracy: 0.6000\n",
      "Epoch 5/20\n",
      "1/1 [==============================] - 0s 8ms/step - loss: 0.6805 - accuracy: 0.7000\n",
      "Epoch 6/20\n",
      "1/1 [==============================] - 0s 7ms/step - loss: 0.6784 - accuracy: 0.8000\n",
      "Epoch 7/20\n",
      "1/1 [==============================] - 0s 11ms/step - loss: 0.6763 - accuracy: 0.8000\n",
      "Epoch 8/20\n",
      "1/1 [==============================] - 0s 9ms/step - loss: 0.6742 - accuracy: 0.8000\n",
      "Epoch 9/20\n",
      "1/1 [==============================] - 0s 14ms/step - loss: 0.6721 - accuracy: 0.8000\n",
      "Epoch 10/20\n",
      "1/1 [==============================] - 0s 17ms/step - loss: 0.6700 - accuracy: 0.8000\n",
      "Epoch 11/20\n",
      "1/1 [==============================] - 0s 9ms/step - loss: 0.6679 - accuracy: 0.9000\n",
      "Epoch 12/20\n",
      "1/1 [==============================] - 0s 9ms/step - loss: 0.6658 - accuracy: 0.9000\n",
      "Epoch 13/20\n",
      "1/1 [==============================] - 0s 9ms/step - loss: 0.6637 - accuracy: 0.9000\n",
      "Epoch 14/20\n",
      "1/1 [==============================] - 0s 12ms/step - loss: 0.6616 - accuracy: 0.9000\n",
      "Epoch 15/20\n",
      "1/1 [==============================] - 0s 19ms/step - loss: 0.6595 - accuracy: 0.9000\n",
      "Epoch 16/20\n",
      "1/1 [==============================] - 0s 27ms/step - loss: 0.6573 - accuracy: 0.9000\n",
      "Epoch 17/20\n",
      "1/1 [==============================] - 0s 7ms/step - loss: 0.6552 - accuracy: 0.9000\n",
      "Epoch 18/20\n",
      "1/1 [==============================] - 0s 11ms/step - loss: 0.6530 - accuracy: 0.9000\n",
      "Epoch 19/20\n",
      "1/1 [==============================] - 0s 20ms/step - loss: 0.6509 - accuracy: 0.9000\n",
      "Epoch 20/20\n",
      "1/1 [==============================] - 0s 13ms/step - loss: 0.6487 - accuracy: 0.9000\n",
      "WARNING:tensorflow:5 out of the last 6 calls to <function Model.make_test_function.<locals>.test_function at 0x7fcae03e2d40> triggered tf.function retracing. Tracing is expensive and the excessive number of tracings could be due to (1) creating @tf.function repeatedly in a loop, (2) passing tensors with different shapes, (3) passing Python objects instead of tensors. For (1), please define your @tf.function outside of the loop. For (2), @tf.function has experimental_relax_shapes=True option that relaxes argument shapes that can avoid unnecessary retracing. For (3), please refer to https://www.tensorflow.org/guide/function#controlling_retracing and https://www.tensorflow.org/api_docs/python/tf/function for  more details.\n",
      "1/1 [==============================] - 1s 512ms/step - loss: 0.6465 - accuracy: 0.9000\n",
      "\n",
      " Accuracy : 0.9000\n"
     ]
    }
   ],
   "source": [
    "# 1. 모델 설정\n",
    "# 임베딩층 구현\n",
    "model = Sequential()\n",
    "model.add(Embedding(word_size,8,input_length=4)) # 3d 텐서\n",
    "model.add(Flatten())# 2d로 변환\n",
    "model.add(Dense(1,activation='sigmoid'))\n",
    "\n",
    "# 2. 모델 컴파일\n",
    "model.compile(optimizer='adam',\n",
    "             loss = 'binary_crossentropy',\n",
    "             metrics = ['accuracy'])\n",
    "\n",
    "\n",
    "# 3. 모델 훈련 (학습)\n",
    "model.fit(padded_x, classes, epochs=20)\n",
    "\n",
    "# 4. 모델 평가 \n",
    "print('\\n Accuracy : %.4f' %(model.evaluate(padded_x,classes)[1]))"
   ]
  },
  {
   "cell_type": "code",
   "execution_count": 7,
   "id": "c4081781",
   "metadata": {},
   "outputs": [
    {
     "name": "stdout",
     "output_type": "stream",
     "text": [
      "Epoch 1/20\n",
      "1/1 [==============================] - 2s 2s/step - loss: 0.6963 - accuracy: 0.5000\n",
      "Epoch 2/20\n",
      "1/1 [==============================] - 0s 4ms/step - loss: 0.6897 - accuracy: 0.5000\n",
      "Epoch 3/20\n",
      "1/1 [==============================] - 0s 10ms/step - loss: 0.6849 - accuracy: 0.5000\n",
      "Epoch 4/20\n",
      "1/1 [==============================] - 0s 8ms/step - loss: 0.6809 - accuracy: 0.6000\n",
      "Epoch 5/20\n",
      "1/1 [==============================] - 0s 11ms/step - loss: 0.6774 - accuracy: 0.8000\n",
      "Epoch 6/20\n",
      "1/1 [==============================] - 0s 14ms/step - loss: 0.6741 - accuracy: 0.9000\n",
      "Epoch 7/20\n",
      "1/1 [==============================] - 0s 8ms/step - loss: 0.6710 - accuracy: 1.0000\n",
      "Epoch 8/20\n",
      "1/1 [==============================] - 0s 19ms/step - loss: 0.6680 - accuracy: 1.0000\n",
      "Epoch 9/20\n",
      "1/1 [==============================] - 0s 12ms/step - loss: 0.6652 - accuracy: 1.0000\n",
      "Epoch 10/20\n",
      "1/1 [==============================] - 0s 29ms/step - loss: 0.6624 - accuracy: 1.0000\n",
      "Epoch 11/20\n",
      "1/1 [==============================] - 0s 11ms/step - loss: 0.6597 - accuracy: 1.0000\n",
      "Epoch 12/20\n",
      "1/1 [==============================] - 0s 6ms/step - loss: 0.6571 - accuracy: 1.0000\n",
      "Epoch 13/20\n",
      "1/1 [==============================] - 0s 4ms/step - loss: 0.6545 - accuracy: 1.0000\n",
      "Epoch 14/20\n",
      "1/1 [==============================] - 0s 4ms/step - loss: 0.6520 - accuracy: 1.0000\n",
      "Epoch 15/20\n",
      "1/1 [==============================] - 0s 6ms/step - loss: 0.6495 - accuracy: 1.0000\n",
      "Epoch 16/20\n",
      "1/1 [==============================] - 0s 13ms/step - loss: 0.6470 - accuracy: 1.0000\n",
      "Epoch 17/20\n",
      "1/1 [==============================] - 0s 24ms/step - loss: 0.6445 - accuracy: 1.0000\n",
      "Epoch 18/20\n",
      "1/1 [==============================] - 0s 4ms/step - loss: 0.6420 - accuracy: 1.0000\n",
      "Epoch 19/20\n",
      "1/1 [==============================] - 0s 9ms/step - loss: 0.6395 - accuracy: 1.0000\n",
      "Epoch 20/20\n",
      "1/1 [==============================] - 0s 6ms/step - loss: 0.6371 - accuracy: 1.0000\n",
      "1/1 [==============================] - 0s 497ms/step - loss: 0.6347 - accuracy: 1.0000\n",
      "\n",
      " Accuracy : 1.0000\n"
     ]
    }
   ],
   "source": [
    "# 1. 모델 설정\n",
    "# 임베딩층 구현\n",
    "model = Sequential()\n",
    "model.add(Embedding(word_size,8,input_length=4)) # 3d 텐서\n",
    "model.add(Flatten())# 2d로 변환\n",
    "model.add(Dense(1,activation='sigmoid'))\n",
    "\n",
    "# 2. 모델 컴파일\n",
    "model.compile(optimizer='rmsprop', #rmsprop #Adam\n",
    "             loss = 'binary_crossentropy',\n",
    "             metrics = ['accuracy'])\n",
    "\n",
    "\n",
    "# 3. 모델 훈련 (학습)\n",
    "model.fit(padded_x, classes, epochs=20)\n",
    "\n",
    "# 4. 모델 평가 \n",
    "print('\\n Accuracy : %.4f' %(model.evaluate(padded_x,classes)[1]))"
   ]
  },
  {
   "cell_type": "code",
   "execution_count": null,
   "id": "3f746c73",
   "metadata": {},
   "outputs": [],
   "source": []
  }
 ],
 "metadata": {
  "kernelspec": {
   "display_name": "YEJI_ENV",
   "language": "python",
   "name": "yejienv"
  },
  "language_info": {
   "codemirror_mode": {
    "name": "ipython",
    "version": 3
   },
   "file_extension": ".py",
   "mimetype": "text/x-python",
   "name": "python",
   "nbconvert_exporter": "python",
   "pygments_lexer": "ipython3",
   "version": "3.7.11"
  }
 },
 "nbformat": 4,
 "nbformat_minor": 5
}
