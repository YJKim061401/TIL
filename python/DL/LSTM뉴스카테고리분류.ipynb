{
  "nbformat": 4,
  "nbformat_minor": 0,
  "metadata": {
    "colab": {
      "name": "LSTM뉴스카테고리분류.ipynb",
      "provenance": [],
      "collapsed_sections": []
    },
    "kernelspec": {
      "name": "python3",
      "display_name": "Python 3"
    },
    "language_info": {
      "name": "python"
    },
    "accelerator": "GPU"
  },
  "cells": [
    {
      "cell_type": "code",
      "metadata": {
        "id": "fUKeuYlBC2x1"
      },
      "source": [
        "from keras.datasets import reuters\n",
        "import numpy as np"
      ],
      "execution_count": 5,
      "outputs": []
    },
    {
      "cell_type": "code",
      "metadata": {
        "id": "gVxN-4XvC9FA"
      },
      "source": [
        "(x_train,y_train),(x_test,y_test) = reuters.load_data(num_words=1000,test_split=0.2)"
      ],
      "execution_count": 6,
      "outputs": []
    },
    {
      "cell_type": "code",
      "metadata": {
        "colab": {
          "base_uri": "https://localhost:8080/"
        },
        "id": "r981R-lYEQK-",
        "outputId": "3523a2cf-65b2-465f-a4e3-199a183c0093"
      },
      "source": [
        "category = np.max(y_train)+1\n",
        "print(category,'카테고리')\n",
        "print(len(x_train),'학습용 뉴스 기사')\n",
        "print(len(x_test), '테스트용 뉴스 기사')\n",
        "print(x_train[0])"
      ],
      "execution_count": 8,
      "outputs": [
        {
          "output_type": "stream",
          "text": [
            "46 카테고리\n",
            "8982 학습용 뉴스 기사\n",
            "2246 테스트용 뉴스 기사\n",
            "[1, 2, 2, 8, 43, 10, 447, 5, 25, 207, 270, 5, 2, 111, 16, 369, 186, 90, 67, 7, 89, 5, 19, 102, 6, 19, 124, 15, 90, 67, 84, 22, 482, 26, 7, 48, 4, 49, 8, 864, 39, 209, 154, 6, 151, 6, 83, 11, 15, 22, 155, 11, 15, 7, 48, 9, 2, 2, 504, 6, 258, 6, 272, 11, 15, 22, 134, 44, 11, 15, 16, 8, 197, 2, 90, 67, 52, 29, 209, 30, 32, 132, 6, 109, 15, 17, 12]\n"
          ],
          "name": "stdout"
        }
      ]
    },
    {
      "cell_type": "markdown",
      "metadata": {
        "id": "lFcnu1HQErNQ"
      },
      "source": [
        "* y_train의 카테고리 개수는 46개\n",
        "* 이 중 8,982개는 학습용, 2,246개는 테스트용으로 분리\n",
        "* 딥러닝은 단어를 그대로 사용하지 않고 숫자로 변환한 다음 학습할 수 있음\n",
        "* 여기서는 데이터 안에서 해당 단어가 몇 번이나 나타나는지 세어 빈도에 따라 번호를 할당\n",
        "  * e.g. 3의 경우 세번째로 빈도가 높은 단어라는 뜻\n",
        "* 이러한 작업을 위해 **tokenizer()**같은 함수를 사용 "
      ]
    },
    {
      "cell_type": "code",
      "metadata": {
        "id": "7iVNb-qaFKFA"
      },
      "source": [
        "from keras.preprocessing import sequence\n",
        "from keras.utils import np_utils\n",
        "# maxlen = 100 단어 수를 100개로 맞추라 (입력된 기사의 단어 수가 100보다 크면 100개째 단어만 선택하고 나머지는 버림)\n",
        "# 100에서 모자라는 경우 모자라는 부분을 모두 0으로 채움\n",
        "x_train = sequence.pad_sequences(x_train, maxlen =100)\n",
        "x_test = sequence.pad_sequences(x_test,maxlen=100)\n",
        "# 원-핫 인코딩\n",
        "y_train = np_utils.to_categorical(y_train)\n",
        "y_test = np_utils.to_categorical(y_test)"
      ],
      "execution_count": 11,
      "outputs": []
    },
    {
      "cell_type": "code",
      "metadata": {
        "id": "p6RR92qkFWML"
      },
      "source": [
        "from keras.models import Sequential\n",
        "from keras.layers import Embedding,LSTM,Dense\n",
        "model = Sequential()\n",
        "model.add(Embedding(1000,100)) # 데이터 전처리 과정을 통해 입력된 값을 받아 다음층이 알아들을 수 있는 형태로 변환하는 역할 Embedding('불러온 단어 총 개수','기사당 단어 수')\n",
        "model.add(LSTM(100, activation='tanh')) # RNN에서 기억 값에 대한 가중치를 제어 LSTM('기사당 단어 수')\n",
        "model.add(Dense(46,activation='softmax'))"
      ],
      "execution_count": 12,
      "outputs": []
    },
    {
      "cell_type": "code",
      "metadata": {
        "id": "NNFhGJBPG5mr"
      },
      "source": [
        "from keras.callbacks import EarlyStopping\n",
        "\n",
        "early_stopping_callback = EarlyStopping(monitor='val_loss',patience=10)"
      ],
      "execution_count": 13,
      "outputs": []
    },
    {
      "cell_type": "code",
      "metadata": {
        "colab": {
          "base_uri": "https://localhost:8080/"
        },
        "id": "TThbgf6JGO6V",
        "outputId": "abf2ee00-2959-46e1-8314-3dbb954e429b"
      },
      "source": [
        "model.compile(loss='categorical_crossentropy',\n",
        "              optimizer='adam',\n",
        "              metrics=['accuracy'])\n",
        "\n",
        "history = model.fit(x_train,y_train,batch_size=100,epochs=20,validation_data=(x_test,y_test),callbacks=early_stopping_callback)\n",
        "\n",
        "print('Test Accuracy : %.4f' %(model.evaluate(x_test,y_test)[1]))\n",
        "\n"
      ],
      "execution_count": 15,
      "outputs": [
        {
          "output_type": "stream",
          "text": [
            "Epoch 1/20\n",
            "90/90 [==============================] - 10s 34ms/step - loss: 2.5662 - accuracy: 0.3608 - val_loss: 2.1089 - val_accuracy: 0.4826\n",
            "Epoch 2/20\n",
            "90/90 [==============================] - 2s 24ms/step - loss: 2.0290 - accuracy: 0.4906 - val_loss: 2.1027 - val_accuracy: 0.4911\n",
            "Epoch 3/20\n",
            "90/90 [==============================] - 2s 24ms/step - loss: 1.8292 - accuracy: 0.5262 - val_loss: 1.7794 - val_accuracy: 0.5436\n",
            "Epoch 4/20\n",
            "90/90 [==============================] - 2s 24ms/step - loss: 1.7782 - accuracy: 0.5484 - val_loss: 1.7390 - val_accuracy: 0.5646\n",
            "Epoch 5/20\n",
            "90/90 [==============================] - 2s 24ms/step - loss: 1.6911 - accuracy: 0.5677 - val_loss: 1.6873 - val_accuracy: 0.5730\n",
            "Epoch 6/20\n",
            "90/90 [==============================] - 2s 24ms/step - loss: 1.5946 - accuracy: 0.5900 - val_loss: 1.6732 - val_accuracy: 0.5623\n",
            "Epoch 7/20\n",
            "90/90 [==============================] - 2s 24ms/step - loss: 1.5352 - accuracy: 0.6043 - val_loss: 1.6174 - val_accuracy: 0.5868\n",
            "Epoch 8/20\n",
            "90/90 [==============================] - 2s 24ms/step - loss: 1.4568 - accuracy: 0.6314 - val_loss: 1.5066 - val_accuracy: 0.6215\n",
            "Epoch 9/20\n",
            "90/90 [==============================] - 2s 24ms/step - loss: 1.3646 - accuracy: 0.6544 - val_loss: 1.4501 - val_accuracy: 0.6269\n",
            "Epoch 10/20\n",
            "90/90 [==============================] - 2s 24ms/step - loss: 1.2835 - accuracy: 0.6789 - val_loss: 1.4298 - val_accuracy: 0.6483\n",
            "Epoch 11/20\n",
            "90/90 [==============================] - 2s 24ms/step - loss: 1.2073 - accuracy: 0.6969 - val_loss: 1.3263 - val_accuracy: 0.6598\n",
            "Epoch 12/20\n",
            "90/90 [==============================] - 2s 24ms/step - loss: 1.1549 - accuracy: 0.7100 - val_loss: 1.3265 - val_accuracy: 0.6679\n",
            "Epoch 13/20\n",
            "90/90 [==============================] - 2s 24ms/step - loss: 1.1106 - accuracy: 0.7208 - val_loss: 1.2808 - val_accuracy: 0.6754\n",
            "Epoch 14/20\n",
            "90/90 [==============================] - 2s 24ms/step - loss: 1.0624 - accuracy: 0.7329 - val_loss: 1.2480 - val_accuracy: 0.6723\n",
            "Epoch 15/20\n",
            "90/90 [==============================] - 2s 24ms/step - loss: 1.0192 - accuracy: 0.7400 - val_loss: 1.2263 - val_accuracy: 0.6883\n",
            "Epoch 16/20\n",
            "90/90 [==============================] - 2s 24ms/step - loss: 0.9665 - accuracy: 0.7545 - val_loss: 1.2314 - val_accuracy: 0.6825\n",
            "Epoch 17/20\n",
            "90/90 [==============================] - 2s 24ms/step - loss: 0.9315 - accuracy: 0.7651 - val_loss: 1.2494 - val_accuracy: 0.6879\n",
            "Epoch 18/20\n",
            "90/90 [==============================] - 2s 24ms/step - loss: 0.8835 - accuracy: 0.7744 - val_loss: 1.2224 - val_accuracy: 0.6941\n",
            "Epoch 19/20\n",
            "90/90 [==============================] - 2s 24ms/step - loss: 0.8354 - accuracy: 0.7880 - val_loss: 1.2102 - val_accuracy: 0.7008\n",
            "Epoch 20/20\n",
            "90/90 [==============================] - 2s 24ms/step - loss: 0.7967 - accuracy: 0.7985 - val_loss: 1.2059 - val_accuracy: 0.7008\n",
            "71/71 [==============================] - 1s 8ms/step - loss: 1.2059 - accuracy: 0.7008\n",
            "Test Accuracy : 0.7008\n"
          ],
          "name": "stdout"
        }
      ]
    },
    {
      "cell_type": "code",
      "metadata": {
        "colab": {
          "base_uri": "https://localhost:8080/",
          "height": 279
        },
        "id": "AvjVwUxzHQYt",
        "outputId": "63e5aa54-37d7-4e36-b257-30071eda6a71"
      },
      "source": [
        "import matplotlib.pyplot as plt\n",
        "\n",
        "y_vloss = history.history['val_loss']\n",
        "y_loss = history.history['loss']\n",
        "\n",
        "x_len = np.arange(len(y_loss))\n",
        "plt.plot(x_len,y_vloss,marker='.',c='red',label = 'Test loss')\n",
        "plt.plot(x_len,y_loss,marker='.',c='blue',label='Train loss')\n",
        "\n",
        "plt.legend(loc='upper right')\n",
        "plt.grid()\n",
        "plt.xlabel('epoch')\n",
        "plt.ylabel('loss')\n",
        "plt.show()"
      ],
      "execution_count": 20,
      "outputs": [
        {
          "output_type": "display_data",
          "data": {
            "image/png": "[encoded data removed]",
            "text/plain": [
              "<Figure size 432x288 with 1 Axes>"
            ]
          },
          "metadata": {
            "needs_background": "light"
          }
        }
      ]
    },
    {
      "cell_type": "code",
      "metadata": {
        "id": "DK-w_jcQHpr6"
      },
      "source": [
        ""
      ],
      "execution_count": null,
      "outputs": []
    }
  ]
}