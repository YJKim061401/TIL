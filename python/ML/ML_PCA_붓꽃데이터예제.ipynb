{
 "cells": [
  {
   "cell_type": "markdown",
   "source": [
    "# 차원축소\n",
    "* 차원축소는 매우 많은 피처로 구성된 다차원 데이터 세트의 차원을 축소해 새로운 차원의 데이터 세트를 생성하는 것\n",
    "* 수백 개 이상의 피처로 구성된 데이터 세트의 경우 상대적으로 적은 차원에서 학습된 모델보다 예측 신뢰도가 떨어짐\n",
    "* 피처가 많을 경우 개별 피처간에 상관관계가 높을 가능성 --> 선형 모델에서는 상관관계가 높을 경우 이로 인한 다중 공선성 문제로 모델의 예측 성능 떨어짐\n",
    "* 다차원의 피처를 차원 축소하여 피처 수를 줄이면 더 직관적으로 데이터 해석 가능"
   ],
   "metadata": {}
  },
  {
   "cell_type": "markdown",
   "source": [
    "# PCA (Principal Component Analysis)\n",
    "* 대표적인 차원 축소 기법\n",
    "* 여러 변수 간에 존재하는 상관관계를 이용해 이를 대표하는 주성분을 추출해 차원을 축소하는 기법\n",
    "* 가장 높은 분산을 가지는 데이터의 축을 찾아 이 축으로 차원을 축소\n",
    "* PCA 수행 순서\n",
    "    1. 입력 데이터 세트의 공분산 행렬을 생성\n",
    "    2. 공분산 행렬의 고유벡터와 고유값을 계산\n",
    "    3. 고유값이 가장 큰 순으로 K개(PCA 변환 차수만큼)만큼 고유벡터를 추출\n",
    "    4. 고유값이 가장 큰 순으로 추출된 고유벡터를 이용해 새롭게 입력 데이터를 변환"
   ],
   "metadata": {}
  },
  {
   "cell_type": "markdown",
   "source": [
    "# 붓꽃 데이터 세트 예제"
   ],
   "metadata": {}
  },
  {
   "cell_type": "code",
   "execution_count": 1,
   "source": [
    "from sklearn.datasets import load_iris\n",
    "import pandas as pd\n",
    "import matplotlib.pyplot as plt\n",
    "%matplotlib inline"
   ],
   "outputs": [],
   "metadata": {}
  },
  {
   "cell_type": "code",
   "execution_count": 13,
   "source": [
    "iris = load_iris()\n",
    "columns = ['sepal_length','sepal_width','petal_length','petal_width']\n",
    "irisDF = pd.DataFrame(iris.data, columns = columns)\n",
    "irisDF['target'] = iris.target\n",
    "\n",
    "print(irisDF.shape)\n",
    "irisDF.head(3)"
   ],
   "outputs": [
    {
     "output_type": "stream",
     "name": "stdout",
     "text": [
      "(150, 5)\n"
     ]
    },
    {
     "output_type": "execute_result",
     "data": {
      "text/plain": [
       "   sepal_length  sepal_width  petal_length  petal_width  target\n",
       "0           5.1          3.5           1.4          0.2       0\n",
       "1           4.9          3.0           1.4          0.2       0\n",
       "2           4.7          3.2           1.3          0.2       0"
      ],
      "text/html": [
       "<div>\n",
       "<style scoped>\n",
       "    .dataframe tbody tr th:only-of-type {\n",
       "        vertical-align: middle;\n",
       "    }\n",
       "\n",
       "    .dataframe tbody tr th {\n",
       "        vertical-align: top;\n",
       "    }\n",
       "\n",
       "    .dataframe thead th {\n",
       "        text-align: right;\n",
       "    }\n",
       "</style>\n",
       "<table border=\"1\" class=\"dataframe\">\n",
       "  <thead>\n",
       "    <tr style=\"text-align: right;\">\n",
       "      <th></th>\n",
       "      <th>sepal_length</th>\n",
       "      <th>sepal_width</th>\n",
       "      <th>petal_length</th>\n",
       "      <th>petal_width</th>\n",
       "      <th>target</th>\n",
       "    </tr>\n",
       "  </thead>\n",
       "  <tbody>\n",
       "    <tr>\n",
       "      <th>0</th>\n",
       "      <td>5.1</td>\n",
       "      <td>3.5</td>\n",
       "      <td>1.4</td>\n",
       "      <td>0.2</td>\n",
       "      <td>0</td>\n",
       "    </tr>\n",
       "    <tr>\n",
       "      <th>1</th>\n",
       "      <td>4.9</td>\n",
       "      <td>3.0</td>\n",
       "      <td>1.4</td>\n",
       "      <td>0.2</td>\n",
       "      <td>0</td>\n",
       "    </tr>\n",
       "    <tr>\n",
       "      <th>2</th>\n",
       "      <td>4.7</td>\n",
       "      <td>3.2</td>\n",
       "      <td>1.3</td>\n",
       "      <td>0.2</td>\n",
       "      <td>0</td>\n",
       "    </tr>\n",
       "  </tbody>\n",
       "</table>\n",
       "</div>"
      ]
     },
     "metadata": {},
     "execution_count": 13
    }
   ],
   "metadata": {}
  },
  {
   "cell_type": "markdown",
   "source": [
    "## 품종에 따른 붓꽃 데이터 세트 분포 시각화"
   ],
   "metadata": {}
  },
  {
   "cell_type": "code",
   "execution_count": 3,
   "source": [
    "markers = ['^','s','o']\n",
    "plt.figure(figsize=(8,6))\n",
    "for i, marker in enumerate(markers):\n",
    "    x_axis_data = irisDF[irisDF['target']==i]['sepal_length']\n",
    "    y_axis_data = irisDF[irisDF['target']==i]['sepal_width']\n",
    "    \n",
    "    plt.scatter(x_axis_data,y_axis_data,marker=marker,label=iris.target_names[i])\n",
    "\n",
    "plt.legend()\n",
    "plt.xlabel('sepal length')\n",
    "plt.ylabel('sepal width')\n",
    "plt.show()\n",
    "\n",
    "# 결과\n",
    "# setosa를 명확히 구분\n",
    "# versicolor랑 virginica 섞여있음"
   ],
   "outputs": [
    {
     "output_type": "display_data",
     "data": {
      "text/plain": [
       "<Figure size 576x432 with 1 Axes>"
      ],
      "image/png": "[encoded data removed]"
     },
     "metadata": {
      "needs_background": "light"
     }
    }
   ],
   "metadata": {}
  },
  {
   "cell_type": "markdown",
   "source": [
    "## 개별 속성 스케일링\n",
    "* PCA는 여러 속성의 값을 연산해야 하므로 속성의 스케일에 영향 받음\n",
    "* 따라서 여러 속성을 PCA로 압축하기 전에 각 속성값을 동일한 스케일로 변환하는 것이 필요"
   ],
   "metadata": {}
  },
  {
   "cell_type": "code",
   "execution_count": 6,
   "source": [
    "from sklearn.preprocessing import StandardScaler\n",
    "\n",
    "# target값을 제외한 모든 속성 값을 StandardScaler를 이용해 표준 정규 분포를 가지는 값들로 변환\n",
    "iris_scaled = StandardScaler().fit_transform(irisDF.iloc[:,:-1])"
   ],
   "outputs": [],
   "metadata": {}
  },
  {
   "cell_type": "markdown",
   "source": [
    "## 스케일링이 적용된 데이터 세트에 PCA적용\n",
    "* 4차원 (4개 속성)의 붓꽃 데이터를 2차원 (2개의 PCA 속성) PCA 데이터로 변환"
   ],
   "metadata": {}
  },
  {
   "cell_type": "markdown",
   "source": [
    "* fit(), transform(), fit_transform() 차이점  \n",
    "https://www.analyticsvidhya.com/blog/2021/04/difference-between-fit-transform-fit_transform-methods-in-scikit-learn-with-python-code/"
   ],
   "metadata": {}
  },
  {
   "cell_type": "code",
   "execution_count": 11,
   "source": [
    "\n",
    "from sklearn.decomposition import PCA\n",
    "\n",
    "# n_components는 PCA로 변환할 차원의 수를 의미 \n",
    "pca = PCA(n_components=2)\n",
    "\n",
    "# fit(), transform()을 호출해 PCA 변환 데이터 반환 \n",
    "\n",
    "#pca.fit(iris_scaled)\n",
    "#iris_pca = pca.transform(iris_scaled)\n",
    "iris_pca = pca.fit_transform(iris_scaled)\n",
    "print(iris_pca.shape)\n",
    "print(type(iris_pca))\n",
    "\n",
    "# 결과\n",
    "# 원본 데이터 세트(150,5)를 (150,2) 데이터 세트로 반환\n",
    "# 넘파이 행렬\n",
    "# ndarray를 dataframe으로 변경 필요함 \n"
   ],
   "outputs": [
    {
     "output_type": "stream",
     "name": "stdout",
     "text": [
      "(150, 2)\n",
      "<class 'numpy.ndarray'>\n"
     ]
    }
   ],
   "metadata": {}
  },
  {
   "cell_type": "code",
   "execution_count": 29,
   "source": [
    "# dataframe으로 변경\n",
    "pca_columns = ['pca_component_1','pca_component_2']\n",
    "irisDF_pca = pd.DataFrame(iris_pca,columns=pca_columns)\n",
    "irisDF_pca['target'] = iris.target\n",
    "irisDF_pca.head(3)"
   ],
   "outputs": [
    {
     "output_type": "execute_result",
     "data": {
      "text/plain": [
       "   pca_component_1  pca_component_2  target\n",
       "0        -2.264703         0.480027       0\n",
       "1        -2.080961        -0.674134       0\n",
       "2        -2.364229        -0.341908       0"
      ],
      "text/html": [
       "<div>\n",
       "<style scoped>\n",
       "    .dataframe tbody tr th:only-of-type {\n",
       "        vertical-align: middle;\n",
       "    }\n",
       "\n",
       "    .dataframe tbody tr th {\n",
       "        vertical-align: top;\n",
       "    }\n",
       "\n",
       "    .dataframe thead th {\n",
       "        text-align: right;\n",
       "    }\n",
       "</style>\n",
       "<table border=\"1\" class=\"dataframe\">\n",
       "  <thead>\n",
       "    <tr style=\"text-align: right;\">\n",
       "      <th></th>\n",
       "      <th>pca_component_1</th>\n",
       "      <th>pca_component_2</th>\n",
       "      <th>target</th>\n",
       "    </tr>\n",
       "  </thead>\n",
       "  <tbody>\n",
       "    <tr>\n",
       "      <th>0</th>\n",
       "      <td>-2.264703</td>\n",
       "      <td>0.480027</td>\n",
       "      <td>0</td>\n",
       "    </tr>\n",
       "    <tr>\n",
       "      <th>1</th>\n",
       "      <td>-2.080961</td>\n",
       "      <td>-0.674134</td>\n",
       "      <td>0</td>\n",
       "    </tr>\n",
       "    <tr>\n",
       "      <th>2</th>\n",
       "      <td>-2.364229</td>\n",
       "      <td>-0.341908</td>\n",
       "      <td>0</td>\n",
       "    </tr>\n",
       "  </tbody>\n",
       "</table>\n",
       "</div>"
      ]
     },
     "metadata": {},
     "execution_count": 29
    }
   ],
   "metadata": {}
  },
  {
   "cell_type": "markdown",
   "source": [
    "## 2개의 속성으로 PCA 변환된 데이터 세트를 2차원 시각화"
   ],
   "metadata": {}
  },
  {
   "cell_type": "code",
   "execution_count": 16,
   "source": [
    "markers = ['^','s','o']\n",
    "plt.figure(figsize=(8,6))\n",
    "for i, marker in enumerate(markers):\n",
    "    x_axis_data = irisDF_pca[irisDF_pca['target']==i]['pca_component_1']\n",
    "    y_axis_data = irisDF_pca[irisDF_pca['target']==i]['pca_component_2']\n",
    "    plt.scatter(x_axis_data,y_axis_data,marker=marker,label=iris.target_names[i])\n",
    "\n",
    "plt.legend()\n",
    "plt.xlabel('pca_component_1')\n",
    "plt.ylabel('pca_component_2')\n",
    "plt.show()\n",
    "\n",
    "# 결과\n",
    "# setosa품종 명확히 구분 가능\n",
    "# versicolor와 virginica도 서로 겹치는 부분이 일부 존재하지만 비교적 잘 구분 "
   ],
   "outputs": [
    {
     "output_type": "display_data",
     "data": {
      "text/plain": [
       "<Figure size 576x432 with 1 Axes>"
      ],
      "image/png": "[encoded data removed]"
     },
     "metadata": {
      "needs_background": "light"
     }
    }
   ],
   "metadata": {}
  },
  {
   "cell_type": "markdown",
   "source": [
    "# PCA Component별로 원본 데이터의 변동성을 얼마나 반영하는지 알아보기\n",
    "# explained_variance_ratio_ 이용"
   ],
   "metadata": {}
  },
  {
   "cell_type": "code",
   "execution_count": 17,
   "source": [
    "print(pca.explained_variance_ratio_)\n",
    "\n",
    "# 결과\n",
    "# 첫번째 PCA 변환 요소인 pca_component_1이 전체 변동성의 약 72.9%를 차지\n",
    "# 두번째 PCA 변환 요소인 pca_component_2가 약 22.8% 차지\n",
    "# 따라서 PCA를 2개 요소로만 변환해도 원본 데이터의 변동성을 95% 설명가능"
   ],
   "outputs": [
    {
     "output_type": "stream",
     "name": "stdout",
     "text": [
      "[0.72962445 0.22850762]\n"
     ]
    }
   ],
   "metadata": {}
  },
  {
   "cell_type": "markdown",
   "source": [
    "# 원본 붓꽃 데이터 세트와 PCA로 변환된 붓꽃 데이터 세트 분류 결과 비교"
   ],
   "metadata": {}
  },
  {
   "cell_type": "code",
   "execution_count": 36,
   "source": [
    "from sklearn.ensemble import RandomForestClassifier\n",
    "from sklearn.model_selection import cross_val_score\n",
    "import numpy as np\n",
    "\n",
    "rcf = RandomForestClassifier(random_state=156)\n",
    "\n",
    "scores = cross_val_score(rcf,iris.data,iris.target,scoring='accuracy',cv=3)\n",
    "print('원본 데이터 교차 검증 개별 정확도 : ',scores)\n",
    "print('원본 데이터 평균 정확도 : ',np.mean(scores))\n",
    "\n",
    "pca_x = irisDF_pca[['pca_component_1','pca_component_2']]\n",
    "scores_pca = cross_val_score(rcf,pca_x,iris.target, scoring='accuracy',cv=3)\n",
    "print('PCA 변환 데이터 교차 검증 개별 정확도 : ',scores_pca)\n",
    "print('PCA 변환 데이터 평균 정확도 : ',np.mean(scores_pca))\n",
    "\n",
    "# 결과\n",
    "# 원본 데이터 세트 대비 PCA 예측 정확도는 낮아짐 (4개의 속성이 2개 변환 속성으로 감소하면서 예측 성능의 정확도가 원본 데이터 대비 10%하락)\n",
    "# PCA 변환 차원 개수에 따라 예측 성능이 떨어질 수 밖에 없다\n",
    "# 그래도 4개 속성에서 2개 속성으로 속성 개수가 50% 감소한 것이 비해서는 PCA변환 후에도 원본 데이터 특성을 상당 부분 유지 "
   ],
   "outputs": [
    {
     "output_type": "stream",
     "name": "stdout",
     "text": [
      "원본 데이터 교차 검증 개별 정확도 :  [0.98 0.94 0.96]\n",
      "원본 데이터 평균 정확도 :  0.96\n",
      "PCA 변환 데이터 교차 검증 개별 정확도 :  [0.88 0.88 0.88]\n",
      "PCA 변환 데이터 평균 정확도 :  0.88\n"
     ]
    }
   ],
   "metadata": {}
  },
  {
   "cell_type": "code",
   "execution_count": null,
   "source": [],
   "outputs": [],
   "metadata": {}
  }
 ],
 "metadata": {
  "orig_nbformat": 4,
  "language_info": {
   "name": "python",
   "version": "3.7.11",
   "mimetype": "text/x-python",
   "codemirror_mode": {
    "name": "ipython",
    "version": 3
   },
   "pygments_lexer": "ipython3",
   "nbconvert_exporter": "python",
   "file_extension": ".py"
  },
  "kernelspec": {
   "name": "python3",
   "display_name": "Python 3.7.11 64-bit (conda)"
  },
  "interpreter": {
   "hash": "074a5b0c1e18a489d8067afae6991c48070b162460e84d6237c3feba98d7279e"
  }
 },
 "nbformat": 4,
 "nbformat_minor": 2
}