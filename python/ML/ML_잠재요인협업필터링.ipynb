{
 "cells": [
  {
   "cell_type": "markdown",
   "source": [
    "# 잠재요인 협업 필터링"
   ],
   "metadata": {}
  },
  {
   "cell_type": "markdown",
   "source": [
    "잠재 요인 협업 필터링\n",
    "- 사용자-아이템 평점 행렬 속에 숨어 있는 잠재 요인을 추출해서\n",
    "- 추천 예측을 수행하는 기법\n",
    "- 대규모 다차원 행렬을 분해하는 과정에서 잠재 요인을 추출하고\n",
    "- 잠재 요인 기반으로 사용자-아이템 평점 행렬을 재 구성하면서 추천 구현\n",
    "- 넷플릭스 경연 대회에서 사용되면서 유명해짐\n",
    "\n",
    "- 사용자-아이템 평점 행렬 데이터만을 이용해 '잠재 요인'을 끄집어 내는 것을 의미하는데\n",
    "- 사실 잠재 요인을 무엇이다라고 특징짓기는 어려움\n",
    "- 그러나 잠재 요인을 기반으로 다차원 희소 행렬인 사용자-아이템 행렬 데이터를\n",
    "- 저차원 밀집 행렬의 사용자-잠재 요인 행렬과 \n",
    "- 아이템-잠재 요인 행렬의 전치 행렬(잠재요인-아이템 행렬)로 분해할 수 있고\n",
    "- 이렇게 분해된 두 행렬의 내적 곱으로 결합하면서 새로운 예측 사용자-아이템 평점 행렬 데이터를 만들어\n",
    "- 사용자가 아직 평점을 부여하지 않은 아이템에 대한 예측 평점을 생성하는 것이\n",
    "- 잠재 요인 협력 필터링 알고리즘의 핵심"
   ],
   "metadata": {}
  },
  {
   "cell_type": "markdown",
   "source": [
    "- 행렬 분해에 의해 추출되는 잠재 요인이 정확히 어떤 것인지는 알 수 없지만\n",
    "- 영화 평점 기반의 사용자-아이템 평점 행렬 데이터인 경우\n",
    "- 영화가 가지는 장르별 선호도를 잠재 요인으로 가정할 수 있음\n",
    "\n",
    "- 즉, 사용자-잠재 요인 행렬 : 사용자의 영화 장르에 대한 선호도를 잠재 요인으로 정의\n",
    "- 아이템-잠재 요인 행렬 : 영화의 장르별 특성 값을 잠재 요인으로 정의\n",
    "\n",
    "평점이란 \n",
    "- 사용자의 특정 영화 장르에 대한 선호도와 \n",
    "- 개별 영화의 그 장르적 특성값을 반영해서 결정된다고 생각할 수 있음\n",
    "- 예로, 사용자가 액션 영화를 매우 좋아하고, \n",
    "- 특정 영화가 액션 영화의 특성이 매우 크다면\n",
    "- 사용자가 해당 영화에 높은 평점을 줄 것임\n",
    "- 따라서 평점은 사용자의 장르별 선호도 벡터와\n",
    "- 영화의 장르별 특성 벡터를 서로 곱해서 만들 수 있음"
   ],
   "metadata": {}
  },
  {
   "cell_type": "markdown",
   "source": [
    "### 행렬 분해를 이용한 잠재 요인 협업 필터링 예제"
   ],
   "metadata": {}
  },
  {
   "cell_type": "code",
   "execution_count": 5,
   "source": [
    "# 행렬 분해하는 함수\n",
    "\n",
    "def matrix_factorization(R, K, steps=200, learning_rate=0.01, r_lambda = 0.01):\n",
    "    num_users, num_items = R.shape\n",
    "    # P와 Q 매트릭스의 크기를 지정하고 정규분포를 가진 랜덤한 값으로 입력합니다. \n",
    "    np.random.seed(1)\n",
    "    P = np.random.normal(scale=1./K, size=(num_users, K))\n",
    "    Q = np.random.normal(scale=1./K, size=(num_items, K))\n",
    "\n",
    "    break_count = 0\n",
    "       \n",
    "    # R > 0 인 행 위치, 열 위치, 값을 non_zeros 리스트 객체에 저장. \n",
    "    non_zeros = [ (i, j, R[i,j]) for i in range(num_users) for j in range(num_items) if R[i,j] > 0 ]"
   ],
   "outputs": [],
   "metadata": {}
  },
  {
   "cell_type": "code",
   "execution_count": 8,
   "source": [
    "# SGD기법으로 P와 Q 매트릭스를 계속 업데이트. \n",
    "for step in range(steps):\n",
    "    for i, j, r in non_zeros:\n",
    "        # 실제 값과 예측 값의 차이인 오류 값 구함\n",
    "        eij = r - np.dot(P[i, :], Q[j, :].T)\n",
    "            # Regularization을 반영한 SGD 업데이트 공식 적용\n",
    "        P[i,:] = P[i,:] + learning_rate*(eij * Q[j, :] - r_lambda*P[i,:])\n",
    "        Q[j,:] = Q[j,:] + learning_rate*(eij * P[i, :] - r_lambda*Q[j,:])\n",
    "       \n",
    "    rmse = get_rmse(R, P, Q, non_zeros)\n",
    "    if (step % 10) == 0 :\n",
    "        print(\"### iteration step : \", step,\" rmse : \", rmse)\n",
    "            \n",
    "return P, Q"
   ],
   "outputs": [
    {
     "output_type": "error",
     "ename": "NameError",
     "evalue": "name 'steps' is not defined",
     "traceback": [
      "\u001b[0;31m---------------------------------------------------------------------------\u001b[0m",
      "\u001b[0;31mNameError\u001b[0m                                 Traceback (most recent call last)",
      "\u001b[0;32m/var/folders/pg/0myp1pkj4hx2g332v5yjb5vr0000gn/T/ipykernel_32723/1081825478.py\u001b[0m in \u001b[0;36m<module>\u001b[0;34m\u001b[0m\n\u001b[1;32m      1\u001b[0m \u001b[0;31m# SGD기법으로 P와 Q 매트릭스를 계속 업데이트.\u001b[0m\u001b[0;34m\u001b[0m\u001b[0;34m\u001b[0m\u001b[0;34m\u001b[0m\u001b[0m\n\u001b[0;32m----> 2\u001b[0;31m \u001b[0;32mfor\u001b[0m \u001b[0mstep\u001b[0m \u001b[0;32min\u001b[0m \u001b[0mrange\u001b[0m\u001b[0;34m(\u001b[0m\u001b[0msteps\u001b[0m\u001b[0;34m)\u001b[0m\u001b[0;34m:\u001b[0m\u001b[0;34m\u001b[0m\u001b[0;34m\u001b[0m\u001b[0m\n\u001b[0m\u001b[1;32m      3\u001b[0m     \u001b[0;32mfor\u001b[0m \u001b[0mi\u001b[0m\u001b[0;34m,\u001b[0m \u001b[0mj\u001b[0m\u001b[0;34m,\u001b[0m \u001b[0mr\u001b[0m \u001b[0;32min\u001b[0m \u001b[0mnon_zeros\u001b[0m\u001b[0;34m:\u001b[0m\u001b[0;34m\u001b[0m\u001b[0;34m\u001b[0m\u001b[0m\n\u001b[1;32m      4\u001b[0m         \u001b[0;31m# 실제 값과 예측 값의 차이인 오류 값 구함\u001b[0m\u001b[0;34m\u001b[0m\u001b[0;34m\u001b[0m\u001b[0;34m\u001b[0m\u001b[0m\n\u001b[1;32m      5\u001b[0m         \u001b[0meij\u001b[0m \u001b[0;34m=\u001b[0m \u001b[0mr\u001b[0m \u001b[0;34m-\u001b[0m \u001b[0mnp\u001b[0m\u001b[0;34m.\u001b[0m\u001b[0mdot\u001b[0m\u001b[0;34m(\u001b[0m\u001b[0mP\u001b[0m\u001b[0;34m[\u001b[0m\u001b[0mi\u001b[0m\u001b[0;34m,\u001b[0m \u001b[0;34m:\u001b[0m\u001b[0;34m]\u001b[0m\u001b[0;34m,\u001b[0m \u001b[0mQ\u001b[0m\u001b[0;34m[\u001b[0m\u001b[0mj\u001b[0m\u001b[0;34m,\u001b[0m \u001b[0;34m:\u001b[0m\u001b[0;34m]\u001b[0m\u001b[0;34m.\u001b[0m\u001b[0mT\u001b[0m\u001b[0;34m)\u001b[0m\u001b[0;34m\u001b[0m\u001b[0;34m\u001b[0m\u001b[0m\n",
      "\u001b[0;31mNameError\u001b[0m: name 'steps' is not defined"
     ]
    }
   ],
   "metadata": {}
  },
  {
   "cell_type": "code",
   "execution_count": 10,
   "source": [
    "# 데이터 로드 및 사용자-아이템 평점 행렬 생성\n",
    "\n",
    "import pandas as pd\n",
    "import numpy as np\n",
    "\n",
    "movies = pd.read_csv('./data/movielens/movies.csv')\n",
    "ratings = pd.read_csv('./data/movielens/ratings.csv')\n",
    "ratings = ratings[['userId', 'movieId', 'rating']]\n",
    "ratings_matrix = ratings.pivot_table('rating', index='userId', columns='movieId')\n",
    "\n",
    "# title 컬럼을 얻기 이해 movies 와 조인 수행\n",
    "rating_movies = pd.merge(ratings, movies, on='movieId')\n",
    "\n",
    "# columns='title' 로 title 컬럼으로 pivot 수행. \n",
    "ratings_matrix = rating_movies.pivot_table('rating', index='userId', columns='title')"
   ],
   "outputs": [],
   "metadata": {}
  },
  {
   "cell_type": "code",
   "execution_count": null,
   "source": [],
   "outputs": [],
   "metadata": {}
  },
  {
   "cell_type": "code",
   "execution_count": null,
   "source": [],
   "outputs": [],
   "metadata": {}
  }
 ],
 "metadata": {
  "orig_nbformat": 4,
  "language_info": {
   "name": "python",
   "version": "3.8.10",
   "mimetype": "text/x-python",
   "codemirror_mode": {
    "name": "ipython",
    "version": 3
   },
   "pygments_lexer": "ipython3",
   "nbconvert_exporter": "python",
   "file_extension": ".py"
  },
  "kernelspec": {
   "name": "python3",
   "display_name": "Python 3.8.10 64-bit (conda)"
  },
  "interpreter": {
   "hash": "0fe39fe9846eadbbda754eccc09528869ff425bbcad903b7794e5d99e343ff0e"
  }
 },
 "nbformat": 4,
 "nbformat_minor": 2
}