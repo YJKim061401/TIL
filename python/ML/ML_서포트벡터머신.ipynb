{
 "cells": [
  {
   "cell_type": "markdown",
   "id": "36af2e5d",
   "metadata": {},
   "source": [
    "* 서포트 벡터 머신 장점\n",
    "    * 속도가 빠르다\n",
    "    * 대부분의 머신러닝 지도학습 알고리즘들이 학습 데이터를 모두 사용하여 모델을 학습하는 반면 SVM은 결정 경계를 정의하는 서포트 벡터만 잘 골라내면\n",
    "    * 나머지 중요하지 않은 수 많은 데이터 포인트들을 무시할 수 있기 때문에\n",
    "    * 속도가 매우 빠름"
   ]
  },
  {
   "cell_type": "markdown",
   "id": "f196736b",
   "metadata": {},
   "source": [
    "* 하드 마진 (hard margin)\n",
    "    * 모든 학습 샘플이 경계 바깥쪽에 올바르게 분류되도록 하는 마진 분류\n",
    "    * 훈련 세트가 선형적으로 구분되는 경우에만 가능\n",
    "    * 아웃라이어를 허용하지 않고 기준을 까다롭게 설정\n",
    "    * 서포트 벡터와 결정 경계 사이의 거리가 좁음\n",
    "    * 즉, 마진이 작아짐\n",
    "    * 이 경우, 오버피팅 (과적합) 발생 "
   ]
  },
  {
   "cell_type": "markdown",
   "id": "bbca0e71",
   "metadata": {},
   "source": [
    "* 소프트 마진 (soft margin)\n",
    "    * 마진 위반 (margin violation) 사례의 발생 정도를 조절하면서\n",
    "    * 결정 경계의 폭을 최대로 유지하는 마진 분류\n",
    "    * 마진 위반 : 학습 샘플이 결정 경계를 넘어 해당 클래스 반대편에 위치하는 샘플 \n",
    "    * 마진 안에 아웃라이어 포함시켜 결정 계를 느슨하게 설정\n",
    "    * 서포트 벡터와 결정 경계 사이의 거리가 멀어짐\n",
    "    * 마진이 커짐\n",
    "    * 이 경우 언더피팅 (과소적합) 발생 가능 "
   ]
  },
  {
   "cell_type": "markdown",
   "id": "8375f7fc",
   "metadata": {},
   "source": [
    "* 사이킷런의 SVM 클래스 사용\n",
    "    * SVM 클래스 최적화 할때\n",
    "    * 하드마진과 소프트 마진을 설정하기 위해 C (cost) 파라미터 사용\n",
    "    * C : 규제 강도\n",
    "        * 값이 클수록 하드 마진\n",
    "        * 값이 작을수록 소프트 마진\n",
    "        * 적절한 C값을 찾는 것이 중요\n"
   ]
  },
  {
   "cell_type": "markdown",
   "id": "5324a5b7",
   "metadata": {},
   "source": [
    "* 서포트 벡터 유형\n",
    "    * 선형 SVM\n",
    "    * 비선형 SVM\n",
    "        * 커널 기법 사용\n",
    "        * 입력 자료를 다차원 공간으로 맵핑하는 기법\n",
    "        * 비선형 분류도 효율적으로 수행\n",
    "* 커널 기법\n",
    "    * 주어진 데이터를 고차원 공간으로 매핑하는 것\n",
    "    * 고차원 공간에 매핑되고 나면 원래 차원에서는 보이지 않던 선형 분류 방법이 보임 "
   ]
  },
  {
   "cell_type": "markdown",
   "id": "ed3de393",
   "metadata": {},
   "source": [
    "* SVM에서 데이터를 고차원 공간에 매핑하는 방법 크게 2가지\n",
    "1. 다항식 커널 SVM\n",
    "    * 개체간의 고차원 상의 관계를 계산하여\n",
    "    * 소프트 마진 분류기로 찾아내는 방식 \n",
    "    * 원래 특성의 가능한 조합을 지정된 차수까지 모두 계산 \n",
    "2. RBF(Radical Basis Function)\n",
    "    * 방사 기저 함수\n",
    "    * 가우시안 분포와 유사해서 가우시안 커널로도 불림\n",
    "    * 유사성 또는 서로 얼마나 가까운지를 계산\n",
    "    * 다항식 커널의 경우 일부 지정된 차수까지만 계산하지만\n",
    "    * RFB는 무한하게 확장\n",
    "    * 모든 차수의 다항식을 고려\n",
    "    * 선형 SVM으로 분류하기 어려운 경우 가장 널리 사용하는 방식"
   ]
  },
  {
   "cell_type": "code",
   "execution_count": 4,
   "id": "b70e1122",
   "metadata": {},
   "outputs": [],
   "source": [
    "import numpy as np\n",
    "from sklearn.datasets import load_iris\n",
    "from sklearn.model_selection import train_test_split\n",
    "from sklearn.preprocessing import StandardScaler\n",
    "from sklearn.metrics import accuracy_score\n",
    "import matplotlib as mpl\n",
    "import matplotlib.pyplot as plt\n",
    "%matplotlib inline"
   ]
  },
  {
   "cell_type": "code",
   "execution_count": 5,
   "id": "38a8f0ad",
   "metadata": {},
   "outputs": [
    {
     "name": "stdout",
     "output_type": "stream",
     "text": [
      "Unknown system...  sorry~~~\n"
     ]
    }
   ],
   "source": [
    "# 한글 문제\n",
    "# matplotlib의 기본 폰트에서 한글이 지원되지 않기 때문에\n",
    "# matplotlib의 폰트 변경 필요\n",
    "import platform\n",
    "\n",
    "from matplotlib import font_manager, rc\n",
    "plt.rcParams['axes.unicode_minus'] = False\n",
    "\n",
    "if platform.system() == 'Darwin':  # 맥OS \n",
    "    rc('font', family='AppleGothic')\n",
    "elif platform.system() == 'Windows':  # 윈도우\n",
    "    path = \"c:/Windows/Fonts/malgun.ttf\"\n",
    "    font_name = font_manager.FontProperties(fname=path).get_name()\n",
    "    rc('font', family=font_name)\n",
    "else:\n",
    "    print('Unknown system...  sorry~~~')"
   ]
  },
  {
   "cell_type": "code",
   "execution_count": null,
   "id": "b67c3439",
   "metadata": {},
   "outputs": [],
   "source": [
    "iris = load_iris()\n",
    "X = iris.data[:,[2,3]] # 세번째, 네번째\n",
    "# petal_length(꽃잎 길이)와 petal_width (꽃잎의 너비)\n",
    "\n",
    "x_train,x_test,y_train,y_test = train_test_split(x,y,test_size=0.3,random_state=0)\n",
    "\n",
    "\n",
    "# 정규화\n",
    "sc = StandardScaler()\n",
    "sc.fit(X_train)\n",
    "x_train_scaled = sc.transform(x_train)\n",
    "x_test_scaled = sc.transform(x_test)"
   ]
  }
 ],
 "metadata": {
  "kernelspec": {
   "display_name": "YEJI_ENV",
   "language": "python",
   "name": "yejienv"
  },
  "language_info": {
   "codemirror_mode": {
    "name": "ipython",
    "version": 3
   },
   "file_extension": ".py",
   "mimetype": "text/x-python",
   "name": "python",
   "nbconvert_exporter": "python",
   "pygments_lexer": "ipython3",
   "version": "3.7.11"
  }
 },
 "nbformat": 4,
 "nbformat_minor": 5
}
