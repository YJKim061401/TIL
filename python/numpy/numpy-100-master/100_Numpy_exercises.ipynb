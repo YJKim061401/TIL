{
 "cells": [
  {
   "cell_type": "markdown",
   "metadata": {},
   "source": [
    "# 100 numpy exercises\n",
    "\n",
    "This is a collection of exercises that have been collected in the numpy mailing list, on stack overflow\n",
    "and in the numpy documentation. The goal of this collection is to offer a quick reference for both old\n",
    "and new users but also to provide a set of exercises for those who teach.\n",
    "\n",
    "\n",
    "If you find an error or think you've a better way to solve some of them, feel\n",
    "free to open an issue at <https://github.com/rougier/numpy-100>."
   ]
  },
  {
   "cell_type": "markdown",
   "metadata": {},
   "source": [
    "File automatically generated. See the documentation to update questions/answers/hints programmatically."
   ]
  },
  {
   "cell_type": "markdown",
   "metadata": {},
   "source": [
    "Run the `initialize.py` module, then for each question you can query the\n",
    "answer or an hint with `hint(n)` or `answer(n)` for `n` question number."
   ]
  },
  {
   "cell_type": "code",
   "execution_count": 1,
   "metadata": {},
   "outputs": [],
   "source": [
    "%run initialise.py"
   ]
  },
  {
   "cell_type": "markdown",
   "metadata": {},
   "source": [
    "#### 1. Import the numpy package under the name `np` (★☆☆)"
   ]
  },
  {
   "cell_type": "code",
   "execution_count": 2,
   "metadata": {},
   "outputs": [],
   "source": [
    "import numpy as np"
   ]
  },
  {
   "cell_type": "markdown",
   "metadata": {},
   "source": [
    "#### 2. Print the numpy version and the configuration (★☆☆)"
   ]
  },
  {
   "cell_type": "code",
   "execution_count": 4,
   "metadata": {},
   "outputs": [
    {
     "name": "stdout",
     "output_type": "stream",
     "text": [
      "1.19.2\n"
     ]
    }
   ],
   "source": [
    "print(np.__version__)"
   ]
  },
  {
   "cell_type": "markdown",
   "metadata": {},
   "source": [
    "#### 3. Create a null vector of size 10 (★☆☆)"
   ]
  },
  {
   "cell_type": "code",
   "execution_count": 6,
   "metadata": {},
   "outputs": [
    {
     "data": {
      "text/plain": [
       "array([0., 0., 0., 0., 0., 0., 0., 0., 0., 0.])"
      ]
     },
     "execution_count": 6,
     "metadata": {},
     "output_type": "execute_result"
    }
   ],
   "source": [
    "a = np.zeros(10)\n",
    "a"
   ]
  },
  {
   "cell_type": "code",
   "execution_count": 7,
   "metadata": {},
   "outputs": [
    {
     "name": "stdout",
     "output_type": "stream",
     "text": [
      "Z = np.zeros(10)\n",
      "print(Z)\n"
     ]
    }
   ],
   "source": [
    "answer(3)"
   ]
  },
  {
   "cell_type": "markdown",
   "metadata": {},
   "source": [
    "#### 4. How to find the memory size of any array (★☆☆)"
   ]
  },
  {
   "cell_type": "code",
   "execution_count": 8,
   "metadata": {},
   "outputs": [
    {
     "name": "stdout",
     "output_type": "stream",
     "text": [
      "Z = np.zeros((10,10))\n",
      "print(\"%d bytes\" % (Z.size * Z.itemsize))\n"
     ]
    }
   ],
   "source": [
    "answer(4)"
   ]
  },
  {
   "cell_type": "code",
   "execution_count": 29,
   "metadata": {},
   "outputs": [
    {
     "name": "stdout",
     "output_type": "stream",
     "text": [
      "800 bytes\n",
      "배열에 저장되어 있는 요소의 메모리 사이즈는 size로 알 수 있다. 100\n",
      "한 바이트가 8비트 8\n",
      "800\n",
      "float64\n"
     ]
    }
   ],
   "source": [
    "z = np.zeros((10,10))\n",
    "print('%d bytes'%(z.size*z.itemsize))\n",
    "print('배열에 저장되어 있는 요소의 메모리 사이즈는 size로 알 수 있다.',z.size)\n",
    "print('한 바이트가 8비트',z.itemsize)\n",
    "print(z.size*z.itemsize)\n",
    "print(z.dtype)"
   ]
  },
  {
   "cell_type": "markdown",
   "metadata": {},
   "source": [
    "#### 5. How to get the documentation of the numpy add function from the command line? (★☆☆)"
   ]
  },
  {
   "cell_type": "code",
   "execution_count": 35,
   "metadata": {},
   "outputs": [
    {
     "name": "stdout",
     "output_type": "stream",
     "text": [
      "add(x1, x2, /, out=None, *, where=True, casting='same_kind', order='K', dtype=None, subok=True[, signature, extobj])\n",
      "\n",
      "Add arguments element-wise.\n",
      "\n",
      "Parameters\n",
      "----------\n",
      "x1, x2 : array_like\n",
      "    The arrays to be added.\n",
      "    If ``x1.shape != x2.shape``, they must be broadcastable to a common\n",
      "    shape (which becomes the shape of the output).\n",
      "out : ndarray, None, or tuple of ndarray and None, optional\n",
      "    A location into which the result is stored. If provided, it must have\n",
      "    a shape that the inputs broadcast to. If not provided or None,\n",
      "    a freshly-allocated array is returned. A tuple (possible only as a\n",
      "    keyword argument) must have length equal to the number of outputs.\n",
      "where : array_like, optional\n",
      "    This condition is broadcast over the input. At locations where the\n",
      "    condition is True, the `out` array will be set to the ufunc result.\n",
      "    Elsewhere, the `out` array will retain its original value.\n",
      "    Note that if an uninitialized `out` array is created via the default\n",
      "    ``out=None``, locations within it where the condition is False will\n",
      "    remain uninitialized.\n",
      "**kwargs\n",
      "    For other keyword-only arguments, see the\n",
      "    :ref:`ufunc docs <ufuncs.kwargs>`.\n",
      "\n",
      "Returns\n",
      "-------\n",
      "add : ndarray or scalar\n",
      "    The sum of `x1` and `x2`, element-wise.\n",
      "    This is a scalar if both `x1` and `x2` are scalars.\n",
      "\n",
      "Notes\n",
      "-----\n",
      "Equivalent to `x1` + `x2` in terms of array broadcasting.\n",
      "\n",
      "Examples\n",
      "--------\n",
      ">>> np.add(1.0, 4.0)\n",
      "5.0\n",
      ">>> x1 = np.arange(9.0).reshape((3, 3))\n",
      ">>> x2 = np.arange(3.0)\n",
      ">>> np.add(x1, x2)\n",
      "array([[  0.,   2.,   4.],\n",
      "       [  3.,   5.,   7.],\n",
      "       [  6.,   8.,  10.]])\n"
     ]
    }
   ],
   "source": [
    "np.info(np.add)"
   ]
  },
  {
   "cell_type": "code",
   "execution_count": 4,
   "metadata": {},
   "outputs": [
    {
     "name": "stdout",
     "output_type": "stream",
     "text": [
      "Search results for 'add'\n",
      "------------------------\n",
      "numpy.add\n",
      "    Add arguments element-wise.\n",
      "numpy.logaddexp\n",
      "    Logarithm of the sum of exponentiations of the inputs.\n",
      "numpy.add_newdoc\n",
      "    Add documentation to an existing object, typically one defined in C\n",
      "numpy.logaddexp2\n",
      "    Logarithm of the sum of exponentiations of the inputs in base-2.\n",
      "numpy.ma.add\n",
      "    Add arguments element-wise.\n",
      "numpy.add_docstring\n",
      "    Add a docstring to a built-in obj if possible.\n",
      "numpy.quantile\n",
      "    Compute the q-th quantile of the data along the specified axis.\n",
      "numpy.deprecate\n",
      "    Issues a DeprecationWarning, adds warning to `old_name`'s\n",
      "numpy._add_newdoc_ufunc\n",
      "    Replace the docstring for a ufunc with new_docstring.\n",
      "numpy.binary_repr\n",
      "    Return the binary representation of the input number as a string.\n",
      "numpy.ma.ids\n",
      "    ids(self)\n",
      "numpy.fft.test\n",
      "    Pytest test runner.\n",
      "numpy.ma.append\n",
      "    Append values to the end of an array.\n",
      "numpy.bytes0.ljust\n",
      "    Return a left-justified string of length width.\n",
      "numpy.bytes0.rjust\n",
      "    Return a right-justified string of length width.\n",
      "numpy.bytes0.center\n",
      "    Return a centered string of length width.\n",
      "numpy.linalg.test\n",
      "    Pytest test runner.\n",
      "numpy.str0.ljust\n",
      "    Return a left-justified string of length width.\n",
      "numpy.str0.rjust\n",
      "    Return a right-justified string of length width.\n",
      "numpy.str0.center\n",
      "    Return a centered string of length width.\n",
      "numpy.distutils.test\n",
      "    Pytest test runner.\n",
      "numpy.polynomial.test\n",
      "    Pytest test runner.\n",
      "numpy.format_float_positional\n",
      "    Format a floating-point scalar as a decimal string in positional notation.\n",
      "numpy.format_float_scientific\n",
      "    Format a floating-point scalar as a decimal string in scientific notation.\n",
      "numpy.compat.npy_load_module\n",
      "    Load a module.\n",
      "numpy.ma.mrecords.addfield\n",
      "    Adds a new field to the masked record array\n",
      "numpy.ma.MaskedArray.__add__\n",
      "    Add self to other, and return a new masked array.\n",
      "numpy._pytesttester.PytestTester\n",
      "    Pytest test runner.\n",
      "numpy.ma.MaskedArray.__iadd__\n",
      "    Add other to self in-place.\n",
      "numpy.ma.MaskedArray.__radd__\n",
      "    Add other to self, and return a new masked array.\n",
      "numpy.polynomial.Hermite._add\n",
      "    Add one Hermite series to another.\n",
      "numpy.ma.MaskedArray.ids\n",
      "    Return the addresses of the data and mask areas.\n",
      "numpy.polynomial.HermiteE._add\n",
      "    Add one Hermite series to another.\n",
      "numpy.polynomial.Laguerre._add\n",
      "    Add one Laguerre series to another.\n",
      "numpy.polynomial.Legendre._add\n",
      "    Add one Legendre series to another.\n",
      "numpy.core._dtype._is_packed\n",
      "    Checks whether the structured data type in 'dtype'\n",
      "numpy.polynomial.Chebyshev._add\n",
      "    Add one Chebyshev series to another.\n",
      "numpy.compat.contextlib_nullcontext\n",
      "    Context manager that does no additional processing.\n",
      "numpy.polynomial.Polynomial._add\n",
      "    Add one polynomial to another.\n",
      "numpy.core._internal._copy_fields\n",
      "    Return copy of structured array with padding between fields removed.\n",
      "numpy.core._internal._add_trailing_padding\n",
      "    Inject the specified number of padding bytes at the end of a dtype\n",
      "numpy.polynomial.Chebyshev.degree\n",
      "    The degree of the series.\n",
      "numpy.polyadd\n",
      "    Find the sum of two polynomials.\n",
      "numpy.fv\n",
      "    Compute the future value.\n",
      "numpy.lib.recfunctions.append_fields\n",
      "    Add new fields to an existing array.\n",
      "numpy.all\n",
      "    Test whether all array elements along a given axis evaluate to True.\n",
      "numpy.any\n",
      "    Test whether any array element along a given axis evaluates to True.\n",
      "numpy.cov\n",
      "    Estimate a covariance matrix, given data and weights.\n",
      "numpy.eye\n",
      "    Return a 2-D array with ones on the diagonal and zeros elsewhere.\n",
      "numpy.irr\n",
      "    Return the Internal Rate of Return (IRR).\n",
      "numpy.npv\n",
      "    Returns the NPV (Net Present Value) of a cash flow series.\n",
      "numpy.pad\n",
      "    Pad an array.\n",
      "numpy.ptp\n",
      "    Range of values (maximum - minimum) along an axis.\n",
      "numpy.put\n",
      "    Replaces specified elements of an array with given values.\n",
      "numpy.std\n",
      "    Compute the standard deviation along the specified axis.\n",
      "numpy.sum\n",
      "    Sum of array elements over a given axis.\n",
      "numpy.var\n",
      "    Compute the variance along the specified axis.\n",
      "numpy.amax\n",
      "    Return the maximum of an array or maximum along an axis.\n",
      "numpy.amin\n",
      "    Return the minimum of an array or minimum along an axis.\n",
      "numpy.cbrt\n",
      "    Return the cube-root of an array, element-wise.\n",
      "numpy.clip\n",
      "    Clip (limit) the values in an array.\n",
      "numpy.copy\n",
      "    Return an array copy of the given object.\n",
      "numpy.diff\n",
      "    Calculate the n-th discrete difference along the given axis.\n",
      "numpy.exp2\n",
      "    Calculate `2**p` for all `p` in the input array.\n",
      "numpy.flip\n",
      "    Reverse the order of elements in an array along the given axis.\n",
      "numpy.fmax\n",
      "    Element-wise maximum of array elements.\n",
      "numpy.fmin\n",
      "    Element-wise minimum of array elements.\n",
      "numpy.in1d\n",
      "    Test whether each element of a 1-D array is also present in a second array.\n",
      "numpy.isin\n",
      "    Calculates `element in test_elements`, broadcasting over `element` only.\n",
      "numpy.log2\n",
      "    Base-2 logarithm of `x`.\n",
      "numpy.mean\n",
      "    Compute the arithmetic mean along the specified axis.\n",
      "numpy.prod\n",
      "    Return the product of array elements over a given axis.\n",
      "numpy.roll\n",
      "    Roll array elements along a given axis.\n",
      "numpy.sort\n",
      "    Return a sorted copy of an array.\n",
      "numpy.take\n",
      "    Take elements from an array along an axis.\n",
      "numpy.block\n",
      "    Assemble an nd-array from nested lists of blocks.\n",
      "numpy.cross\n",
      "    Return the cross product of two (arrays of) vectors.\n",
      "numpy.dtype\n",
      "    Create a data type object.\n",
      "numpy.inner\n",
      "    Inner product of two arrays.\n",
      "numpy.isnat\n",
      "    Test element-wise for NaT (not a time) and return result as a boolean array.\n",
      "numpy.outer\n",
      "    Compute the outer product of two vectors.\n",
      "numpy.rot90\n",
      "    Rotate an array by 90 degrees in the plane specified by axes.\n",
      "numpy.char.add\n",
      "    Return element-wise string concatenation for two arrays of str or unicode.\n",
      "numpy.stack\n",
      "    Join a sequence of arrays along a new axis.\n",
      "numpy.trunc\n",
      "    Return the truncated value of the input, element-wise.\n",
      "numpy.MachAr\n",
      "    Diagnosing machine parameters.\n",
      "numpy.copyto\n",
      "    Copies values from one array to another, broadcasting as necessary.\n",
      "numpy.divmod\n",
      "    Return element-wise quotient and remainder simultaneously.\n",
      "numpy.einsum\n",
      "    einsum(subscripts, *operands, out=None, dtype=None, order='K',\n",
      "numpy.polynomial.Chebyshev.has_samecoef\n",
      "    Check if coefficients match.\n",
      "numpy.polynomial.Chebyshev.has_sametype\n",
      "    Check if types match.\n",
      "numpy.insert\n",
      "    Insert values along the given axis before the given indices.\n",
      "numpy.interp\n",
      "    One-dimensional linear interpolation.\n",
      "numpy.testing.suppress_warnings.filter\n",
      "    Add a new suppressing filter or apply it if the state is entered.\n",
      "numpy.matmul\n",
      "    Matrix product of two arrays.\n",
      "numpy.median\n",
      "    Compute the median along the specified axis.\n",
      "numpy.memmap\n",
      "    Create a memory-map to an array stored in a *binary* file on disk.\n",
      "numpy.nanmax\n",
      "    Return the maximum of an array or maximum along an axis, ignoring any\n",
      "numpy.nanmin\n",
      "    Return minimum of an array or minimum along an axis, ignoring any NaNs.\n",
      "numpy.nanstd\n",
      "    Compute the standard deviation along the specified axis, while\n",
      "numpy.nansum\n",
      "    Return the sum of array elements over a given axis treating Not a\n",
      "numpy.nanvar\n",
      "    Compute the variance along the specified axis, while ignoring NaNs.\n",
      "numpy.nditer\n",
      "    Efficient multi-dimensional iterator object to iterate over arrays.\n",
      "numpy.lib.recfunctions.rec_append_fields\n",
      "    Add new fields to an existing array.\n",
      "numpy.poly1d\n",
      "    A one-dimensional polynomial class.\n",
      "numpy.unique\n",
      "    Find the unique elements of an array.\n",
      "numpy.vander\n",
      "    Generate a Vandermonde matrix.\n",
      "numpy.argsort\n",
      "    Returns the indices that would sort an array.\n",
      "numpy.average\n",
      "    Compute the weighted average along the specified axis.\n",
      "numpy.deg2rad\n",
      "    Convert angles from degrees to radians.\n",
      "numpy.indices\n",
      "    Return an array representing the indices of a grid.\n",
      "numpy.isclose\n",
      "    Returns a boolean array where two arrays are element-wise equal within a\n",
      "numpy.loadtxt\n",
      "    Load data from a text file.\n",
      "numpy.nanmean\n",
      "    Compute the arithmetic mean along the specified axis, ignoring NaNs.\n",
      "numpy.nanprod\n",
      "    Return the product of array elements over a given axis treating Not a\n",
      "numpy.polydiv\n",
      "    Returns the quotient and remainder of polynomial division.\n",
      "numpy.polyfit\n",
      "    Least squares polynomial fit.\n",
      "numpy.polymul\n",
      "    Find the product of two polynomials.\n",
      "numpy.polysub\n",
      "    Difference (subtraction) of two polynomials.\n",
      "numpy.polyval\n",
      "    Evaluate a polynomial at specific values.\n",
      "numpy.rad2deg\n",
      "    Convert angles from radians to degrees.\n",
      "numpy.savetxt\n",
      "    Save an array to a text file.\n",
      "numpy.squeeze\n",
      "    Remove single-dimensional entries from the shape of an array.\n",
      "numpy.allclose\n",
      "    Returns True if two arrays are element-wise equal within a tolerance.\n",
      "numpy.bincount\n",
      "    Count number of occurrences of each value in array of non-negative ints.\n",
      "numpy.blackman\n",
      "    Return the Blackman window.\n",
      "numpy.convolve\n",
      "    Returns the discrete, linear convolution of two one-dimensional sequences.\n",
      "numpy.corrcoef\n",
      "    Return Pearson product-moment correlation coefficients.\n",
      "numpy.digitize\n",
      "    Return the indices of the bins to which each value in input array belongs.\n",
      "numpy.fromfile\n",
      "    Construct an array from data in a text or binary file.\n",
      "numpy.gradient\n",
      "    Return the gradient of an N-dimensional array.\n",
      "numpy.polynomial.Chebyshev.has_samedomain\n",
      "    Check if domains match.\n",
      "numpy.polynomial.Chebyshev.has_samewindow\n",
      "    Check if windows match.\n",
      "numpy.core.overrides.array_function_dispatch\n",
      "    Decorator for adding dispatch with the __array_function__ protocol.\n",
      "numpy.linspace\n",
      "    Return evenly spaced numbers over a specified interval.\n",
      "numpy.logspace\n",
      "    Return numbers spaced evenly on a log scale.\n",
      "numpy.meshgrid\n",
      "    Return coordinate matrices from coordinate vectors.\n",
      "numpy.moveaxis\n",
      "    Move axes of an array to new positions.\n",
      "numpy.packbits\n",
      "    Packs the elements of a binary-valued array into bits in a uint8 array.\n",
      "numpy.positive\n",
      "    Numerical positive, element-wise.\n",
      "numpy.rollaxis\n",
      "    Roll the specified axis backwards, until it lies in a given position.\n",
      "numpy.base_repr\n",
      "    Return a string representation of a number in the given base system.\n",
      "numpy.broadcast\n",
      "    Produce an object that mimics broadcasting.\n",
      "numpy.chararray\n",
      "    chararray(shape, itemsize=1, unicode=False, buffer=None, offset=0,\n",
      "numpy.correlate\n",
      "    Cross-correlation of two 1-dimensional sequences.\n",
      "numpy.fromregex\n",
      "    Construct an array from a text file, using regular expression parsing.\n",
      "numpy.full_like\n",
      "    Return a full array with the same shape and type as a given array.\n",
      "numpy.geomspace\n",
      "    Return numbers spaced evenly on a log scale (a geometric progression).\n",
      "numpy.heaviside\n",
      "    Compute the Heaviside step function.\n",
      "numpy.histogram\n",
      "    Compute the histogram of a set of data.\n",
      "numpy.is_busday\n",
      "    Calculates which of the given dates are valid days, and which are not.\n",
      "numpy.nancumsum\n",
      "    Return the cumulative sum of array elements over a given axis treating Not a\n",
      "numpy.nanmedian\n",
      "    Compute the median along the specified axis, while ignoring NaNs.\n",
      "numpy.ones_like\n",
      "    Return an array of ones with the same shape and type as a given array.\n",
      "numpy.partition\n",
      "    Return a partitioned copy of an array.\n",
      "numpy.vectorize\n",
      "    vectorize(pyfunc, otypes=None, doc=None, excluded=None, cache=False,\n",
      "numpy.empty_like\n",
      "    Return a new array with the same shape and type as a given array.\n",
      "numpy.frompyfunc\n",
      "    Takes an arbitrary Python function and returns a NumPy ufunc.\n",
      "numpy.fromstring\n",
      "    A new 1-D array initialized from text data in a string.\n",
      "numpy.genfromtxt\n",
      "    Load data from a text file, with missing values handled as specified.\n",
      "numpy.nan_to_num\n",
      "    Replace NaN with zero and infinity with large finite numbers (default\n",
      "numpy.nancumprod\n",
      "    Return the cumulative product of array elements over a given axis treating Not a\n",
      "numpy.percentile\n",
      "    Compute the q-th percentile of the data along the specified axis.\n",
      "numpy.unpackbits\n",
      "    Unpacks elements of a uint8 array into a binary-valued output array.\n",
      "numpy.zeros_like\n",
      "    Return an array of zeros with the same shape and type as a given array.\n",
      "numpy.array_equal\n",
      "    True if two arrays have the same shape and elements, False otherwise.\n",
      "numpy.einsum_path\n",
      "    Evaluates the lowest cost contraction order for an einsum expression by\n",
      "numpy.float_power\n",
      "    First array elements raised to powers from second array, element-wise.\n",
      "numpy.core.tests.test_extint128.exc_iter\n",
      "    Iterate over Cartesian product of *args, and if an exception is raised,\n",
      "numpy.histogram2d\n",
      "    Compute the bi-dimensional histogram of two data samples.\n",
      "numpy.intersect1d\n",
      "    Find the intersection of two arrays.\n",
      "numpy.nanquantile\n",
      "    Compute the qth quantile of the data along the specified axis,\n",
      "numpy.result_type\n",
      "    result_type(*arrays_and_dtypes)\n",
      "numpy.fft.fft\n",
      "    Compute the one-dimensional discrete Fourier Transform.\n",
      "numpy.ma.cov\n",
      "    Estimate the covariance matrix.\n",
      "numpy.ma.dot\n",
      "    Return the dot product of two arrays.\n",
      "numpy.argpartition\n",
      "    Perform an indirect partition along the given axis using the\n",
      "numpy.array2string\n",
      "    Return a string representation of an array.\n",
      "numpy.broadcast_to\n",
      "    Broadcast an array to a new shape.\n",
      "numpy.busday_count\n",
      "    Counts the number of valid days between `begindates` and\n",
      "numpy.diag_indices\n",
      "    Return the indices to access the main diagonal of an array.\n",
      "numpy.ma.var\n",
      "    Compute the variance along the specified axis.\n",
      "numpy.mask_indices\n",
      "    Return the indices to access (n, n) arrays, given a masking function.\n",
      "numpy.searchsorted\n",
      "    Find indices where elements should be inserted to maintain order.\n",
      "numpy.tril_indices\n",
      "    Return the indices for the lower-triangle of an (n, m) array.\n",
      "numpy.triu_indices\n",
      "    Return the indices for the upper-triangle of an (n, m) array.\n",
      "numpy.fft.fft2\n",
      "    Compute the 2-dimensional discrete Fourier Transform\n",
      "numpy.fft.fftn\n",
      "    Compute the N-dimensional discrete Fourier Transform.\n",
      "numpy.fft.hfft\n",
      "    Compute the FFT of a signal that has Hermitian symmetry, i.e., a real\n",
      "numpy.fft.ifft\n",
      "    Compute the one-dimensional inverse discrete Fourier Transform.\n",
      "numpy.fft.rfft\n",
      "    Compute the one-dimensional discrete Fourier Transform for real input.\n",
      "numpy.ma.in1d\n",
      "    Test whether each element of an array is also present in a second\n",
      "numpy.ma.isin\n",
      "    Calculates `element in test_elements`, broadcasting over\n",
      "numpy.ma.log2\n",
      "    Base-2 logarithm of `x`.\n",
      "numpy.busday_offset\n",
      "    First adjusts the date to fall on a valid day according to\n",
      "numpy.count_nonzero\n",
      "    Counts the number of non-zero values in the array ``a``.\n",
      "numpy.fill_diagonal\n",
      "    Fill the main diagonal of the given array of any dimensionality.\n",
      "numpy.format_parser\n",
      "    Class to convert formats, names, titles description to a dtype.\n",
      "numpy.nanpercentile\n",
      "    Compute the qth percentile of the data along the specified axis,\n",
      "numpy.promote_types\n",
      "    Returns the data type with the smallest size and smallest scalar\n",
      "numpy.char.ljust\n",
      "    Return an array with the elements of `a` left-justified in a\n",
      "numpy.char.rjust\n",
      "    Return an array with the elements of `a` right-justified in a\n",
      "numpy.ma.count\n",
      "    Count the non-masked elements of the array along the given axis.\n",
      "numpy.unravel_index\n",
      "    Converts a flat index or array of flat indices into a tuple\n",
      "numpy.fft.ifft2\n",
      "    Compute the 2-dimensional inverse discrete Fourier Transform.\n",
      "numpy.fft.ifftn\n",
      "    Compute the N-dimensional inverse discrete Fourier Transform.\n",
      "numpy.fft.ihfft\n",
      "    Compute the inverse FFT of a signal that has Hermitian symmetry.\n",
      "numpy.fft.irfft\n",
      "    Compute the inverse of the n-point DFT for real input.\n",
      "numpy.fft.rfft2\n",
      "    Compute the 2-dimensional FFT of a real array.\n",
      "numpy.fft.rfftn\n",
      "    Compute the N-dimensional discrete Fourier Transform for real input.\n",
      "numpy.ma.inner\n",
      "    Inner product of two arrays.\n",
      "numpy.busdaycalendar\n",
      "    A business day calendar object that efficiently stores information\n",
      "numpy.distutils.fcompiler.FCompiler.add_library\n",
      "    Add 'libname' to the list of libraries that will be included in\n",
      "numpy.ma.outer\n",
      "    Compute the outer product of two vectors.\n",
      "numpy.ma.stack\n",
      "    Join a sequence of arrays along a new axis.\n",
      "numpy.linalg.qr\n",
      "    Compute the qr factorization of a matrix.\n",
      "numpy.put_along_axis\n",
      "    Put values into the destination array by matching 1d index and data slices.\n",
      "numpy.char.center\n",
      "    Return a copy of `a` with its elements centered in a string of\n",
      "numpy.chararray.__add__\n",
      "    Return (self + other), that is string concatenation,\n",
      "numpy.fft.irfft2\n",
      "    Compute the 2-dimensional inverse FFT of a real array.\n",
      "numpy.fft.irfftn\n",
      "    Compute the inverse of the N-dimensional FFT of real input.\n",
      "numpy.ma.median\n",
      "    Compute the median along the specified axis.\n",
      "numpy.ufunc.at\n",
      "    Performs unbuffered in place operation on operand 'a' for elements\n",
      "numpy.ma.vander\n",
      "    Generate a Vandermonde matrix.\n",
      "numpy.min_scalar_type\n",
      "    min_scalar_type(a)\n",
      "numpy.linalg.det\n",
      "    Compute the determinant of an array.\n",
      "numpy.linalg.eig\n",
      "    Compute the eigenvalues and right eigenvectors of a square array.\n",
      "numpy.linalg.inv\n",
      "    Compute the (multiplicative) inverse of a matrix.\n",
      "numpy.linalg.svd\n",
      "    Singular Value Decomposition.\n",
      "numpy.set_numeric_ops\n",
      "    Set numerical operators for array objects.\n",
      "numpy.take_along_axis\n",
      "    Take values from the input array by matching 1d index and data slices.\n",
      "numpy.apply_along_axis\n",
      "    Apply a function to 1-D slices along the given axis.\n",
      "numpy.chararray.__radd__\n",
      "    Return (other + self), that is string concatenation,\n",
      "numpy.ma.polyfit\n",
      "    Least squares polynomial fit.\n",
      "numpy.matlib.eye\n",
      "    Return a matrix with ones on the diagonal and zeros elsewhere.\n",
      "numpy.linalg.eigh\n",
      "    Return the eigenvalues and eigenvectors of a complex Hermitian\n",
      "numpy.linalg.norm\n",
      "    Matrix or vector norm.\n",
      "numpy.linalg.pinv\n",
      "    Compute the (Moore-Penrose) pseudo-inverse of a matrix.\n",
      "numpy.set_printoptions\n",
      "    Set printing options.\n",
      "numpy.f2py.compile\n",
      "    Build extension module from a Fortran 77 source string with f2py.\n",
      "numpy.ma.corrcoef\n",
      "    Return Pearson product-moment correlation coefficients.\n",
      "numpy.linalg.tests.test_linalg.apply_tag\n",
      "    Add the given tag (a string) to each of the cases (a list of LinalgCase\n",
      "numpy.diag_indices_from\n",
      "    Return the indices to access the main diagonal of an n-dimensional array.\n",
      "numpy.linalg.solve\n",
      "    Solve a linear matrix equation, or system of linear scalar equations.\n",
      "numpy.ravel_multi_index\n",
      "    Converts a tuple of index arrays into an array of flat\n",
      "numpy.tril_indices_from\n",
      "    Return the indices for the lower-triangle of arr.\n",
      "numpy.triu_indices_from\n",
      "    Return the indices for the upper-triangle of arr.\n",
      "numpy.distutils.fcompiler.FCompiler.add_include_dir\n",
      "    Add 'dir' to the list of directories that will be searched for\n",
      "numpy.distutils.fcompiler.FCompiler.add_library_dir\n",
      "    Add 'dir' to the list of directories that will be searched for\n",
      "numpy.distutils.fcompiler.FCompiler.add_link_object\n",
      "    Add 'object' to the list of object files (or analogues, such as\n",
      "numpy.chararray.sort\n",
      "    Sort an array in-place. Refer to `numpy.sort` for full documentation.\n",
      "numpy.nditer.close\n",
      "    close()\n",
      "numpy.distutils.misc_util.Configuration.add_headers\n",
      "    Add installable headers to configuration.\n",
      "numpy.distutils.misc_util.Configuration.add_library\n",
      "    Add library to configuration.\n",
      "numpy.distutils.misc_util.Configuration.add_scripts\n",
      "    Add scripts to configuration.\n",
      "numpy.ma.empty_like\n",
      "    empty_like(prototype, dtype=None, order='K', subok=True, shape=None)\n",
      "numpy.ufunc.reduce\n",
      "    Reduces `a`'s dimension by one, by applying ufunc along one axis.\n",
      "numpy.linalg.eigvals\n",
      "    Compute the eigenvalues of a general matrix.\n",
      "numpy.linalg.slogdet\n",
      "    Compute the sign and (natural) logarithm of the determinant of an array.\n",
      "numpy.distutils.misc_util.Configuration._add_library\n",
      "    Common implementation for add_library and add_installed_library. Do\n",
      "numpy.distutils.misc_util.Configuration.add_data_dir\n",
      "    Recursively add files under data_path to data_files list.\n",
      "numpy.lib.tests.test_arraypad.TestEmptyArray\n",
      "    Check how padding behaves on arrays with an empty dimension.\n",
      "numpy.chararray.tolist\n",
      "    a.tolist()\n",
      "numpy.linalg.cholesky\n",
      "    Cholesky decomposition.\n",
      "numpy.linalg.eigvalsh\n",
      "    Compute the eigenvalues of a complex Hermitian or real symmetric matrix.\n",
      "numpy.distutils.misc_util.Configuration.add_extension\n",
      "    Add extension to configuration.\n",
      "numpy.ma.clump_masked\n",
      "    Returns a list of slices corresponding to the masked clumps of a 1-D array.\n",
      "numpy.ufunc.reduceat\n",
      "    Performs a (local) reduce with specified slices over a single axis.\n",
      "numpy.chararray.tobytes\n",
      "    Construct Python bytes containing the raw data bytes in the array.\n",
      "numpy.linalg.multi_dot\n",
      "    Compute the dot product of two or more arrays in a single function call,\n",
      "numpy.distutils.misc_util.Configuration.add_data_files\n",
      "    Add data files to configuration data_files.\n",
      "numpy.distutils.misc_util.Configuration.add_subpackage\n",
      "    Add a sub-package to the current Configuration instance.\n",
      "numpy.testing.rundocs\n",
      "    Run doctests found in the given file.\n",
      "numpy.core.tests.test_numerictypes.normalize_descr\n",
      "    Normalize a description adding the platform byteorder.\n",
      "numpy.matrix.partition\n",
      "    Rearranges the elements in the array in such a way that the value of the\n",
      "numpy.random.Generator\n",
      "    Generator(bit_generator)\n",
      "numpy.lib.tests.test_io.TextIO.writelines\n",
      "    Write lines to the file.\n",
      "numpy.ma.clump_unmasked\n",
      "    Return list of slices corresponding to the unmasked clumps of a 1-D array.\n",
      "numpy.ufunc.accumulate\n",
      "    Accumulate the result of applying the operator to all elements.\n",
      "numpy.distutils.fcompiler.FCompiler.library_option\n",
      "    Return the compiler option to add 'lib' to the list of libraries\n",
      "numpy.chararray.transpose\n",
      "    a.transpose(*axes)\n",
      "numpy.linalg.matrix_rank\n",
      "    Return matrix rank of array using SVD method\n",
      "numpy.distutils.misc_util.Configuration.add_include_dirs\n",
      "    Add paths to configuration include directories.\n",
      "numpy.distutils.command.sdist.sdist.add_defaults\n",
      "    Add all the default files to self.filelist:\n",
      "numpy.polynomial.Hermite\n",
      "    An Hermite series class.\n",
      "numpy.random.RandomState\n",
      "    Container for the slow Mersenne Twister pseudo-random number generator.\n",
      "numpy.random.default_rng\n",
      "    Construct a new Generator with the default BitGenerator (PCG64).\n",
      "numpy.distutils.misc_util.Configuration.add_define_macros\n",
      "    Add define macros to configuration\n",
      "numpy.lib._iotools.StringConverter.upgrade_mapper\n",
      "    Upgrade the mapper of a StringConverter by adding a new function and\n",
      "numpy.ma.apply_along_axis\n",
      "    Apply a function to 1-D slices along the given axis.\n",
      "numpy.distutils.fcompiler.FCompiler.set_include_dirs\n",
      "    Set the list of directories that will be searched to 'dirs' (a\n",
      "numpy.polynomial.HermiteE\n",
      "    An HermiteE series class.\n",
      "numpy.tests.test_public_api.test_all_modules_are_expected\n",
      "    Test that we don't add anything that looks like a new public module by\n",
      "numpy.polynomial.Laguerre\n",
      "    A Laguerre series class.\n",
      "numpy.polynomial.Legendre\n",
      "    A Legendre series class.\n",
      "numpy.double.__set_format__\n",
      "    You probably don't want to use this function.\n",
      "numpy.chararray.argpartition\n",
      "    Returns the indices that would partition this array.\n",
      "numpy.distutils.fcompiler.FCompiler.add_runtime_library_dir\n",
      "    Add 'dir' to the list of directories that will be searched for\n",
      "numpy.polynomial.Chebyshev\n",
      "    A Chebyshev series class.\n",
      "numpy.testing.assert_warns\n",
      "    Fail unless the given callable throws the specified warning.\n",
      "numpy.distutils.fcompiler.FCompiler.library_dir_option\n",
      "    Return the compiler option to add 'dir' to the list of\n",
      "numpy.random.tests.test_seed_sequence.test_zero_padding\n",
      "    Ensure that the implicit zero-padding does not cause problems.\n",
      "numpy.polynomial.Polynomial\n",
      "    A power series class.\n",
      "numpy.distutils.misc_util.Configuration.add_installed_library\n",
      "    Similar to add_library, but the specified library is installed.\n",
      "numpy.testing._private.noseclasses.NumpyDocTestCase\n",
      "    Overrides DocTestCase to\n",
      "numpy.distutils.msvccompiler.MSVCCompiler.library_option\n",
      "    Return the compiler option to add 'lib' to the list of libraries\n",
      "numpy.testing.assert_allclose\n",
      "    Raises an AssertionError if two objects are not equal up to desired\n",
      "numpy.ma.MaskedArray.dot\n",
      "    Masked dot product of two arrays. Note that `out` and `strict` are\n",
      "numpy.testing.run_module_suite\n",
      "    Run a test module.\n",
      "numpy.ma.MaskedArray.var\n",
      "    Compute the variance along the specified axis.\n",
      "numpy.distutils.command.sdist.sdist.write_manifest\n",
      "    Write the file list in 'self.filelist' (presumably as filled in\n",
      "numpy.testing.suppress_warnings\n",
      "    Context manager and decorator doing much the same as\n",
      "numpy.ma.MaskedArray.count\n",
      "    Count the non-masked elements of the array along the given axis.\n",
      "numpy.testing.assert_no_warnings\n",
      "    Fail if the given callable produces any warnings.\n",
      "numpy.distutils.intelccompiler.IntelCCompiler.library_option\n",
      "    Return the compiler option to add 'lib' to the list of libraries\n",
      "numpy.distutils.msvccompiler.MSVCCompiler.library_dir_option\n",
      "    Return the compiler option to add 'dir' to the list of\n",
      "numpy.distutils.command.develop.develop.create_index.add\n",
      "    Add `dist` if we ``can_add()`` it and it has not already been added\n",
      "numpy.testing.assert_no_gc_cycles\n",
      "    Fail if the given callable produces any reference cycles.\n",
      "numpy.testing.assert_raises_regex\n",
      "    assert_raises_regex(exception_class, expected_regexp, callable, *args,\n",
      "numpy.ma.MaskedArray.tobytes\n",
      "    Return the array data as a string containing the raw bytes in the array.\n",
      "numpy.distutils.fcompiler.FCompiler.runtime_library_dir_option\n",
      "    Return the compiler option to add 'dir' to the list of\n",
      "numpy.polynomial.Hermite.fit\n",
      "    Least squares fit to data.\n",
      "numpy.polynomial.Hermite._der\n",
      "    Differentiate a Hermite series.\n",
      "numpy.polynomial.Hermite._div\n",
      "    Divide one Hermite series by another.\n",
      "numpy.polynomial.Hermite._int\n",
      "    Integrate a Hermite series.\n",
      "numpy.polynomial.Hermite._mul\n",
      "    Multiply one Hermite series by another.\n",
      "numpy.polynomial.Hermite._pow\n",
      "    Raise a Hermite series to a power.\n",
      "numpy.polynomial.Hermite._sub\n",
      "    Subtract one Hermite series from another.\n",
      "numpy.polynomial.Hermite._val\n",
      "    Evaluate an Hermite series at points x.\n",
      "numpy.polynomial.Hermite.cast\n",
      "    Convert series to series of this class.\n",
      "numpy.polynomial.HermiteE.fit\n",
      "    Least squares fit to data.\n",
      "numpy.polynomial.Laguerre.fit\n",
      "    Least squares fit to data.\n",
      "numpy.polynomial.Legendre.fit\n",
      "    Least squares fit to data.\n",
      "numpy.ma.MaskedArray.partition\n",
      "    Rearranges the elements in the array in such a way that the value of the\n",
      "numpy.random.Generator.pareto\n",
      "    Draw samples from a Pareto II or Lomax distribution with\n",
      "numpy.random.Generator.random\n",
      "    Return random floats in the half-open interval [0.0, 1.0).\n",
      "numpy.ma.MaskedArray.transpose\n",
      "    a.transpose(*axes)\n",
      "numpy.polynomial.Chebyshev.fit\n",
      "    Least squares fit to data.\n",
      "numpy.polynomial.Hermite.basis\n",
      "    Series basis polynomial of degree `deg`.\n",
      "numpy.polynomial.HermiteE._der\n",
      "    Differentiate a Hermite_e series.\n",
      "numpy.polynomial.HermiteE._div\n",
      "    Divide one Hermite series by another.\n",
      "numpy.polynomial.HermiteE._int\n",
      "    Integrate a Hermite_e series.\n",
      "numpy.polynomial.HermiteE._mul\n",
      "    Multiply one Hermite series by another.\n",
      "numpy.polynomial.HermiteE._pow\n",
      "    Raise a Hermite series to a power.\n",
      "numpy.polynomial.HermiteE._sub\n",
      "    Subtract one Hermite series from another.\n",
      "numpy.polynomial.HermiteE._val\n",
      "    Evaluate an HermiteE series at points x.\n",
      "numpy.polynomial.HermiteE.cast\n",
      "    Convert series to series of this class.\n",
      "numpy.polynomial.Laguerre._der\n",
      "    Differentiate a Laguerre series.\n",
      "numpy.polynomial.Laguerre._div\n",
      "    Divide one Laguerre series by another.\n",
      "numpy.polynomial.Laguerre._int\n",
      "    Integrate a Laguerre series.\n",
      "numpy.polynomial.Laguerre._mul\n",
      "    Multiply one Laguerre series by another.\n",
      "numpy.polynomial.Laguerre._pow\n",
      "    Raise a Laguerre series to a power.\n",
      "numpy.polynomial.Laguerre._sub\n",
      "    Subtract one Laguerre series from another.\n",
      "numpy.polynomial.Laguerre._val\n",
      "    Evaluate a Laguerre series at points x.\n",
      "numpy.polynomial.Laguerre.cast\n",
      "    Convert series to series of this class.\n",
      "numpy.polynomial.Legendre._der\n",
      "    Differentiate a Legendre series.\n",
      "numpy.polynomial.Legendre._div\n",
      "    Divide one Legendre series by another.\n",
      "numpy.polynomial.Legendre._fit\n",
      "    Least squares fit of Legendre series to data.\n",
      "numpy.lib._version.NumpyVersion\n",
      "    Parse and compare numpy version strings.\n",
      "numpy.polynomial.Legendre._int\n",
      "    Integrate a Legendre series.\n",
      "numpy.polynomial.Legendre._mul\n",
      "    Multiply one Legendre series by another.\n",
      "numpy.polynomial.Legendre._pow\n",
      "    Raise a Legendre series to a power.\n",
      "numpy.polynomial.Legendre._sub\n",
      "    Subtract one Legendre series from another.\n",
      "numpy.polynomial.Legendre._val\n",
      "    Evaluate a Legendre series at points x.\n",
      "numpy.polynomial.Legendre.cast\n",
      "    Convert series to series of this class.\n",
      "numpy.distutils.intelccompiler.IntelCCompiler.library_dir_option\n",
      "    Return the compiler option to add 'dir' to the list of\n",
      "numpy.distutils.command.develop.develop.create_index.__add__\n",
      "    Add an environment or distribution to an environment\n",
      "numpy.testing._private.noseclasses.NumpyDocTestCase.addCleanup\n",
      "    Add a function, with arguments, to be called when the test is\n",
      "numpy.core._multiarray_umath.inner\n",
      "    Inner product of two arrays.\n",
      "numpy.polynomial.Chebyshev._der\n",
      "    Differentiate a Chebyshev series.\n",
      "numpy.polynomial.Chebyshev._div\n",
      "    Divide one Chebyshev series by another.\n",
      "numpy.polynomial.Chebyshev._fit\n",
      "    Least squares fit of Chebyshev series to data.\n",
      "numpy.polynomial.Chebyshev._int\n",
      "    Integrate a Chebyshev series.\n",
      "numpy.polynomial.Chebyshev._mul\n",
      "    Multiply one Chebyshev series by another.\n",
      "numpy.polynomial.Chebyshev._pow\n",
      "    Raise a Chebyshev series to a power.\n",
      "numpy.polynomial.Chebyshev._sub\n",
      "    Subtract one Chebyshev series from another.\n",
      "numpy.polynomial.Chebyshev._val\n",
      "    Evaluate a Chebyshev series at points x.\n",
      "numpy.polynomial.Chebyshev.cast\n",
      "    Convert series to series of this class.\n",
      "numpy.polynomial.HermiteE.basis\n",
      "    Series basis polynomial of degree `deg`.\n",
      "numpy.polynomial.Laguerre.basis\n",
      "    Series basis polynomial of degree `deg`.\n",
      "numpy.polynomial.Legendre.basis\n",
      "    Series basis polynomial of degree `deg`.\n",
      "numpy.polynomial.Polynomial.fit\n",
      "    Least squares fit to data.\n",
      "numpy.distutils.command.develop.develop.create_index.__iadd__\n",
      "    In-place addition of a distribution or environment\n",
      "numpy.lib.tests.test_format.BytesIOSRandomSize.writelines\n",
      "    Write lines to the file.\n",
      "numpy.distutils.command.build_ext.build_ext.get_libraries\n",
      "    Return the list of libraries to link against when building a\n",
      "numpy.testing.clear_and_catch_warnings\n",
      "    Context manager that resets warning registry for catching warnings\n",
      "numpy.distutils.misc_util.get_info\n",
      "    Return an info dict for a given C library.\n",
      "numpy.random.RandomState.choice\n",
      "    Generates a random sample from a given 1-D array\n",
      "numpy.random.RandomState.pareto\n",
      "    Draw samples from a Pareto II or Lomax distribution with\n",
      "numpy.core._multiarray_umath.copyto\n",
      "    Copies values from one array to another, broadcasting as necessary.\n",
      "numpy.polynomial.Chebyshev.basis\n",
      "    Series basis polynomial of degree `deg`.\n",
      "numpy.polynomial.Polynomial._der\n",
      "    Differentiate a polynomial.\n",
      "numpy.polynomial.Polynomial._div\n",
      "    Divide one polynomial by another.\n",
      "numpy.polynomial.Polynomial._fit\n",
      "    Least-squares fit of a polynomial to data.\n",
      "numpy.polynomial.Polynomial._int\n",
      "    Integrate a polynomial.\n",
      "numpy.polynomial.Polynomial._mul\n",
      "    Multiply one polynomial by another.\n",
      "numpy.polynomial.Polynomial._pow\n",
      "    Raise a polynomial to a power.\n",
      "numpy.polynomial.Polynomial._sub\n",
      "    Subtract one polynomial from another.\n",
      "numpy.polynomial.Polynomial._val\n",
      "    Evaluate a polynomial at points x.\n",
      "numpy.polynomial.Polynomial.cast\n",
      "    Convert series to series of this class.\n",
      "numpy.distutils.mingw32ccompiler.Mingw32CCompiler.object_filenames\n",
      "    Adds supports for rc and res files.\n",
      "numpy.core._dtype._construction_repr\n",
      "    Creates a string repr of the dtype, excluding the 'dtype()' part\n",
      "numpy.testing._private.noseclasses.NumpyDoctest.suiteClass\n",
      "    Doctest suites are parallelizable at the module or file level only,\n",
      "numpy.testing._private.noseclasses.FPUModeCheckPlugin.addOptions\n",
      "    Add command-line options for this plugin.\n",
      "numpy.ma.MaskedArray.argpartition\n",
      "    Returns the indices that would partition this array.\n",
      "numpy.random.RandomState.randint\n",
      "    Return random integers from `low` (inclusive) to `high` (exclusive).\n",
      "numpy.polynomial.Chebyshev.cutdeg\n",
      "    Truncate series to the given degree.\n",
      "numpy.polynomial.Polynomial.basis\n",
      "    Series basis polynomial of degree `deg`.\n",
      "numpy.polynomial.hermite.hermmulx\n",
      "    Multiply a Hermite series by x.\n",
      "numpy.polynomial.laguerre.lagmulx\n",
      "    Multiply a Laguerre series by x.\n",
      "numpy.polynomial.legendre.legmulx\n",
      "    Multiply a Legendre series by x.\n",
      "numpy.distutils.command.develop.develop.create_index.scan\n",
      "    Scan `search_path` for distributions usable in this environment\n",
      "numpy.testing._private.noseclasses.NumpyDocTestFinder._find\n",
      "    Find tests for the given object and any contained objects, and\n",
      "numpy.core._multiarray_umath.bincount\n",
      "    Count number of occurrences of each value in array of non-negative ints.\n",
      "numpy.core._multiarray_umath.c_einsum\n",
      "    c_einsum(subscripts, *operands, out=None, dtype=None, order='K',\n",
      "numpy.core._multiarray_umath.packbits\n",
      "    Packs the elements of a binary-valued array into bits in a uint8 array.\n",
      "numpy.polynomial.hermite.hermgauss\n",
      "    Gauss-Hermite quadrature.\n",
      "numpy.polynomial.hermite.hermval2d\n",
      "    Evaluate a 2-D Hermite series at points (x, y).\n",
      "numpy.polynomial.hermite.hermval3d\n",
      "    Evaluate a 3-D Hermite series at points (x, y, z).\n",
      "numpy.polynomial.laguerre.laggauss\n",
      "    Gauss-Laguerre quadrature.\n",
      "numpy.polynomial.laguerre.lagval2d\n",
      "    Evaluate a 2-D Laguerre series at points (x, y).\n",
      "numpy.polynomial.laguerre.lagval3d\n",
      "    Evaluate a 3-D Laguerre series at points (x, y, z).\n",
      "numpy.polynomial.legendre.leggauss\n",
      "    Gauss-Legendre quadrature.\n",
      "numpy.polynomial.legendre.legval2d\n",
      "    Evaluate a 2-D Legendre series at points (x, y).\n",
      "numpy.polynomial.legendre.legval3d\n",
      "    Evaluate a 3-D Legendre series at points (x, y, z).\n",
      "numpy.distutils.msvccompiler.MSVCCompiler.runtime_library_dir_option\n",
      "    Return the compiler option to add 'dir' to the list of\n",
      "numpy.distutils.command.develop.develop._set_fetcher_options\n",
      "    When easy_install is about to run bdist_egg on a source dist, that\n",
      "numpy.distutils.command.build_ext.build_ext.get_ext_fullname\n",
      "    Returns the fullname of a given extension name.\n",
      "numpy.core.tests.test_records.TestRecord.test_nested_dtype_padding\n",
      "    test that trailing padding is preserved\n",
      "numpy.core._multiarray_umath.is_busday\n",
      "    Calculates which of the given dates are valid days, and which are not.\n",
      "numpy.polynomial.Chebyshev.linspace\n",
      "    Return x, y values at equally spaced points in domain.\n",
      "numpy.lib.recfunctions.repack_fields\n",
      "    Re-pack the fields of a structured array or dtype in memory.\n",
      "numpy.polynomial.chebyshev.chebmulx\n",
      "    Multiply a Chebyshev series by x.\n",
      "numpy.polynomial.chebyshev.chebpts1\n",
      "    Chebyshev points of the first kind.\n",
      "numpy.polynomial.chebyshev.chebpts2\n",
      "    Chebyshev points of the second kind.\n",
      "numpy.polynomial.hermite.hermgrid2d\n",
      "    Evaluate a 2-D Hermite series on the Cartesian product of x and y.\n",
      "numpy.polynomial.hermite.hermgrid3d\n",
      "    Evaluate a 3-D Hermite series on the Cartesian product of x, y, and z.\n",
      "numpy.polynomial.hermite.hermweight\n",
      "    Weight function of the Hermite polynomials.\n",
      "numpy.polynomial.laguerre.laggrid2d\n",
      "    Evaluate a 2-D Laguerre series on the Cartesian product of x and y.\n",
      "numpy.polynomial.laguerre.laggrid3d\n",
      "    Evaluate a 3-D Laguerre series on the Cartesian product of x, y, and z.\n",
      "numpy.polynomial.laguerre.lagweight\n",
      "    Weight function of the Laguerre polynomials.\n",
      "numpy.polynomial.legendre.leggrid2d\n",
      "    Evaluate a 2-D Legendre series on the Cartesian product of x and y.\n",
      "numpy.polynomial.legendre.leggrid3d\n",
      "    Evaluate a 3-D Legendre series on the Cartesian product of x, y, and z.\n",
      "numpy.polynomial.legendre.legweight\n",
      "    Weight function of the Legendre polynomials.\n",
      "numpy.distutils.misc_util.get_pkg_info\n",
      "    Return library info for the given package.\n",
      "numpy.core._multiarray_umath.empty_like\n",
      "    Return a new array with the same shape and type as a given array.\n",
      "numpy.core._multiarray_umath.unpackbits\n",
      "    Unpacks elements of a uint8 array into a binary-valued output array.\n",
      "numpy.tests.test_warnings.FindFuncs\n",
      "    A node visitor base class that walks the abstract syntax tree and calls a\n",
      "numpy.tests.test_warnings.ParseCall\n",
      "    A node visitor base class that walks the abstract syntax tree and calls a\n",
      "numpy.polynomial.chebyshev.chebgauss\n",
      "    Gauss-Chebyshev quadrature.\n",
      "numpy.polynomial.chebyshev.chebval2d\n",
      "    Evaluate a 2-D Chebyshev series at points (x, y).\n",
      "numpy.polynomial.chebyshev.chebval3d\n",
      "    Evaluate a 3-D Chebyshev series at points (x, y, z).\n",
      "numpy.polynomial.polynomial.polymulx\n",
      "    Multiply a polynomial by x.\n",
      "numpy.core._multiarray_umath.result_type\n",
      "    result_type(*arrays_and_dtypes)\n",
      "numpy.lib.mixins.NDArrayOperatorsMixin\n",
      "    Mixin defining all operator special methods using __array_ufunc__.\n",
      "numpy.polynomial.chebyshev.chebgrid2d\n",
      "    Evaluate a 2-D Chebyshev series on the Cartesian product of x and y.\n",
      "numpy.polynomial.chebyshev.chebgrid3d\n",
      "    Evaluate a 3-D Chebyshev series on the Cartesian product of x, y, and z.\n",
      "numpy.polynomial.chebyshev.chebweight\n",
      "    The weight function of the Chebyshev polynomials.\n",
      "numpy.polynomial.hermite.hermvander2d\n",
      "    Pseudo-Vandermonde matrix of given degrees.\n",
      "numpy.polynomial.hermite.hermvander3d\n",
      "    Pseudo-Vandermonde matrix of given degrees.\n",
      "numpy.polynomial.hermite_e.hermegauss\n",
      "    Gauss-HermiteE quadrature.\n",
      "numpy.polynomial.hermite_e.hermeval2d\n",
      "    Evaluate a 2-D HermiteE series at points (x, y).\n",
      "numpy.polynomial.hermite_e.hermeval3d\n",
      "    Evaluate a 3-D Hermite_e series at points (x, y, z).\n",
      "numpy.polynomial.laguerre.lagvander2d\n",
      "    Pseudo-Vandermonde matrix of given degrees.\n",
      "numpy.polynomial.laguerre.lagvander3d\n",
      "    Pseudo-Vandermonde matrix of given degrees.\n",
      "numpy.polynomial.legendre.legvander2d\n",
      "    Pseudo-Vandermonde matrix of given degrees.\n",
      "numpy.polynomial.legendre.legvander3d\n",
      "    Pseudo-Vandermonde matrix of given degrees.\n",
      "numpy.polynomial.polynomial.polyval2d\n",
      "    Evaluate a 2-D polynomial at points (x, y).\n",
      "numpy.polynomial.polynomial.polyval3d\n",
      "    Evaluate a 3-D polynomial at points (x, y, z).\n",
      "numpy.distutils.command.develop.develop.create_index.add_find_links\n",
      "    Add `urls` to the list that will be prescanned for searches\n",
      "numpy.distutils.command.develop.develop.create_index.__init__\n",
      "    Snapshot distributions available on a search path\n",
      "numpy.distutils.fcompiler.absoft.AbsoftFCompiler.library_option\n",
      "    Return the compiler option to add 'lib' to the list of libraries\n",
      "numpy.core._multiarray_umath.busday_count\n",
      "    Counts the number of valid days between `begindates` and\n",
      "numpy.polynomial.Chebyshev.interpolate\n",
      "    Interpolate a function at the Chebyshev points of the first kind.\n",
      "numpy.distutils.intelccompiler.IntelCCompiler.runtime_library_dir_option\n",
      "    Return the compiler option to add 'dir' to the list of\n",
      "numpy.polynomial._polybase.ABCPolyBase\n",
      "    An abstract base class for immutable series classes.\n",
      "numpy.distutils.ccompiler.CCompiler_spawn\n",
      "    Execute a command in a sub-process.\n",
      "numpy.polynomial.hermite.hermcompanion\n",
      "    Return the scaled companion matrix of c.\n",
      "numpy.polynomial.hermite_e.hermegrid2d\n",
      "    Evaluate a 2-D HermiteE series on the Cartesian product of x and y.\n",
      "numpy.polynomial.hermite_e.hermegrid3d\n",
      "    Evaluate a 3-D HermiteE series on the Cartesian product of x, y, and z.\n",
      "numpy.polynomial.hermite_e.hermeweight\n",
      "    Weight function of the Hermite_e polynomials.\n",
      "numpy.polynomial.laguerre.lagcompanion\n",
      "    Return the companion matrix of c.\n",
      "numpy.polynomial.legendre.legcompanion\n",
      "    Return the scaled companion matrix of c.\n",
      "numpy.polynomial.polynomial.polygrid2d\n",
      "    Evaluate a 2-D polynomial on the Cartesian product of x and y.\n",
      "numpy.polynomial.polynomial.polygrid3d\n",
      "    Evaluate a 3-D polynomial on the Cartesian product of x, y and z.\n",
      "numpy.random.Generator.standard_normal\n",
      "    Draw samples from a standard Normal distribution (mean=0, stdev=1).\n",
      "numpy.core._multiarray_umath.busday_offset\n",
      "    First adjusts the date to fall on a valid day according to\n",
      "numpy.random.RandomState.random_sample\n",
      "    Return random floats in the half-open interval [0.0, 1.0).\n",
      "numpy.core._multiarray_umath.unravel_index\n",
      "    Converts a flat index or array of flat indices into a tuple\n",
      "numpy.testing.suppress_warnings.record\n",
      "    Append a new recording filter or apply it if the state is entered.\n",
      "numpy.polynomial.chebyshev.chebvander2d\n",
      "    Pseudo-Vandermonde matrix of given degrees.\n",
      "numpy.polynomial.chebyshev.chebvander3d\n",
      "    Pseudo-Vandermonde matrix of given degrees.\n",
      "numpy.testing._private.noseclasses.NumpyDocTestCase.addTypeEqualityFunc\n",
      "    Add a type specific assertEqual style function to compare a type.\n",
      "numpy.polynomial.chebyshev.chebcompanion\n",
      "    Return the scaled companion matrix of c.\n",
      "numpy.distutils.ccompiler.CCompiler_compile\n",
      "    Compile one or more source files.\n",
      "numpy.polynomial.hermite_e.hermevander2d\n",
      "    Pseudo-Vandermonde matrix of given degrees.\n",
      "numpy.polynomial.hermite_e.hermevander3d\n",
      "    Pseudo-Vandermonde matrix of given degrees.\n",
      "numpy.polynomial.polynomial.polyvander3d\n",
      "    Pseudo-Vandermonde matrix of given degrees.\n",
      "numpy.random.RandomState.standard_normal\n",
      "    Draw samples from a standard Normal distribution (mean=0, stdev=1).\n",
      "numpy.core._multiarray_umath.min_scalar_type\n",
      "    min_scalar_type(a)\n",
      "numpy.polynomial.hermite_e.hermecompanion\n",
      "    Return the scaled companion matrix of c.\n",
      "numpy.distutils.fcompiler.absoft.AbsoftFCompiler.library_dir_option\n",
      "    Return the compiler option to add 'dir' to the list of\n",
      "numpy.polynomial.chebyshev.chebinterpolate\n",
      "    Interpolate a function at the Chebyshev points of the first kind.\n",
      "numpy.testing._private.noseclasses.NumpyDocTestCase.assertWarnsRegex\n",
      "    Asserts that the message in a triggered warning matches a regexp.\n",
      "numpy.random.Generator.multivariate_normal\n",
      "    Draw random samples from a multivariate normal distribution.\n",
      "numpy.core._multiarray_umath.ravel_multi_index\n",
      "    Converts a tuple of index arrays into an array of flat\n",
      "numpy.distutils.fcompiler.sun.SunFCompiler.runtime_library_dir_option\n",
      "    Return the compiler option to add 'dir' to the list of\n",
      "numpy.polynomial.Chebyshev._get_coefficients\n",
      "    Interpret other as polynomial coefficients.\n",
      "numpy.polynomial.polynomial.polyvalfromroots\n",
      "    Evaluate a polynomial specified by its roots at points x.\n",
      "numpy.distutils.fcompiler.pg.PGroupFCompiler.runtime_library_dir_option\n",
      "    Return the compiler option to add 'dir' to the list of\n",
      "numpy.distutils.fcompiler.gnu.Gnu95FCompiler.runtime_library_dir_option\n",
      "    Return the compiler option to add 'dir' to the list of\n",
      "numpy.distutils.fcompiler.FCompiler.link\n",
      "    Link a bunch of stuff together to create an executable or\n",
      "numpy.core._multiarray_umath.normalize_axis_index\n",
      "    Normalizes an axis index, `axis`, such that is a valid positive index into\n",
      "numpy.lib.tests.test_mixins.ArrayLike\n",
      "    Mixin defining all operator special methods using __array_ufunc__.\n",
      "numpy.testing.tests.test_utils.my_cacw\n",
      "    Context manager that resets warning registry for catching warnings\n",
      "numpy.lib.tests.test_histograms.TestHistogramOptimBinNums.test_simple_range\n",
      "    Straightforward testing with a mixture of linspace data (for\n",
      "numpy.distutils.fcompiler.pg.PGroupFlangCompiler.runtime_library_dir_option\n",
      "    Return the compiler option to add 'dir' to the list of\n",
      "numpy.random.Generator.multivariate_hypergeometric\n",
      "    multivariate_hypergeometric(colors, nsample, size=None,\n",
      "numpy.distutils.fcompiler.intel.BaseIntelFCompiler.runtime_library_dir_option\n",
      "    Return the compiler option to add 'dir' to the list of\n",
      "numpy.distutils.fcompiler.FCompiler.preprocess\n",
      "    Preprocess a single C/C++ source file, named in 'source'.\n",
      "numpy.distutils.msvccompiler.MSVCCompiler.link\n",
      "    Link a bunch of stuff together to create an executable or\n",
      "numpy.core.tests._locales.CommaDecimalPointLocale\n",
      "    Sets LC_NUMERIC to a locale with comma as decimal point.\n",
      "numpy.core.tests.test_umath_complex.platform_skip\n",
      "    A decorator for applying a mark on test functions and classes.\n",
      "numpy.testing._private.nosetester.NoseTester\n",
      "    Nose test runner.\n",
      "numpy.core.tests.test_umath_accuracy.platform_skip\n",
      "    A decorator for applying a mark on test functions and classes.\n",
      "numpy.distutils.intelccompiler.IntelCCompiler.link\n",
      "    Link a bunch of stuff together to create an executable or\n",
      "numpy.distutils.fcompiler.intel.IntelEM64VisualFCompiler.runtime_library_dir_option\n",
      "    Return the compiler option to add 'dir' to the list of\n",
      "numpy.distutils.misc_util.Configuration.add_npy_pkg_config\n",
      "    Generate and install a npy-pkg config file from a template.\n",
      "numpy.distutils.fcompiler.FCompiler.create_static_lib\n",
      "    Link a bunch of stuff together to create a static library file.\n",
      "numpy.distutils.system_info.blas_info.get_cblas_libs\n",
      "    Check whether we can link with CBLAS interface\n",
      "numpy.core.tests.test_overrides.requires_array_function\n",
      "    A decorator for applying a mark on test functions and classes.\n",
      "numpy.core.tests.test_print.TestCommaDecimalPointLocale\n",
      "    Sets LC_NUMERIC to a locale with comma as decimal point.\n",
      "numpy.testing._private.parameterized.parameterized\n",
      "    Parameterize a test case::\n",
      "numpy.testing._private.noseclasses.NumpyTestProgram\n",
      "    Collect and run tests, returning success or failure.\n",
      "numpy.distutils.intelccompiler.IntelCCompiler.preprocess\n",
      "    Preprocess a single C/C++ source file, named in 'source'.\n",
      "numpy.random.tests.test_random.TestRandint.rfunc\n",
      "    Return random integers from `low` (inclusive) to `high` (exclusive).\n",
      "numpy.core.tests.test_deprecations.TestNumericStyleTypecodes\n",
      "    Deprecate the old numeric-style dtypes, which are especially\n",
      "numpy.core.tests.test_longdouble.TestCommaDecimalPointLocale\n",
      "    Sets LC_NUMERIC to a locale with comma as decimal point.\n",
      "numpy.distutils.msvccompiler.MSVCCompiler.create_static_lib\n",
      "    Link a bunch of stuff together to create a static library file.\n",
      "numpy.core.tests.test_ufunc.TestUfunc.test_all_ufunc\n",
      "    Try to check presence and results of all ufuncs.\n",
      "numpy.core.tests.test_scalarinherit.D.__set_format__\n",
      "    You probably don't want to use this function.\n",
      "numpy.core.tests.test_scalarinherit.C.__set_format__\n",
      "    You probably don't want to use this function.\n",
      "numpy.core.tests.test_scalarinherit.B.__set_format__\n",
      "    You probably don't want to use this function.\n",
      "numpy.ma.tests.test_core.suppress_copy_mask_on_assignment\n",
      "    Context manager and decorator doing much the same as\n",
      "numpy.core.tests.test_scalarinherit.C0.__set_format__\n",
      "    You probably don't want to use this function.\n",
      "numpy.core.tests.test_scalarinherit.B1.__set_format__\n",
      "    You probably don't want to use this function.\n",
      "numpy.core.tests.test_scalarinherit.B0.__set_format__\n",
      "    You probably don't want to use this function.\n",
      "numpy.core.tests.test_function_base.PhysicalQuantity.__set_format__\n",
      "    You probably don't want to use this function.\n",
      "numpy.testing._private.parameterized.parameterized_argument_value_pairs\n",
      "    Return tuples of parameterized arguments and their values."
     ]
    }
   ],
   "source": [
    "np.lookfor('add')"
   ]
  },
  {
   "cell_type": "code",
   "execution_count": 34,
   "metadata": {},
   "outputs": [
    {
     "name": "stdout",
     "output_type": "stream",
     "text": [
      "%run `python -c \"import numpy; numpy.info(numpy.add)\"`\n"
     ]
    }
   ],
   "source": [
    "answer(5)"
   ]
  },
  {
   "cell_type": "markdown",
   "metadata": {},
   "source": [
    "#### 6. Create a null vector of size 10 but the fifth value which is 1 (★☆☆)"
   ]
  },
  {
   "cell_type": "code",
   "execution_count": 40,
   "metadata": {},
   "outputs": [
    {
     "data": {
      "text/plain": [
       "array([0., 0., 0., 0., 1., 0., 0., 0., 0., 0.])"
      ]
     },
     "execution_count": 40,
     "metadata": {},
     "output_type": "execute_result"
    }
   ],
   "source": [
    "ten = np.zeros(10)\n",
    "ten[4] = 1\n",
    "ten"
   ]
  },
  {
   "cell_type": "code",
   "execution_count": 41,
   "metadata": {},
   "outputs": [
    {
     "name": "stdout",
     "output_type": "stream",
     "text": [
      "Z = np.zeros(10)\n",
      "Z[4] = 1\n",
      "print(Z)\n"
     ]
    }
   ],
   "source": [
    "answer(6)"
   ]
  },
  {
   "cell_type": "markdown",
   "metadata": {},
   "source": [
    "#### 7. Create a vector with values ranging from 10 to 49 (★☆☆)"
   ]
  },
  {
   "cell_type": "code",
   "execution_count": 44,
   "metadata": {},
   "outputs": [
    {
     "data": {
      "text/plain": [
       "array([10, 11, 12, 13, 14, 15, 16, 17, 18, 19, 20, 21, 22, 23, 24, 25, 26,\n",
       "       27, 28, 29, 30, 31, 32, 33, 34, 35, 36, 37, 38, 39, 40, 41, 42, 43,\n",
       "       44, 45, 46, 47, 48, 49])"
      ]
     },
     "execution_count": 44,
     "metadata": {},
     "output_type": "execute_result"
    }
   ],
   "source": [
    "z = np.arange(10,50)\n",
    "z"
   ]
  },
  {
   "cell_type": "code",
   "execution_count": 45,
   "metadata": {},
   "outputs": [
    {
     "name": "stdout",
     "output_type": "stream",
     "text": [
      "Z = np.arange(10,50)\n",
      "print(Z)\n"
     ]
    }
   ],
   "source": [
    "answer(7)"
   ]
  },
  {
   "cell_type": "markdown",
   "metadata": {},
   "source": [
    "#### 8. Reverse a vector (first element becomes last) (★☆☆)"
   ]
  },
  {
   "cell_type": "code",
   "execution_count": 46,
   "metadata": {},
   "outputs": [
    {
     "data": {
      "text/plain": [
       "array([49, 48, 47, 46, 45, 44, 43, 42, 41, 40, 39, 38, 37, 36, 35, 34, 33,\n",
       "       32, 31, 30, 29, 28, 27, 26, 25, 24, 23, 22, 21, 20, 19, 18, 17, 16,\n",
       "       15, 14, 13, 12, 11, 10])"
      ]
     },
     "execution_count": 46,
     "metadata": {},
     "output_type": "execute_result"
    }
   ],
   "source": [
    "z[::-1]"
   ]
  },
  {
   "cell_type": "code",
   "execution_count": 47,
   "metadata": {},
   "outputs": [
    {
     "name": "stdout",
     "output_type": "stream",
     "text": [
      "Z = np.arange(50)\n",
      "Z = Z[::-1]\n",
      "print(Z)\n"
     ]
    }
   ],
   "source": [
    "answer(8)"
   ]
  },
  {
   "cell_type": "markdown",
   "metadata": {},
   "source": [
    "#### 9. Create a 3x3 matrix with values ranging from 0 to 8 (★☆☆)"
   ]
  },
  {
   "cell_type": "code",
   "execution_count": 54,
   "metadata": {},
   "outputs": [
    {
     "data": {
      "text/plain": [
       "array([[0, 1, 2],\n",
       "       [3, 4, 5],\n",
       "       [6, 7, 8]])"
      ]
     },
     "execution_count": 54,
     "metadata": {},
     "output_type": "execute_result"
    }
   ],
   "source": [
    "z = np.arange(9).reshape(3,3)\n",
    "z"
   ]
  },
  {
   "cell_type": "code",
   "execution_count": 50,
   "metadata": {},
   "outputs": [
    {
     "name": "stdout",
     "output_type": "stream",
     "text": [
      "Z = np.arange(9).reshape(3, 3)\n",
      "print(Z)\n"
     ]
    }
   ],
   "source": [
    "answer(9)"
   ]
  },
  {
   "cell_type": "markdown",
   "metadata": {},
   "source": [
    "#### 10. Find indices of non-zero elements from [1,2,0,0,4,0] (★☆☆)"
   ]
  },
  {
   "cell_type": "code",
   "execution_count": 61,
   "metadata": {},
   "outputs": [
    {
     "data": {
      "text/plain": [
       "0"
      ]
     },
     "execution_count": 61,
     "metadata": {},
     "output_type": "execute_result"
    }
   ],
   "source": [
    "temp = []\n",
    "z = np.array([1,2,0,0,4,0])\n",
    "def non_zero(i):\n",
    "    return [i for i in z if i!=0]\n",
    "#for i in z:\n",
    " #   if i != 0:\n",
    "  #      temp.append(i)\n",
    "#temp"
   ]
  },
  {
   "cell_type": "code",
   "execution_count": 62,
   "metadata": {},
   "outputs": [
    {
     "data": {
      "text/plain": [
       "[1, 2, 4]"
      ]
     },
     "execution_count": 62,
     "metadata": {},
     "output_type": "execute_result"
    }
   ],
   "source": [
    "non_zero([1,2,0,0,4,0])"
   ]
  },
  {
   "cell_type": "code",
   "execution_count": 63,
   "metadata": {},
   "outputs": [
    {
     "name": "stdout",
     "output_type": "stream",
     "text": [
      "nz = np.nonzero([1,2,0,0,4,0])\n",
      "print(nz)\n"
     ]
    }
   ],
   "source": [
    "answer(10)"
   ]
  },
  {
   "cell_type": "code",
   "execution_count": 64,
   "metadata": {},
   "outputs": [
    {
     "data": {
      "text/plain": [
       "(array([0, 1, 4]),)"
      ]
     },
     "execution_count": 64,
     "metadata": {},
     "output_type": "execute_result"
    }
   ],
   "source": [
    "nz = np.nonzero([1,2,0,0,4,0])\n",
    "nz"
   ]
  },
  {
   "cell_type": "markdown",
   "metadata": {},
   "source": [
    "#### 11. Create a 3x3 identity matrix (★☆☆)"
   ]
  },
  {
   "cell_type": "code",
   "execution_count": 11,
   "metadata": {},
   "outputs": [
    {
     "data": {
      "text/plain": [
       "array([[1., 0., 0.],\n",
       "       [0., 1., 0.],\n",
       "       [0., 0., 1.]])"
      ]
     },
     "execution_count": 11,
     "metadata": {},
     "output_type": "execute_result"
    }
   ],
   "source": [
    "z = np.eye(3)\n",
    "z"
   ]
  },
  {
   "cell_type": "code",
   "execution_count": 15,
   "metadata": {},
   "outputs": [
    {
     "data": {
      "text/plain": [
       "array([[0., 0., 0.],\n",
       "       [0., 0., 0.],\n",
       "       [0., 0., 0.]])"
      ]
     },
     "execution_count": 15,
     "metadata": {},
     "output_type": "execute_result"
    }
   ],
   "source": [
    "z = np.zeros([3,3])\n",
    "z"
   ]
  },
  {
   "cell_type": "code",
   "execution_count": 9,
   "metadata": {},
   "outputs": [
    {
     "name": "stdout",
     "output_type": "stream",
     "text": [
      "Z = np.eye(3)\n",
      "print(Z)\n"
     ]
    }
   ],
   "source": [
    "answer(11)"
   ]
  },
  {
   "cell_type": "markdown",
   "metadata": {},
   "source": [
    "#### 12. Create a 3x3x3 array with random values (★☆☆)"
   ]
  },
  {
   "cell_type": "code",
   "execution_count": 17,
   "metadata": {},
   "outputs": [
    {
     "data": {
      "text/plain": [
       "array([[[0.0e+000, 0.0e+000, 8.9e-323],\n",
       "        [0.0e+000, 0.0e+000, 0.0e+000],\n",
       "        [0.0e+000, 0.0e+000, 0.0e+000]],\n",
       "\n",
       "       [[0.0e+000, 0.0e+000, 0.0e+000],\n",
       "        [0.0e+000, 0.0e+000, 0.0e+000],\n",
       "        [0.0e+000, 5.4e-323, 0.0e+000]],\n",
       "\n",
       "       [[0.0e+000, 0.0e+000, 0.0e+000],\n",
       "        [0.0e+000, 0.0e+000, 0.0e+000],\n",
       "        [0.0e+000, 0.0e+000, 0.0e+000]]])"
      ]
     },
     "execution_count": 17,
     "metadata": {},
     "output_type": "execute_result"
    }
   ],
   "source": [
    "z = np.empty([3,3,3])\n",
    "z"
   ]
  },
  {
   "cell_type": "code",
   "execution_count": 20,
   "metadata": {},
   "outputs": [
    {
     "data": {
      "text/plain": [
       "array([[[0.22599553, 0.30415374, 0.71499388],\n",
       "        [0.72409148, 0.01867644, 0.2858131 ],\n",
       "        [0.58048634, 0.93078663, 0.3389969 ]],\n",
       "\n",
       "       [[0.12008312, 0.51627271, 0.69920706],\n",
       "        [0.29864068, 0.86160962, 0.9058072 ],\n",
       "        [0.76858325, 0.26123164, 0.9384556 ]],\n",
       "\n",
       "       [[0.93864246, 0.74504455, 0.91073504],\n",
       "        [0.23722471, 0.49496735, 0.80987834],\n",
       "        [0.95456578, 0.63748325, 0.91084975]]])"
      ]
     },
     "execution_count": 20,
     "metadata": {},
     "output_type": "execute_result"
    }
   ],
   "source": [
    "z = np.random.random((3,3,3))\n",
    "z"
   ]
  },
  {
   "cell_type": "code",
   "execution_count": 18,
   "metadata": {},
   "outputs": [
    {
     "name": "stdout",
     "output_type": "stream",
     "text": [
      "Z = np.random.random((3,3,3))\n",
      "print(Z)\n"
     ]
    }
   ],
   "source": [
    "answer(12)"
   ]
  },
  {
   "cell_type": "markdown",
   "metadata": {},
   "source": [
    "### random 정리\n",
    "* np.random.randint(시작,n-1) : 균일분포 정수 난수 1개 생성 \n",
    "* np.random.rand (m,n) : 0부터 1사이의 균일분포 난수 matrix array 생성\n",
    "* np.random.randn (m,n) : 정규분포 난수 matrix array 생성 "
   ]
  },
  {
   "cell_type": "code",
   "execution_count": null,
   "metadata": {},
   "outputs": [],
   "source": []
  },
  {
   "cell_type": "markdown",
   "metadata": {},
   "source": [
    "#### 13. Create a 10x10 array with random values and find the minimum and maximum values (★☆☆)"
   ]
  },
  {
   "cell_type": "code",
   "execution_count": 36,
   "metadata": {},
   "outputs": [
    {
     "name": "stdout",
     "output_type": "stream",
     "text": [
      "[[0.15994411 0.56101652 0.44617561 0.85529903 0.91118062 0.87656479\n",
      "  0.96542923 0.20231131 0.72637586 0.57131802]\n",
      " [0.58392733 0.4567219  0.58211084 0.06774828 0.00595052 0.46801175\n",
      "  0.79022774 0.92294886 0.7202414  0.12593103]\n",
      " [0.71909247 0.61549427 0.3867184  0.78521404 0.10134406 0.40293787\n",
      "  0.74239668 0.01243381 0.92818267 0.46022349]\n",
      " [0.06962502 0.90993087 0.1233045  0.89478166 0.20506002 0.93198879\n",
      "  0.49792914 0.36000406 0.16087119 0.72637597]\n",
      " [0.83527485 0.3188789  0.97806536 0.47271119 0.5661444  0.14668441\n",
      "  0.09974442 0.08651713 0.75301383 0.7422893 ]\n",
      " [0.31550636 0.84531443 0.53454666 0.83257035 0.18603398 0.27595303\n",
      "  0.58305759 0.92995146 0.0572954  0.81829735]\n",
      " [0.16462297 0.43970611 0.36652076 0.06577879 0.78780888 0.51238806\n",
      "  0.1768385  0.52083122 0.59100906 0.44453861]\n",
      " [0.14300801 0.96126411 0.41776978 0.13002514 0.65099308 0.5879054\n",
      "  0.25473751 0.28743283 0.80527886 0.05620763]\n",
      " [0.27819169 0.93671139 0.83840657 0.90817385 0.59461709 0.77350132\n",
      "  0.34409999 0.38386727 0.37794123 0.42596415]\n",
      " [0.70689785 0.24417063 0.17778136 0.21646546 0.7243904  0.63148702\n",
      "  0.7945349  0.78571851 0.14497732 0.08748815]]\n",
      "0.9780653647022644 0.005950522622718335\n"
     ]
    }
   ],
   "source": [
    "z = np.random.rand(10,10)\n",
    "print(z)\n",
    "print(z.max(),z.min())"
   ]
  },
  {
   "cell_type": "code",
   "execution_count": 32,
   "metadata": {},
   "outputs": [
    {
     "name": "stdout",
     "output_type": "stream",
     "text": [
      "Z = np.random.random((10,10))\n",
      "Zmin, Zmax = Z.min(), Z.max()\n",
      "print(Zmin, Zmax)\n"
     ]
    }
   ],
   "source": [
    "answer(13)"
   ]
  },
  {
   "cell_type": "markdown",
   "metadata": {},
   "source": [
    "#### 14. Create a random vector of size 30 and find the mean value (★☆☆)"
   ]
  },
  {
   "cell_type": "code",
   "execution_count": 47,
   "metadata": {},
   "outputs": [
    {
     "name": "stdout",
     "output_type": "stream",
     "text": [
      "[[0.36878243 0.28281236 0.24179872 0.87135192 0.36709439 0.88803578]\n",
      " [0.94987866 0.8727589  0.37204537 0.64585682 0.43269054 0.73060042]\n",
      " [0.69894476 0.43026839 0.40387179 0.60110606 0.64888551 0.11407952]\n",
      " [0.70535109 0.35972907 0.42292638 0.31354217 0.56830605 0.03356502]\n",
      " [0.97684007 0.97058921 0.28227265 0.65782075 0.77708599 0.94549501]] 0.5644795265899102\n"
     ]
    }
   ],
   "source": [
    "z = np.random.rand(5,6)\n",
    "print(z,z.mean())"
   ]
  },
  {
   "cell_type": "code",
   "execution_count": 46,
   "metadata": {},
   "outputs": [
    {
     "name": "stdout",
     "output_type": "stream",
     "text": [
      "[0.38773996 0.81652786 0.22931971 0.66511642 0.57560745 0.079372\n",
      " 0.04232202 0.8570225  0.14754214 0.10307771 0.10634875 0.29325156\n",
      " 0.53011683 0.86632552 0.86878375 0.3565033  0.09812746 0.43822729\n",
      " 0.94748623 0.04159502 0.31084756 0.78228691 0.79551015 0.85258065\n",
      " 0.54389106 0.59062857 0.13910797 0.03472366 0.15525958 0.75691947] 0.4470723012356718\n"
     ]
    }
   ],
   "source": [
    "z = np.random.random(30)\n",
    "print(z,z.mean())"
   ]
  },
  {
   "cell_type": "code",
   "execution_count": 45,
   "metadata": {},
   "outputs": [
    {
     "name": "stdout",
     "output_type": "stream",
     "text": [
      "Z = np.random.random(30)\n",
      "m = Z.mean()\n",
      "print(m)\n"
     ]
    }
   ],
   "source": [
    "answer(14)"
   ]
  },
  {
   "cell_type": "markdown",
   "metadata": {},
   "source": [
    "#### 15. Create a 2d array with 1 on the border and 0 inside (★☆☆)"
   ]
  },
  {
   "cell_type": "code",
   "execution_count": 50,
   "metadata": {},
   "outputs": [
    {
     "data": {
      "text/plain": [
       "array([[0., 0., 0., 0.],\n",
       "       [1., 0., 0., 0.],\n",
       "       [0., 1., 0., 0.]])"
      ]
     },
     "execution_count": 50,
     "metadata": {},
     "output_type": "execute_result"
    }
   ],
   "source": [
    "z = np.eye(3,4, k = -1)\n",
    "z"
   ]
  },
  {
   "cell_type": "code",
   "execution_count": 57,
   "metadata": {},
   "outputs": [
    {
     "name": "stdout",
     "output_type": "stream",
     "text": [
      "Z = np.ones((10,10))\n",
      "Z[1:-1,1:-1] = 0\n",
      "print(Z)\n"
     ]
    }
   ],
   "source": [
    "answer(15)"
   ]
  },
  {
   "cell_type": "code",
   "execution_count": 4,
   "metadata": {},
   "outputs": [
    {
     "data": {
      "text/plain": [
       "array([[1., 1., 1., 1., 1., 1., 1., 1., 1., 1.],\n",
       "       [1., 0., 0., 0., 0., 0., 0., 0., 0., 1.],\n",
       "       [1., 0., 0., 0., 0., 0., 0., 0., 0., 1.],\n",
       "       [1., 0., 0., 0., 0., 0., 0., 0., 0., 1.],\n",
       "       [1., 0., 0., 0., 0., 0., 0., 0., 0., 1.],\n",
       "       [1., 0., 0., 0., 0., 0., 0., 0., 0., 1.],\n",
       "       [1., 0., 0., 0., 0., 0., 0., 0., 0., 1.],\n",
       "       [1., 0., 0., 0., 0., 0., 0., 0., 0., 1.],\n",
       "       [1., 0., 0., 0., 0., 0., 0., 0., 0., 1.],\n",
       "       [1., 1., 1., 1., 1., 1., 1., 1., 1., 1.]])"
      ]
     },
     "execution_count": 4,
     "metadata": {},
     "output_type": "execute_result"
    }
   ],
   "source": [
    "z = np.ones((10,10))\n",
    "z[1:-1,1:-1] = 0\n",
    "z"
   ]
  },
  {
   "cell_type": "markdown",
   "metadata": {},
   "source": [
    "#### 16. How to add a border (filled with 0's) around an existing array? (★☆☆)"
   ]
  },
  {
   "cell_type": "code",
   "execution_count": 7,
   "metadata": {},
   "outputs": [
    {
     "data": {
      "text/plain": [
       "array([[0., 0., 0., 0., 0., 0., 0., 0., 0., 0.],\n",
       "       [0., 0., 0., 0., 0., 0., 0., 0., 0., 0.],\n",
       "       [0., 0., 0., 0., 0., 0., 0., 0., 0., 0.],\n",
       "       [0., 0., 0., 0., 0., 0., 0., 0., 0., 0.],\n",
       "       [0., 0., 0., 0., 0., 0., 0., 0., 0., 0.],\n",
       "       [0., 0., 0., 0., 0., 0., 0., 0., 0., 0.],\n",
       "       [0., 0., 0., 0., 0., 0., 0., 0., 0., 0.],\n",
       "       [0., 0., 0., 0., 0., 0., 0., 0., 0., 0.],\n",
       "       [0., 0., 0., 0., 0., 0., 0., 0., 0., 0.],\n",
       "       [0., 0., 0., 0., 0., 0., 0., 0., 0., 0.]])"
      ]
     },
     "execution_count": 7,
     "metadata": {},
     "output_type": "execute_result"
    }
   ],
   "source": [
    "z = np.zeros_like(z)\n",
    "z"
   ]
  },
  {
   "cell_type": "code",
   "execution_count": 8,
   "metadata": {},
   "outputs": [
    {
     "name": "stdout",
     "output_type": "stream",
     "text": [
      "Z = np.ones((5,5))\n",
      "Z = np.pad(Z, pad_width=1, mode='constant', constant_values=0)\n",
      "print(Z)\n",
      "\n",
      "# Using fancy indexing\n",
      "Z[:, [0, -1]] = 0\n",
      "Z[[0, -1], :] = 0\n",
      "print(Z)\n"
     ]
    }
   ],
   "source": [
    "answer(16)"
   ]
  },
  {
   "cell_type": "code",
   "execution_count": 9,
   "metadata": {},
   "outputs": [
    {
     "name": "stdout",
     "output_type": "stream",
     "text": [
      "[[0. 0. 0. 0. 0. 0. 0.]\n",
      " [0. 1. 1. 1. 1. 1. 0.]\n",
      " [0. 1. 1. 1. 1. 1. 0.]\n",
      " [0. 1. 1. 1. 1. 1. 0.]\n",
      " [0. 1. 1. 1. 1. 1. 0.]\n",
      " [0. 1. 1. 1. 1. 1. 0.]\n",
      " [0. 0. 0. 0. 0. 0. 0.]]\n"
     ]
    }
   ],
   "source": [
    "Z = np.ones((5,5))\n",
    "Z = np.pad(Z, pad_width=1, mode='constant', constant_values=0)\n",
    "print(Z)"
   ]
  },
  {
   "cell_type": "markdown",
   "metadata": {},
   "source": [
    "#### 17. What is the result of the following expression? (★☆☆)\n",
    "```python\n",
    "0 * np.nan\n",
    "np.nan == np.nan\n",
    "np.inf > np.nan\n",
    "np.nan - np.nan\n",
    "np.nan in set([np.nan])\n",
    "0.3 == 3 * 0.1\n",
    "```"
   ]
  },
  {
   "cell_type": "code",
   "execution_count": 19,
   "metadata": {},
   "outputs": [
    {
     "name": "stdout",
     "output_type": "stream",
     "text": [
      "nan\n",
      "False\n",
      "False\n",
      "nan\n",
      "True\n",
      "False\n"
     ]
    }
   ],
   "source": [
    "print(0*np.nan)\n",
    "print(np.nan == np.nan)\n",
    "print(np.inf > np.nan)\n",
    "print(np.nan - np.nan)\n",
    "print(np.nan in set ([np.nan]))\n",
    "print(0.3 == 3*0.1)"
   ]
  },
  {
   "cell_type": "code",
   "execution_count": null,
   "metadata": {},
   "outputs": [],
   "source": []
  },
  {
   "cell_type": "markdown",
   "metadata": {},
   "source": [
    "#### 18. Create a 5x5 matrix with values 1,2,3,4 just below the diagonal (★☆☆)"
   ]
  },
  {
   "cell_type": "code",
   "execution_count": 31,
   "metadata": {},
   "outputs": [
    {
     "data": {
      "text/plain": [
       "array([[1, 0, 0, 0],\n",
       "       [0, 2, 0, 0],\n",
       "       [0, 0, 3, 0],\n",
       "       [0, 0, 0, 4]])"
      ]
     },
     "execution_count": 31,
     "metadata": {},
     "output_type": "execute_result"
    }
   ],
   "source": [
    "z = np.diag(1+np.arange(4),k = 0)\n",
    "z"
   ]
  },
  {
   "cell_type": "code",
   "execution_count": 23,
   "metadata": {},
   "outputs": [
    {
     "name": "stdout",
     "output_type": "stream",
     "text": [
      "Z = np.diag(1+np.arange(4),k=-1)\n",
      "print(Z)\n"
     ]
    }
   ],
   "source": [
    "answer(18)"
   ]
  },
  {
   "cell_type": "markdown",
   "metadata": {},
   "source": [
    "#### 19. Create a 8x8 matrix and fill it with a checkerboard pattern (★☆☆)"
   ]
  },
  {
   "cell_type": "code",
   "execution_count": 3,
   "metadata": {},
   "outputs": [
    {
     "name": "stdout",
     "output_type": "stream",
     "text": [
      "Z = np.zeros((8,8),dtype=int)\n",
      "Z[1::2,::2] = 1\n",
      "Z[::2,1::2] = 1\n",
      "print(Z)\n"
     ]
    }
   ],
   "source": [
    "answer(19)"
   ]
  },
  {
   "cell_type": "markdown",
   "metadata": {},
   "source": [
    "#### 20. Consider a (6,7,8) shape array, what is the index (x,y,z) of the 100th element?"
   ]
  },
  {
   "cell_type": "code",
   "execution_count": null,
   "metadata": {},
   "outputs": [],
   "source": []
  },
  {
   "cell_type": "code",
   "execution_count": 32,
   "metadata": {},
   "outputs": [
    {
     "name": "stdout",
     "output_type": "stream",
     "text": [
      "print(np.unravel_index(99,(6,7,8)))\n"
     ]
    }
   ],
   "source": [
    "answer(20)"
   ]
  },
  {
   "cell_type": "code",
   "execution_count": null,
   "metadata": {},
   "outputs": [],
   "source": []
  },
  {
   "cell_type": "code",
   "execution_count": null,
   "metadata": {},
   "outputs": [],
   "source": []
  },
  {
   "cell_type": "markdown",
   "metadata": {},
   "source": [
    "#### 21. Create a checkerboard 8x8 matrix using the tile function (★☆☆)"
   ]
  },
  {
   "cell_type": "code",
   "execution_count": null,
   "metadata": {},
   "outputs": [],
   "source": []
  },
  {
   "cell_type": "markdown",
   "metadata": {},
   "source": [
    "#### 22. Normalize a 5x5 random matrix (★☆☆)"
   ]
  },
  {
   "cell_type": "code",
   "execution_count": 33,
   "metadata": {},
   "outputs": [
    {
     "name": "stdout",
     "output_type": "stream",
     "text": [
      "Z = np.random.random((5,5))\n",
      "Z = (Z - np.mean (Z)) / (np.std (Z))\n",
      "print(Z)\n"
     ]
    }
   ],
   "source": [
    "answer(22)"
   ]
  },
  {
   "cell_type": "code",
   "execution_count": 42,
   "metadata": {},
   "outputs": [
    {
     "name": "stdout",
     "output_type": "stream",
     "text": [
      "[[0.11458676 0.47534847 0.033433   0.17140612 0.76985571]\n",
      " [0.12737067 0.73782781 0.02386977 0.98956593 0.72701419]\n",
      " [0.34231094 0.61839352 0.59317414 0.45081468 0.93510278]\n",
      " [0.31586189 0.93558196 0.66179725 0.32179451 0.86535016]\n",
      " [0.5213169  0.3607197  0.164836   0.89617833 0.01214792]]\n",
      "0.48662636400736586\n",
      "0.31228085981062875\n",
      "1.6439484517365257\n"
     ]
    }
   ],
   "source": [
    "z = np.random.random((5,5))\n",
    "print(z)\n",
    "print(np.mean(z))\n",
    "print(np.std(z))\n",
    "print((1-np.mean(z))/np.std(z)) # z-score equation"
   ]
  },
  {
   "cell_type": "code",
   "execution_count": 51,
   "metadata": {},
   "outputs": [],
   "source": [
    "# cf Euclidean distance\n",
    "def euclidean_distance(pt1,pt2):\n",
    "    distance = 0\n",
    "    for i in range(len(pt1)):\n",
    "        distance += (pt1[i] - pt2[i])**2\n",
    "    return distance ** 0.5 "
   ]
  },
  {
   "cell_type": "code",
   "execution_count": 55,
   "metadata": {},
   "outputs": [
    {
     "name": "stdout",
     "output_type": "stream",
     "text": [
      "5.0\n",
      "0 3 0 4\n"
     ]
    }
   ],
   "source": [
    "#print(euclidean_distance([0,0],[3,4]))\n",
    "pt1 = [0,0]\n",
    "pt2 = [3,4]\n",
    "print(euclidean_distance(pt1,pt2))\n",
    "print(pt1[0],pt2[0],pt1[1],pt2[1])"
   ]
  },
  {
   "cell_type": "markdown",
   "metadata": {},
   "source": [
    "#### 23. Create a custom dtype that describes a color as four unsigned bytes (RGBA) (★☆☆)"
   ]
  },
  {
   "cell_type": "code",
   "execution_count": 30,
   "metadata": {},
   "outputs": [
    {
     "name": "stdout",
     "output_type": "stream",
     "text": [
      "color = np.dtype([(\"r\", np.ubyte),\n",
      "                  (\"g\", np.ubyte),\n",
      "                  (\"b\", np.ubyte),\n",
      "                  (\"a\", np.ubyte)])\n"
     ]
    }
   ],
   "source": [
    "answer(23)"
   ]
  },
  {
   "cell_type": "markdown",
   "metadata": {},
   "source": [
    "#### 24. Multiply a 5x3 matrix by a 3x2 matrix (real matrix product) (★☆☆)"
   ]
  },
  {
   "cell_type": "code",
   "execution_count": 6,
   "metadata": {},
   "outputs": [
    {
     "name": "stdout",
     "output_type": "stream",
     "text": [
      "Z = np.dot(np.ones((5,3)), np.ones((3,2)))\n",
      "print(Z)\n",
      "\n",
      "# Alternative solution, in Python 3.5 and above\n",
      "Z = np.ones((5,3)) @ np.ones((3,2))\n",
      "print(Z)\n"
     ]
    }
   ],
   "source": [
    "answer(24)"
   ]
  },
  {
   "cell_type": "code",
   "execution_count": 8,
   "metadata": {},
   "outputs": [
    {
     "data": {
      "text/plain": [
       "array([[3., 3.],\n",
       "       [3., 3.],\n",
       "       [3., 3.],\n",
       "       [3., 3.],\n",
       "       [3., 3.]])"
      ]
     },
     "execution_count": 8,
     "metadata": {},
     "output_type": "execute_result"
    }
   ],
   "source": [
    "a = np.dot(np.ones((5,3)),np.ones((3,2)))\n",
    "a"
   ]
  },
  {
   "cell_type": "code",
   "execution_count": 9,
   "metadata": {},
   "outputs": [
    {
     "data": {
      "text/plain": [
       "array([ 4, 10, 18])"
      ]
     },
     "execution_count": 9,
     "metadata": {},
     "output_type": "execute_result"
    }
   ],
   "source": [
    "np.array([1,2,3])*np.array([4,5,6])"
   ]
  },
  {
   "cell_type": "code",
   "execution_count": 10,
   "metadata": {},
   "outputs": [
    {
     "data": {
      "text/plain": [
       "32"
      ]
     },
     "execution_count": 10,
     "metadata": {},
     "output_type": "execute_result"
    }
   ],
   "source": [
    "np.dot(np.array([1,2,3]),np.array([4,5,6]))"
   ]
  },
  {
   "cell_type": "code",
   "execution_count": 13,
   "metadata": {},
   "outputs": [],
   "source": [
    "a = np.array([[1,2],[3,4]])\n",
    "b = np.array([[5,6],[7,8]])"
   ]
  },
  {
   "cell_type": "code",
   "execution_count": 14,
   "metadata": {},
   "outputs": [
    {
     "data": {
      "text/plain": [
       "array([[19, 22],\n",
       "       [43, 50]])"
      ]
     },
     "execution_count": 14,
     "metadata": {},
     "output_type": "execute_result"
    }
   ],
   "source": [
    "a@b"
   ]
  },
  {
   "cell_type": "code",
   "execution_count": 15,
   "metadata": {},
   "outputs": [
    {
     "data": {
      "text/plain": [
       "array([[19, 22],\n",
       "       [43, 50]])"
      ]
     },
     "execution_count": 15,
     "metadata": {},
     "output_type": "execute_result"
    }
   ],
   "source": [
    "np.dot(a,b)"
   ]
  },
  {
   "cell_type": "code",
   "execution_count": 29,
   "metadata": {},
   "outputs": [
    {
     "name": "stdout",
     "output_type": "stream",
     "text": [
      "[[[ 1  2]\n",
      "  [ 3  4]]\n",
      "\n",
      " [[ 5  6]\n",
      "  [ 7  8]]\n",
      "\n",
      " [[ 9 10]\n",
      "  [11 12]]]\n",
      "[[[12 13 14]\n",
      "  [15 16 17]]\n",
      "\n",
      " [[18 19 20]\n",
      "  [21 22 23]]]\n",
      "[[[[ 42  45  48]\n",
      "   [ 60  63  66]]\n",
      "\n",
      "  [[ 96 103 110]\n",
      "   [138 145 152]]]\n",
      "\n",
      "\n",
      " [[[150 161 172]\n",
      "   [216 227 238]]\n",
      "\n",
      "  [[204 219 234]\n",
      "   [294 309 324]]]\n",
      "\n",
      "\n",
      " [[[258 277 296]\n",
      "   [372 391 410]]\n",
      "\n",
      "  [[312 335 358]\n",
      "   [450 473 496]]]]\n",
      "(3, 2, 2, 3)\n"
     ]
    }
   ],
   "source": [
    "a = np.arange(1,13).reshape(3,2,2)\n",
    "\n",
    "b = np.arange(12,24).reshape(2,2,3)\n",
    "print(a)\n",
    "print(b)\n",
    "print(np.dot(a,b))\n",
    "print(np.dot(a,b).shape)"
   ]
  },
  {
   "cell_type": "code",
   "execution_count": null,
   "metadata": {},
   "outputs": [],
   "source": []
  },
  {
   "cell_type": "markdown",
   "metadata": {},
   "source": [
    "#### 25. Given a 1D array, negate all elements which are between 3 and 8, in place. (★☆☆)"
   ]
  },
  {
   "cell_type": "code",
   "execution_count": 33,
   "metadata": {},
   "outputs": [
    {
     "name": "stdout",
     "output_type": "stream",
     "text": [
      "# Author: Evgeni Burovski\n",
      "\n",
      "Z = np.arange(11)\n",
      "Z[(3 < Z) & (Z < 8)] *= -1\n",
      "print(Z)\n"
     ]
    }
   ],
   "source": [
    "answer(25)"
   ]
  },
  {
   "cell_type": "code",
   "execution_count": 35,
   "metadata": {},
   "outputs": [
    {
     "data": {
      "text/plain": [
       "array([ 0,  1,  2,  3, -4, -5, -6, -7,  8,  9, 10])"
      ]
     },
     "execution_count": 35,
     "metadata": {},
     "output_type": "execute_result"
    }
   ],
   "source": [
    "a = np.arange(11)\n",
    "a[(3<a)& (a <8)]*= -1\n",
    "a"
   ]
  },
  {
   "cell_type": "code",
   "execution_count": 36,
   "metadata": {},
   "outputs": [
    {
     "name": "stdout",
     "output_type": "stream",
     "text": [
      "[ 0  1  2  3 -4 -5 -6 -7  8  9 10]\n"
     ]
    }
   ],
   "source": [
    "\n",
    "Z = np.arange(11)\n",
    "Z[(3 < Z) & (Z < 8)] *= -1\n",
    "print(Z)"
   ]
  },
  {
   "cell_type": "markdown",
   "metadata": {},
   "source": [
    "#### 26. What is the output of the following script? (★☆☆)\n",
    "```python\n",
    "# Author: Jake VanderPlas\n",
    "\n",
    "print(sum(range(5),-1))\n",
    "from numpy import *\n",
    "print(sum(range(5),-1))\n",
    "```"
   ]
  },
  {
   "cell_type": "code",
   "execution_count": 37,
   "metadata": {},
   "outputs": [
    {
     "name": "stdout",
     "output_type": "stream",
     "text": [
      "9\n",
      "10\n"
     ]
    }
   ],
   "source": [
    "print(sum(range(5),-1))\n",
    "from numpy import *\n",
    "print(sum(range(5),-1))"
   ]
  },
  {
   "cell_type": "code",
   "execution_count": 46,
   "metadata": {},
   "outputs": [
    {
     "name": "stdout",
     "output_type": "stream",
     "text": [
      "hint: np.sum\n"
     ]
    }
   ],
   "source": [
    "hint(26)"
   ]
  },
  {
   "cell_type": "code",
   "execution_count": 44,
   "metadata": {},
   "outputs": [
    {
     "data": {
      "text/plain": [
       "10"
      ]
     },
     "execution_count": 44,
     "metadata": {},
     "output_type": "execute_result"
    }
   ],
   "source": [
    "\n"
   ]
  },
  {
   "cell_type": "code",
   "execution_count": 45,
   "metadata": {},
   "outputs": [
    {
     "data": {
      "text/plain": [
       "10"
      ]
     },
     "execution_count": 45,
     "metadata": {},
     "output_type": "execute_result"
    }
   ],
   "source": []
  },
  {
   "cell_type": "code",
   "execution_count": null,
   "metadata": {},
   "outputs": [],
   "source": []
  },
  {
   "cell_type": "code",
   "execution_count": null,
   "metadata": {},
   "outputs": [],
   "source": []
  },
  {
   "cell_type": "code",
   "execution_count": null,
   "metadata": {},
   "outputs": [],
   "source": []
  },
  {
   "cell_type": "code",
   "execution_count": null,
   "metadata": {},
   "outputs": [],
   "source": []
  },
  {
   "cell_type": "markdown",
   "metadata": {},
   "source": [
    "#### 27. Consider an integer vector Z, which of these expressions are legal? (★☆☆)\n",
    "```python\n",
    "Z**Z\n",
    "2 << Z >> 2\n",
    "Z <- Z\n",
    "1j*Z\n",
    "Z/1/1\n",
    "Z<Z>Z\n",
    "```"
   ]
  },
  {
   "cell_type": "code",
   "execution_count": 47,
   "metadata": {},
   "outputs": [
    {
     "name": "stdout",
     "output_type": "stream",
     "text": [
      "Z**Z\n",
      "2 << Z >> 2\n",
      "Z <- Z\n",
      "1j*Z\n",
      "Z/1/1\n",
      "Z<Z>Z\n"
     ]
    }
   ],
   "source": [
    "answer(27)"
   ]
  },
  {
   "cell_type": "markdown",
   "metadata": {},
   "source": [
    "#### 28. What are the result of the following expressions?\n",
    "```python\n",
    "np.array(0) / np.array(0)\n",
    "np.array(0) // np.array(0)\n",
    "np.array([np.nan]).astype(int).astype(float)\n",
    "```"
   ]
  },
  {
   "cell_type": "code",
   "execution_count": 53,
   "metadata": {},
   "outputs": [
    {
     "name": "stdout",
     "output_type": "stream",
     "text": [
      "nan\n",
      "0\n",
      "[-9.22337204e+18]\n"
     ]
    },
    {
     "name": "stderr",
     "output_type": "stream",
     "text": [
      "<ipython-input-53-6caa14b62dca>:1: RuntimeWarning: invalid value encountered in true_divide\n",
      "  print(np.array(0)/np.array(0))\n",
      "<ipython-input-53-6caa14b62dca>:2: RuntimeWarning: divide by zero encountered in floor_divide\n",
      "  print(np.array(0)//np.array(0))\n"
     ]
    }
   ],
   "source": [
    "print(np.array(0)/np.array(0))\n",
    "print(np.array(0)//np.array(0))\n",
    "print(np.array([np.nan]).astype(int).astype(float))"
   ]
  },
  {
   "cell_type": "markdown",
   "metadata": {},
   "source": [
    "#### 29. How to round away from zero a float array ? (★☆☆)"
   ]
  },
  {
   "cell_type": "code",
   "execution_count": 54,
   "metadata": {},
   "outputs": [
    {
     "name": "stdout",
     "output_type": "stream",
     "text": [
      "# Author: Charles R Harris\n",
      "\n",
      "Z = np.random.uniform(-10,+10,10)\n",
      "print(np.copysign(np.ceil(np.abs(Z)), Z))\n",
      "\n",
      "# More readable but less efficient\n",
      "print(np.where(Z>0, np.ceil(Z), np.floor(Z)))\n"
     ]
    }
   ],
   "source": [
    "answer(29)"
   ]
  },
  {
   "cell_type": "markdown",
   "metadata": {},
   "source": [
    "#### 30. How to find common values between two arrays? (★☆☆)"
   ]
  },
  {
   "cell_type": "code",
   "execution_count": 64,
   "metadata": {},
   "outputs": [
    {
     "name": "stdout",
     "output_type": "stream",
     "text": [
      "[1 3 6 8 9]\n"
     ]
    }
   ],
   "source": [
    "a = np.random.randint(0,10,10)\n",
    "b = np.random.randint(0,10,10)\n",
    "print(np.intersect1d(a,b))\n",
    "# intersect1d"
   ]
  },
  {
   "cell_type": "code",
   "execution_count": 59,
   "metadata": {},
   "outputs": [
    {
     "name": "stdout",
     "output_type": "stream",
     "text": [
      "Z1 = np.random.randint(0,10,10)\n",
      "Z2 = np.random.randint(0,10,10)\n",
      "print(np.intersect1d(Z1,Z2))\n"
     ]
    }
   ],
   "source": [
    "answer(30)"
   ]
  },
  {
   "cell_type": "markdown",
   "metadata": {},
   "source": [
    "#### 31. How to ignore all numpy warnings (not recommended)? (★☆☆)"
   ]
  },
  {
   "cell_type": "code",
   "execution_count": null,
   "metadata": {},
   "outputs": [],
   "source": []
  },
  {
   "cell_type": "markdown",
   "metadata": {},
   "source": [
    "#### 32. Is the following expressions true? (★☆☆)\n",
    "```python\n",
    "np.sqrt(-1) == np.emath.sqrt(-1)\n",
    "```"
   ]
  },
  {
   "cell_type": "code",
   "execution_count": null,
   "metadata": {},
   "outputs": [],
   "source": []
  },
  {
   "cell_type": "markdown",
   "metadata": {},
   "source": [
    "#### 33. How to get the dates of yesterday, today and tomorrow? (★☆☆)"
   ]
  },
  {
   "cell_type": "code",
   "execution_count": null,
   "metadata": {},
   "outputs": [],
   "source": []
  },
  {
   "cell_type": "markdown",
   "metadata": {},
   "source": [
    "#### 34. How to get all the dates corresponding to the month of July 2016? (★★☆)"
   ]
  },
  {
   "cell_type": "code",
   "execution_count": null,
   "metadata": {},
   "outputs": [],
   "source": []
  },
  {
   "cell_type": "markdown",
   "metadata": {},
   "source": [
    "#### 35. How to compute ((A+B)*(-A/2)) in place (without copy)? (★★☆)"
   ]
  },
  {
   "cell_type": "code",
   "execution_count": null,
   "metadata": {},
   "outputs": [],
   "source": []
  },
  {
   "cell_type": "markdown",
   "metadata": {},
   "source": [
    "#### 36. Extract the integer part of a random array of positive numbers using 4 different methods (★★☆)"
   ]
  },
  {
   "cell_type": "code",
   "execution_count": null,
   "metadata": {},
   "outputs": [],
   "source": []
  },
  {
   "cell_type": "markdown",
   "metadata": {},
   "source": [
    "#### 37. Create a 5x5 matrix with row values ranging from 0 to 4 (★★☆)"
   ]
  },
  {
   "cell_type": "code",
   "execution_count": null,
   "metadata": {},
   "outputs": [],
   "source": []
  },
  {
   "cell_type": "markdown",
   "metadata": {},
   "source": [
    "#### 38. Consider a generator function that generates 10 integers and use it to build an array (★☆☆)"
   ]
  },
  {
   "cell_type": "code",
   "execution_count": null,
   "metadata": {},
   "outputs": [],
   "source": []
  },
  {
   "cell_type": "markdown",
   "metadata": {},
   "source": [
    "#### 39. Create a vector of size 10 with values ranging from 0 to 1, both excluded (★★☆)"
   ]
  },
  {
   "cell_type": "code",
   "execution_count": null,
   "metadata": {},
   "outputs": [],
   "source": []
  },
  {
   "cell_type": "markdown",
   "metadata": {},
   "source": [
    "#### 40. Create a random vector of size 10 and sort it (★★☆)"
   ]
  },
  {
   "cell_type": "code",
   "execution_count": null,
   "metadata": {},
   "outputs": [],
   "source": []
  },
  {
   "cell_type": "markdown",
   "metadata": {},
   "source": [
    "#### 41. How to sum a small array faster than np.sum? (★★☆)"
   ]
  },
  {
   "cell_type": "code",
   "execution_count": null,
   "metadata": {},
   "outputs": [],
   "source": []
  },
  {
   "cell_type": "markdown",
   "metadata": {},
   "source": [
    "#### 42. Consider two random array A and B, check if they are equal (★★☆)"
   ]
  },
  {
   "cell_type": "code",
   "execution_count": null,
   "metadata": {},
   "outputs": [],
   "source": []
  },
  {
   "cell_type": "markdown",
   "metadata": {},
   "source": [
    "#### 43. Make an array immutable (read-only) (★★☆)"
   ]
  },
  {
   "cell_type": "code",
   "execution_count": null,
   "metadata": {},
   "outputs": [],
   "source": []
  },
  {
   "cell_type": "markdown",
   "metadata": {},
   "source": [
    "#### 44. Consider a random 10x2 matrix representing cartesian coordinates, convert them to polar coordinates (★★☆)"
   ]
  },
  {
   "cell_type": "code",
   "execution_count": null,
   "metadata": {},
   "outputs": [],
   "source": []
  },
  {
   "cell_type": "markdown",
   "metadata": {},
   "source": [
    "#### 45. Create random vector of size 10 and replace the maximum value by 0 (★★☆)"
   ]
  },
  {
   "cell_type": "code",
   "execution_count": null,
   "metadata": {},
   "outputs": [],
   "source": []
  },
  {
   "cell_type": "markdown",
   "metadata": {},
   "source": [
    "#### 46. Create a structured array with `x` and `y` coordinates covering the [0,1]x[0,1] area (★★☆)"
   ]
  },
  {
   "cell_type": "code",
   "execution_count": null,
   "metadata": {},
   "outputs": [],
   "source": []
  },
  {
   "cell_type": "markdown",
   "metadata": {},
   "source": [
    "#### 47. Given two arrays, X and Y, construct the Cauchy matrix C (Cij =1/(xi - yj))"
   ]
  },
  {
   "cell_type": "code",
   "execution_count": null,
   "metadata": {},
   "outputs": [],
   "source": []
  },
  {
   "cell_type": "markdown",
   "metadata": {},
   "source": [
    "#### 48. Print the minimum and maximum representable value for each numpy scalar type (★★☆)"
   ]
  },
  {
   "cell_type": "code",
   "execution_count": null,
   "metadata": {},
   "outputs": [],
   "source": []
  },
  {
   "cell_type": "markdown",
   "metadata": {},
   "source": [
    "#### 49. How to print all the values of an array? (★★☆)"
   ]
  },
  {
   "cell_type": "code",
   "execution_count": null,
   "metadata": {},
   "outputs": [],
   "source": []
  },
  {
   "cell_type": "markdown",
   "metadata": {},
   "source": [
    "#### 50. How to find the closest value (to a given scalar) in a vector? (★★☆)"
   ]
  },
  {
   "cell_type": "code",
   "execution_count": null,
   "metadata": {},
   "outputs": [],
   "source": []
  },
  {
   "cell_type": "markdown",
   "metadata": {},
   "source": [
    "#### 51. Create a structured array representing a position (x,y) and a color (r,g,b) (★★☆)"
   ]
  },
  {
   "cell_type": "code",
   "execution_count": null,
   "metadata": {},
   "outputs": [],
   "source": []
  },
  {
   "cell_type": "markdown",
   "metadata": {},
   "source": [
    "#### 52. Consider a random vector with shape (100,2) representing coordinates, find point by point distances (★★☆)"
   ]
  },
  {
   "cell_type": "code",
   "execution_count": null,
   "metadata": {},
   "outputs": [],
   "source": []
  },
  {
   "cell_type": "markdown",
   "metadata": {},
   "source": [
    "#### 53. How to convert a float (32 bits) array into an integer (32 bits) in place?"
   ]
  },
  {
   "cell_type": "code",
   "execution_count": null,
   "metadata": {},
   "outputs": [],
   "source": []
  },
  {
   "cell_type": "markdown",
   "metadata": {},
   "source": [
    "#### 54. How to read the following file? (★★☆)\n",
    "```\n",
    "1, 2, 3, 4, 5\n",
    "6,  ,  , 7, 8\n",
    " ,  , 9,10,11\n",
    "```"
   ]
  },
  {
   "cell_type": "code",
   "execution_count": null,
   "metadata": {},
   "outputs": [],
   "source": []
  },
  {
   "cell_type": "markdown",
   "metadata": {},
   "source": [
    "#### 55. What is the equivalent of enumerate for numpy arrays? (★★☆)"
   ]
  },
  {
   "cell_type": "code",
   "execution_count": null,
   "metadata": {},
   "outputs": [],
   "source": []
  },
  {
   "cell_type": "markdown",
   "metadata": {},
   "source": [
    "#### 56. Generate a generic 2D Gaussian-like array (★★☆)"
   ]
  },
  {
   "cell_type": "code",
   "execution_count": null,
   "metadata": {},
   "outputs": [],
   "source": []
  },
  {
   "cell_type": "markdown",
   "metadata": {},
   "source": [
    "#### 57. How to randomly place p elements in a 2D array? (★★☆)"
   ]
  },
  {
   "cell_type": "code",
   "execution_count": null,
   "metadata": {},
   "outputs": [],
   "source": []
  },
  {
   "cell_type": "markdown",
   "metadata": {},
   "source": [
    "#### 58. Subtract the mean of each row of a matrix (★★☆)"
   ]
  },
  {
   "cell_type": "code",
   "execution_count": null,
   "metadata": {},
   "outputs": [],
   "source": []
  },
  {
   "cell_type": "markdown",
   "metadata": {},
   "source": [
    "#### 59. How to sort an array by the nth column? (★★☆)"
   ]
  },
  {
   "cell_type": "code",
   "execution_count": null,
   "metadata": {},
   "outputs": [],
   "source": []
  },
  {
   "cell_type": "markdown",
   "metadata": {},
   "source": [
    "#### 60. How to tell if a given 2D array has null columns? (★★☆)"
   ]
  },
  {
   "cell_type": "code",
   "execution_count": null,
   "metadata": {},
   "outputs": [],
   "source": []
  },
  {
   "cell_type": "markdown",
   "metadata": {},
   "source": [
    "#### 61. Find the nearest value from a given value in an array (★★☆)"
   ]
  },
  {
   "cell_type": "code",
   "execution_count": null,
   "metadata": {},
   "outputs": [],
   "source": []
  },
  {
   "cell_type": "markdown",
   "metadata": {},
   "source": [
    "#### 62. Considering two arrays with shape (1,3) and (3,1), how to compute their sum using an iterator? (★★☆)"
   ]
  },
  {
   "cell_type": "code",
   "execution_count": null,
   "metadata": {},
   "outputs": [],
   "source": []
  },
  {
   "cell_type": "markdown",
   "metadata": {},
   "source": [
    "#### 63. Create an array class that has a name attribute (★★☆)"
   ]
  },
  {
   "cell_type": "code",
   "execution_count": null,
   "metadata": {},
   "outputs": [],
   "source": []
  },
  {
   "cell_type": "markdown",
   "metadata": {},
   "source": [
    "#### 64. Consider a given vector, how to add 1 to each element indexed by a second vector (be careful with repeated indices)? (★★★)"
   ]
  },
  {
   "cell_type": "code",
   "execution_count": null,
   "metadata": {},
   "outputs": [],
   "source": []
  },
  {
   "cell_type": "markdown",
   "metadata": {},
   "source": [
    "#### 65. How to accumulate elements of a vector (X) to an array (F) based on an index list (I)? (★★★)"
   ]
  },
  {
   "cell_type": "code",
   "execution_count": null,
   "metadata": {},
   "outputs": [],
   "source": []
  },
  {
   "cell_type": "markdown",
   "metadata": {},
   "source": [
    "#### 66. Considering a (w,h,3) image of (dtype=ubyte), compute the number of unique colors (★★★)"
   ]
  },
  {
   "cell_type": "code",
   "execution_count": null,
   "metadata": {},
   "outputs": [],
   "source": []
  },
  {
   "cell_type": "markdown",
   "metadata": {},
   "source": [
    "#### 67. Considering a four dimensions array, how to get sum over the last two axis at once? (★★★)"
   ]
  },
  {
   "cell_type": "code",
   "execution_count": null,
   "metadata": {},
   "outputs": [],
   "source": []
  },
  {
   "cell_type": "markdown",
   "metadata": {},
   "source": [
    "#### 68. Considering a one-dimensional vector D, how to compute means of subsets of D using a vector S of same size describing subset  indices? (★★★)"
   ]
  },
  {
   "cell_type": "code",
   "execution_count": null,
   "metadata": {},
   "outputs": [],
   "source": []
  },
  {
   "cell_type": "markdown",
   "metadata": {},
   "source": [
    "#### 69. How to get the diagonal of a dot product? (★★★)"
   ]
  },
  {
   "cell_type": "code",
   "execution_count": null,
   "metadata": {},
   "outputs": [],
   "source": []
  },
  {
   "cell_type": "markdown",
   "metadata": {},
   "source": [
    "#### 70. Consider the vector [1, 2, 3, 4, 5], how to build a new vector with 3 consecutive zeros interleaved between each value? (★★★)"
   ]
  },
  {
   "cell_type": "code",
   "execution_count": null,
   "metadata": {},
   "outputs": [],
   "source": []
  },
  {
   "cell_type": "markdown",
   "metadata": {},
   "source": [
    "#### 71. Consider an array of dimension (5,5,3), how to mulitply it by an array with dimensions (5,5)? (★★★)"
   ]
  },
  {
   "cell_type": "code",
   "execution_count": null,
   "metadata": {},
   "outputs": [],
   "source": []
  },
  {
   "cell_type": "markdown",
   "metadata": {},
   "source": [
    "#### 72. How to swap two rows of an array? (★★★)"
   ]
  },
  {
   "cell_type": "code",
   "execution_count": null,
   "metadata": {},
   "outputs": [],
   "source": []
  },
  {
   "cell_type": "markdown",
   "metadata": {},
   "source": [
    "#### 73. Consider a set of 10 triplets describing 10 triangles (with shared vertices), find the set of unique line segments composing all the  triangles (★★★)"
   ]
  },
  {
   "cell_type": "code",
   "execution_count": null,
   "metadata": {},
   "outputs": [],
   "source": []
  },
  {
   "cell_type": "markdown",
   "metadata": {},
   "source": [
    "#### 74. Given an array C that is a bincount, how to produce an array A such that np.bincount(A) == C? (★★★)"
   ]
  },
  {
   "cell_type": "code",
   "execution_count": null,
   "metadata": {},
   "outputs": [],
   "source": []
  },
  {
   "cell_type": "markdown",
   "metadata": {},
   "source": [
    "#### 75. How to compute averages using a sliding window over an array? (★★★)"
   ]
  },
  {
   "cell_type": "code",
   "execution_count": null,
   "metadata": {},
   "outputs": [],
   "source": []
  },
  {
   "cell_type": "markdown",
   "metadata": {},
   "source": [
    "#### 76. Consider a one-dimensional array Z, build a two-dimensional array whose first row is (Z[0],Z[1],Z[2]) and each subsequent row is  shifted by 1 (last row should be (Z[-3],Z[-2],Z[-1]) (★★★)"
   ]
  },
  {
   "cell_type": "code",
   "execution_count": null,
   "metadata": {},
   "outputs": [],
   "source": []
  },
  {
   "cell_type": "markdown",
   "metadata": {},
   "source": [
    "#### 77. How to negate a boolean, or to change the sign of a float inplace? (★★★)"
   ]
  },
  {
   "cell_type": "code",
   "execution_count": null,
   "metadata": {},
   "outputs": [],
   "source": []
  },
  {
   "cell_type": "markdown",
   "metadata": {},
   "source": [
    "#### 78. Consider 2 sets of points P0,P1 describing lines (2d) and a point p, how to compute distance from p to each line i (P0[i],P1[i])? (★★★)"
   ]
  },
  {
   "cell_type": "code",
   "execution_count": null,
   "metadata": {},
   "outputs": [],
   "source": []
  },
  {
   "cell_type": "markdown",
   "metadata": {},
   "source": [
    "#### 79. Consider 2 sets of points P0,P1 describing lines (2d) and a set of points P, how to compute distance from each point j (P[j]) to each line i (P0[i],P1[i])? (★★★)"
   ]
  },
  {
   "cell_type": "code",
   "execution_count": null,
   "metadata": {},
   "outputs": [],
   "source": []
  },
  {
   "cell_type": "markdown",
   "metadata": {},
   "source": [
    "#### 80. Consider an arbitrary array, write a function that extract a subpart with a fixed shape and centered on a given element (pad with a `fill` value when necessary) (★★★)"
   ]
  },
  {
   "cell_type": "code",
   "execution_count": null,
   "metadata": {},
   "outputs": [],
   "source": []
  },
  {
   "cell_type": "markdown",
   "metadata": {},
   "source": [
    "#### 81. Consider an array Z = [1,2,3,4,5,6,7,8,9,10,11,12,13,14], how to generate an array R = [[1,2,3,4], [2,3,4,5], [3,4,5,6], ..., [11,12,13,14]]? (★★★)"
   ]
  },
  {
   "cell_type": "code",
   "execution_count": null,
   "metadata": {},
   "outputs": [],
   "source": []
  },
  {
   "cell_type": "markdown",
   "metadata": {},
   "source": [
    "#### 82. Compute a matrix rank (★★★)"
   ]
  },
  {
   "cell_type": "code",
   "execution_count": null,
   "metadata": {},
   "outputs": [],
   "source": []
  },
  {
   "cell_type": "markdown",
   "metadata": {},
   "source": [
    "#### 83. How to find the most frequent value in an array?"
   ]
  },
  {
   "cell_type": "code",
   "execution_count": null,
   "metadata": {},
   "outputs": [],
   "source": []
  },
  {
   "cell_type": "markdown",
   "metadata": {},
   "source": [
    "#### 84. Extract all the contiguous 3x3 blocks from a random 10x10 matrix (★★★)"
   ]
  },
  {
   "cell_type": "code",
   "execution_count": null,
   "metadata": {},
   "outputs": [],
   "source": []
  },
  {
   "cell_type": "markdown",
   "metadata": {},
   "source": [
    "#### 85. Create a 2D array subclass such that Z[i,j] == Z[j,i] (★★★)"
   ]
  },
  {
   "cell_type": "code",
   "execution_count": null,
   "metadata": {},
   "outputs": [],
   "source": []
  },
  {
   "cell_type": "markdown",
   "metadata": {},
   "source": [
    "#### 86. Consider a set of p matrices wich shape (n,n) and a set of p vectors with shape (n,1). How to compute the sum of of the p matrix products at once? (result has shape (n,1)) (★★★)"
   ]
  },
  {
   "cell_type": "code",
   "execution_count": null,
   "metadata": {},
   "outputs": [],
   "source": []
  },
  {
   "cell_type": "markdown",
   "metadata": {},
   "source": [
    "#### 87. Consider a 16x16 array, how to get the block-sum (block size is 4x4)? (★★★)"
   ]
  },
  {
   "cell_type": "code",
   "execution_count": null,
   "metadata": {},
   "outputs": [],
   "source": []
  },
  {
   "cell_type": "markdown",
   "metadata": {},
   "source": [
    "#### 88. How to implement the Game of Life using numpy arrays? (★★★)"
   ]
  },
  {
   "cell_type": "code",
   "execution_count": null,
   "metadata": {},
   "outputs": [],
   "source": []
  },
  {
   "cell_type": "markdown",
   "metadata": {},
   "source": [
    "#### 89. How to get the n largest values of an array (★★★)"
   ]
  },
  {
   "cell_type": "code",
   "execution_count": null,
   "metadata": {},
   "outputs": [],
   "source": []
  },
  {
   "cell_type": "markdown",
   "metadata": {},
   "source": [
    "#### 90. Given an arbitrary number of vectors, build the cartesian product (every combinations of every item) (★★★)"
   ]
  },
  {
   "cell_type": "code",
   "execution_count": null,
   "metadata": {},
   "outputs": [],
   "source": []
  },
  {
   "cell_type": "markdown",
   "metadata": {},
   "source": [
    "#### 91. How to create a record array from a regular array? (★★★)"
   ]
  },
  {
   "cell_type": "code",
   "execution_count": null,
   "metadata": {},
   "outputs": [],
   "source": []
  },
  {
   "cell_type": "markdown",
   "metadata": {},
   "source": [
    "#### 92. Consider a large vector Z, compute Z to the power of 3 using 3 different methods (★★★)"
   ]
  },
  {
   "cell_type": "code",
   "execution_count": null,
   "metadata": {},
   "outputs": [],
   "source": []
  },
  {
   "cell_type": "markdown",
   "metadata": {},
   "source": [
    "#### 93. Consider two arrays A and B of shape (8,3) and (2,2). How to find rows of A that contain elements of each row of B regardless of the order of the elements in B? (★★★)"
   ]
  },
  {
   "cell_type": "code",
   "execution_count": null,
   "metadata": {},
   "outputs": [],
   "source": []
  },
  {
   "cell_type": "markdown",
   "metadata": {},
   "source": [
    "#### 94. Considering a 10x3 matrix, extract rows with unequal values (e.g. [2,2,3]) (★★★)"
   ]
  },
  {
   "cell_type": "code",
   "execution_count": null,
   "metadata": {},
   "outputs": [],
   "source": []
  },
  {
   "cell_type": "markdown",
   "metadata": {},
   "source": [
    "#### 95. Convert a vector of ints into a matrix binary representation (★★★)"
   ]
  },
  {
   "cell_type": "code",
   "execution_count": null,
   "metadata": {},
   "outputs": [],
   "source": []
  },
  {
   "cell_type": "markdown",
   "metadata": {},
   "source": [
    "#### 96. Given a two dimensional array, how to extract unique rows? (★★★)"
   ]
  },
  {
   "cell_type": "code",
   "execution_count": null,
   "metadata": {},
   "outputs": [],
   "source": []
  },
  {
   "cell_type": "markdown",
   "metadata": {},
   "source": [
    "#### 97. Considering 2 vectors A & B, write the einsum equivalent of inner, outer, sum, and mul function (★★★)"
   ]
  },
  {
   "cell_type": "code",
   "execution_count": null,
   "metadata": {},
   "outputs": [],
   "source": []
  },
  {
   "cell_type": "markdown",
   "metadata": {},
   "source": [
    "#### 98. Considering a path described by two vectors (X,Y), how to sample it using equidistant samples (★★★)?"
   ]
  },
  {
   "cell_type": "code",
   "execution_count": null,
   "metadata": {},
   "outputs": [],
   "source": []
  },
  {
   "cell_type": "markdown",
   "metadata": {},
   "source": [
    "#### 99. Given an integer n and a 2D array X, select from X the rows which can be interpreted as draws from a multinomial distribution with n degrees, i.e., the rows which only contain integers and which sum to n. (★★★)"
   ]
  },
  {
   "cell_type": "code",
   "execution_count": null,
   "metadata": {},
   "outputs": [],
   "source": []
  },
  {
   "cell_type": "markdown",
   "metadata": {},
   "source": [
    "#### 100. Compute bootstrapped 95% confidence intervals for the mean of a 1D array X (i.e., resample the elements of an array with replacement N times, compute the mean of each sample, and then compute percentiles over the means). (★★★)"
   ]
  },
  {
   "cell_type": "code",
   "execution_count": null,
   "metadata": {},
   "outputs": [],
   "source": []
  }
 ],
 "metadata": {
  "kernelspec": {
   "display_name": "Python 3",
   "language": "python",
   "name": "python3"
  },
  "language_info": {
   "codemirror_mode": {
    "name": "ipython",
    "version": 3
   },
   "file_extension": ".py",
   "mimetype": "text/x-python",
   "name": "python",
   "nbconvert_exporter": "python",
   "pygments_lexer": "ipython3",
   "version": "3.8.5"
  }
 },
 "nbformat": 4,
 "nbformat_minor": 4
}
