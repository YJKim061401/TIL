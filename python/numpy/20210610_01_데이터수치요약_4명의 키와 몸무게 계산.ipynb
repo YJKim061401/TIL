{
 "cells": [
  {
   "cell_type": "markdown",
   "metadata": {},
   "source": [
    "4명의 키와 몸무게 계산 (합계, 평균, 편차, 분산, 표준편차, 상관계수)\n",
    "1. python을 이용\n",
    "2. numpy를 이용"
   ]
  },
  {
   "cell_type": "markdown",
   "metadata": {},
   "source": [
    "## 1. python"
   ]
  },
  {
   "cell_type": "code",
   "execution_count": 2,
   "metadata": {},
   "outputs": [],
   "source": [
    "height = [175,165,180,160]\n",
    "weight = [75,70,95,72]"
   ]
  },
  {
   "cell_type": "markdown",
   "metadata": {},
   "source": [
    "* 합계 weight, height"
   ]
  },
  {
   "cell_type": "code",
   "execution_count": 5,
   "metadata": {},
   "outputs": [],
   "source": [
    "h_sum = sum(height)\n",
    "w_sum = sum(weight)"
   ]
  },
  {
   "cell_type": "code",
   "execution_count": 7,
   "metadata": {},
   "outputs": [
    {
     "name": "stdout",
     "output_type": "stream",
     "text": [
      "키 합계 :680, 몸무게 합계 : 312\n"
     ]
    }
   ],
   "source": [
    "print('키 합계 :{}, 몸무게 합계 : {}'. format(h_sum,w_sum))"
   ]
  },
  {
   "cell_type": "markdown",
   "metadata": {},
   "source": [
    "* 평균 weight, height"
   ]
  },
  {
   "cell_type": "code",
   "execution_count": 10,
   "metadata": {},
   "outputs": [],
   "source": [
    "h_mean = h_sum / len(height)\n",
    "w_mean = w_sum / len(weight)"
   ]
  },
  {
   "cell_type": "code",
   "execution_count": 12,
   "metadata": {},
   "outputs": [
    {
     "name": "stdout",
     "output_type": "stream",
     "text": [
      "키 평균 :170.0, 몸무게 평균 : 78.0\n"
     ]
    }
   ],
   "source": [
    "print('키 평균 :{}, 몸무게 평균 : {}'. format(h_mean,w_mean))"
   ]
  },
  {
   "cell_type": "markdown",
   "metadata": {},
   "source": [
    "* 편차 weight, height\n",
    "* 편차 : 평균 - 각 변수의 값 \n",
    "* 편차를 다 더한다면 항상 0"
   ]
  },
  {
   "cell_type": "code",
   "execution_count": 22,
   "metadata": {},
   "outputs": [],
   "source": [
    "h_deviation = []\n",
    "for i in height:\n",
    "    h_deviation.append(i - h_mean)\n",
    "w_deviation = []\n",
    "for i in weight:\n",
    "    w_deviation.append(i - w_mean)"
   ]
  },
  {
   "cell_type": "code",
   "execution_count": 23,
   "metadata": {},
   "outputs": [
    {
     "name": "stdout",
     "output_type": "stream",
     "text": [
      "[5.0, -5.0, 10.0, -10.0]\n",
      "[-3.0, -8.0, 17.0, -6.0]\n"
     ]
    }
   ],
   "source": [
    "print(h_deviation)\n",
    "print(w_deviation)"
   ]
  },
  {
   "cell_type": "code",
   "execution_count": 35,
   "metadata": {},
   "outputs": [],
   "source": [
    "h_deviation = []\n",
    "h_devsum = 0\n",
    "w_devsum = 0\n",
    "for i in height:\n",
    "    h_deviation.append(i - h_mean)\n",
    "    h_devsum += (i - h_mean)\n",
    "w_deviation = []\n",
    "for i in weight:\n",
    "    w_deviation.append(i - w_mean)\n",
    "    w_devsum += (i - w_mean)"
   ]
  },
  {
   "cell_type": "code",
   "execution_count": 36,
   "metadata": {},
   "outputs": [
    {
     "name": "stdout",
     "output_type": "stream",
     "text": [
      "0.0 0.0\n"
     ]
    }
   ],
   "source": [
    "print(h_devsum, w_devsum)"
   ]
  },
  {
   "cell_type": "code",
   "execution_count": 38,
   "metadata": {},
   "outputs": [],
   "source": [
    "# 더 편한 방법\n",
    "h_deviation = [i - h_mean for i in height]\n",
    "w_deviation = [i - w_mean for i in weight]"
   ]
  },
  {
   "cell_type": "code",
   "execution_count": 41,
   "metadata": {},
   "outputs": [
    {
     "name": "stdout",
     "output_type": "stream",
     "text": [
      "키 편차 : [5.0, -5.0, 10.0, -10.0], 몸무게 편차 : [-3.0, -8.0, 17.0, -6.0]\n",
      "키 편차 합계 : 0.0, 몸무게 편차 합계 : 0.0\n"
     ]
    }
   ],
   "source": [
    "print('키 편차 : {}, 몸무게 편차 : {}'.format(h_deviation,w_deviation))\n",
    "print('키 편차 합계 : {}, 몸무게 편차 합계 : {}'.format(sum(h_deviation),sum(w_deviation)))"
   ]
  },
  {
   "cell_type": "markdown",
   "metadata": {},
   "source": [
    "* 분산 weight, height"
   ]
  },
  {
   "cell_type": "code",
   "execution_count": 54,
   "metadata": {},
   "outputs": [],
   "source": [
    "h_data = [(i - h_mean)**2 for i in height]\n",
    "w_data = [(i - w_mean)**2 for i in weight]\n",
    "h_variance = sum(h_data)/len(h_data)\n",
    "w_variance = sum(w_data)/len(w_data)"
   ]
  },
  {
   "cell_type": "code",
   "execution_count": 55,
   "metadata": {},
   "outputs": [
    {
     "data": {
      "text/plain": [
       "(62.5, 99.5)"
      ]
     },
     "execution_count": 55,
     "metadata": {},
     "output_type": "execute_result"
    }
   ],
   "source": [
    "h_variance,w_variance"
   ]
  },
  {
   "cell_type": "markdown",
   "metadata": {},
   "source": [
    "* 표준편차 weight height"
   ]
  },
  {
   "cell_type": "code",
   "execution_count": 56,
   "metadata": {},
   "outputs": [
    {
     "data": {
      "text/plain": [
       "<function math.sqrt(x, /)>"
      ]
     },
     "execution_count": 56,
     "metadata": {},
     "output_type": "execute_result"
    }
   ],
   "source": [
    "# 제곱근을 쓸 때는 math 임포트 math.sqrt\n",
    "import math\n",
    "math.sqrt\n"
   ]
  },
  {
   "cell_type": "code",
   "execution_count": 57,
   "metadata": {},
   "outputs": [],
   "source": [
    "h_std = math.sqrt(h_variance)\n",
    "w_std = math.sqrt(w_variance)"
   ]
  },
  {
   "cell_type": "code",
   "execution_count": 58,
   "metadata": {},
   "outputs": [
    {
     "data": {
      "text/plain": [
       "(7.905694150420948, 9.974968671630002)"
      ]
     },
     "execution_count": 58,
     "metadata": {},
     "output_type": "execute_result"
    }
   ],
   "source": [
    "h_std,w_std"
   ]
  },
  {
   "cell_type": "code",
   "execution_count": 63,
   "metadata": {},
   "outputs": [
    {
     "name": "stdout",
     "output_type": "stream",
     "text": [
      "키 표준편차 : 7.906, 몸무게 표준편차 : 7.906\n"
     ]
    }
   ],
   "source": [
    "print('키 표준편차 : {0:0.3f}, 몸무게 표준편차 : {0:0.3f}' .format(h_std,w_std))"
   ]
  },
  {
   "cell_type": "markdown",
   "metadata": {},
   "source": [
    "* 공분산 height weight\n",
    "* 키에 대한 편차 곱하기 몸무게에 대한 편차\n",
    "* 같은 위치에 있는 편차끼리 곱하고 더함 그리고 나누기\n",
    "* sample covariance (n-1)"
   ]
  },
  {
   "attachments": {
    "image.png": {
     "image/png": "[encoded data removed]"
    }
   },
   "cell_type": "markdown",
   "metadata": {},
   "source": [
    "![image.png](attachment:image.png)"
   ]
  },
  {
   "cell_type": "code",
   "execution_count": 75,
   "metadata": {},
   "outputs": [
    {
     "name": "stdout",
     "output_type": "stream",
     "text": [
      "[5.0, -5.0, 10.0, -10.0]\n",
      "[-3.0, -8.0, 17.0, -6.0]\n"
     ]
    }
   ],
   "source": [
    "print(h_deviation)\n",
    "print(w_deviation)"
   ]
  },
  {
   "cell_type": "code",
   "execution_count": 85,
   "metadata": {},
   "outputs": [],
   "source": [
    "cov_data = [h_deviation[i] * w_deviation[i] for i in range(len(h_deviation))]"
   ]
  },
  {
   "cell_type": "code",
   "execution_count": 133,
   "metadata": {},
   "outputs": [
    {
     "data": {
      "text/plain": [
       "63.75"
      ]
     },
     "execution_count": 133,
     "metadata": {},
     "output_type": "execute_result"
    }
   ],
   "source": [
    "sum(cov_data)/len(cov_data)"
   ]
  },
  {
   "cell_type": "code",
   "execution_count": 90,
   "metadata": {},
   "outputs": [
    {
     "name": "stdout",
     "output_type": "stream",
     "text": [
      "[-15.0, 40.0, 170.0, 60.0]\n",
      "63.75\n"
     ]
    }
   ],
   "source": [
    "# zip 이용하는 방법\n",
    "h_w_covariance = [i*j for i,j in zip(h_deviation, w_deviation)]\n",
    "print(h_w_covariance)\n",
    "h_w_covariance = sum(h_w_covariance) / len(h_w_covariance)\n",
    "print(h_w_covariance)"
   ]
  },
  {
   "cell_type": "markdown",
   "metadata": {},
   "source": [
    "* 상관계수 weight height\n",
    "* correlational coefficient\n",
    "* 상관계수 (r) : 공분산 / (표준편차1 * 표준편차2)"
   ]
  },
  {
   "attachments": {
    "image.png": {
     "image/png": "[encoded data removed]"
    }
   },
   "cell_type": "markdown",
   "metadata": {},
   "source": [
    "![image.png](attachment:image.png)"
   ]
  },
  {
   "cell_type": "code",
   "execution_count": 92,
   "metadata": {},
   "outputs": [
    {
     "data": {
      "text/plain": [
       "0.8084043468090077"
      ]
     },
     "execution_count": 92,
     "metadata": {},
     "output_type": "execute_result"
    }
   ],
   "source": [
    "h_w_coef = h_w_covariance / (h_std * w_std)\n",
    "h_w_coef"
   ]
  },
  {
   "cell_type": "code",
   "execution_count": 93,
   "metadata": {},
   "outputs": [
    {
     "name": "stdout",
     "output_type": "stream",
     "text": [
      "키와 몸무게의 상관계수 : 0.808\n"
     ]
    }
   ],
   "source": [
    "print('키와 몸무게의 상관계수 : {0:0.3f}'.format(h_w_coef))"
   ]
  },
  {
   "cell_type": "code",
   "execution_count": null,
   "metadata": {},
   "outputs": [],
   "source": []
  },
  {
   "cell_type": "markdown",
   "metadata": {},
   "source": [
    "### 지금까지 했던 거 numpy로 간단하게 가능\n",
    "* sum, mean, var, cov, coef 등은 Scipy에서 없어지고 numpy에서 사용하도록 권장하고 있다.\n",
    "* 즉, numpy 이용해라"
   ]
  },
  {
   "cell_type": "code",
   "execution_count": 94,
   "metadata": {},
   "outputs": [],
   "source": [
    "import numpy as np"
   ]
  },
  {
   "cell_type": "markdown",
   "metadata": {},
   "source": [
    "* 데이터를 배열로 생성하기 np.array()사용"
   ]
  },
  {
   "cell_type": "code",
   "execution_count": 97,
   "metadata": {},
   "outputs": [],
   "source": [
    "height = np.array([175,165,180,160])\n",
    "weight = np.array([75,70,95,72])"
   ]
  },
  {
   "cell_type": "markdown",
   "metadata": {},
   "source": [
    "합계"
   ]
  },
  {
   "cell_type": "code",
   "execution_count": 100,
   "metadata": {},
   "outputs": [
    {
     "data": {
      "text/plain": [
       "(680, 312)"
      ]
     },
     "execution_count": 100,
     "metadata": {},
     "output_type": "execute_result"
    }
   ],
   "source": [
    "np.sum(height), np.sum(weight)"
   ]
  },
  {
   "cell_type": "markdown",
   "metadata": {},
   "source": [
    "평균"
   ]
  },
  {
   "cell_type": "code",
   "execution_count": 102,
   "metadata": {},
   "outputs": [
    {
     "data": {
      "text/plain": [
       "(170.0, 78.0)"
      ]
     },
     "execution_count": 102,
     "metadata": {},
     "output_type": "execute_result"
    }
   ],
   "source": [
    "np.mean(height), np.mean(weight)"
   ]
  },
  {
   "cell_type": "code",
   "execution_count": null,
   "metadata": {},
   "outputs": [],
   "source": []
  },
  {
   "cell_type": "markdown",
   "metadata": {},
   "source": [
    "편차 \n",
    "* numpy에서는 제공 안함\n",
    "* python 방식으로 해야함"
   ]
  },
  {
   "cell_type": "code",
   "execution_count": 112,
   "metadata": {},
   "outputs": [
    {
     "name": "stdout",
     "output_type": "stream",
     "text": [
      "[5.0, -5.0, 10.0, -10.0]\n",
      "[-3.0, -8.0, 17.0, -6.0]\n"
     ]
    }
   ],
   "source": [
    "print([i - np.mean(height) for i in height])\n",
    "print([i - np.mean(weight) for i in weight])"
   ]
  },
  {
   "cell_type": "code",
   "execution_count": 115,
   "metadata": {},
   "outputs": [],
   "source": [
    "# numpy에서는 broadcasting이 가능하니까 이렇게도 가능\n",
    "h_deviation = height - h_mean\n",
    "w_deviation = weight - w_mean"
   ]
  },
  {
   "cell_type": "code",
   "execution_count": 116,
   "metadata": {},
   "outputs": [
    {
     "data": {
      "text/plain": [
       "(array([  5.,  -5.,  10., -10.]), array([-3., -8., 17., -6.]))"
      ]
     },
     "execution_count": 116,
     "metadata": {},
     "output_type": "execute_result"
    }
   ],
   "source": [
    "h_deviation, w_deviation"
   ]
  },
  {
   "cell_type": "markdown",
   "metadata": {},
   "source": [
    "분산\n",
    "* python방식이랑 값이 다르게 나옴\n",
    "* ddof = 0 (default) --> bias값 무시\n",
    "* ddof = 1 (통계에서 사용하는 경우) --> bias가 되지 않은 값 리턴\n",
    "* ddof 값은 분모 값 n-1 의미 "
   ]
  },
  {
   "cell_type": "code",
   "execution_count": 123,
   "metadata": {},
   "outputs": [
    {
     "data": {
      "text/plain": [
       "(62.5, 132.66666666666666)"
      ]
     },
     "execution_count": 123,
     "metadata": {},
     "output_type": "execute_result"
    }
   ],
   "source": [
    "np.var(height, ddof = 0), np.var(weight, ddof = 1)"
   ]
  },
  {
   "cell_type": "markdown",
   "metadata": {},
   "source": [
    "표준편차"
   ]
  },
  {
   "cell_type": "code",
   "execution_count": 107,
   "metadata": {},
   "outputs": [
    {
     "data": {
      "text/plain": [
       "(7.905694150420948, 9.974968671630002)"
      ]
     },
     "execution_count": 107,
     "metadata": {},
     "output_type": "execute_result"
    }
   ],
   "source": [
    "np.std(height), np.std(weight)"
   ]
  },
  {
   "cell_type": "markdown",
   "metadata": {},
   "source": [
    "공분산 sample covariance"
   ]
  },
  {
   "cell_type": "code",
   "execution_count": 136,
   "metadata": {},
   "outputs": [
    {
     "data": {
      "text/plain": [
       "(array(62.5), array(99.5))"
      ]
     },
     "execution_count": 136,
     "metadata": {},
     "output_type": "execute_result"
    }
   ],
   "source": [
    "# 이 방법 틀렸음 height와 weight의 공분산이니까 다음 셀에 있는 방법이 맞음\n",
    "np.cov(height, ddof = 0), np.cov(weight, ddof = 0)"
   ]
  },
  {
   "cell_type": "code",
   "execution_count": 135,
   "metadata": {},
   "outputs": [
    {
     "name": "stdout",
     "output_type": "stream",
     "text": [
      "63.75\n"
     ]
    }
   ],
   "source": [
    "Covariance = np.cov(height, weight, ddof = 0)[0][1]\n",
    "print(Covariance)"
   ]
  },
  {
   "cell_type": "markdown",
   "metadata": {},
   "source": [
    "상관계수"
   ]
  },
  {
   "cell_type": "code",
   "execution_count": 127,
   "metadata": {},
   "outputs": [
    {
     "data": {
      "text/plain": [
       "array([[1.        , 0.80840435],\n",
       "       [0.80840435, 1.        ]])"
      ]
     },
     "execution_count": 127,
     "metadata": {},
     "output_type": "execute_result"
    }
   ],
   "source": [
    "np.corrcoef(height,weight)"
   ]
  },
  {
   "cell_type": "markdown",
   "metadata": {},
   "source": [
    "## 다시 정리\n",
    "* numpy covariance랑 python으로 covariance 값 다른 이유?\n",
    "* numpy cov는 기본적으로 sample covariance 값 리턴\n",
    "* python에서도 n-1로 계산하면 같은 값 나옴 \n",
    "\n",
    "* https://stackoverflow.com/questions/15317822/calculating-covariance-with-python-and-numpy/39098306"
   ]
  },
  {
   "cell_type": "code",
   "execution_count": null,
   "metadata": {},
   "outputs": [],
   "source": []
  },
  {
   "cell_type": "code",
   "execution_count": null,
   "metadata": {},
   "outputs": [],
   "source": []
  },
  {
   "cell_type": "code",
   "execution_count": null,
   "metadata": {},
   "outputs": [],
   "source": []
  }
 ],
 "metadata": {
  "kernelspec": {
   "display_name": "Python 3",
   "language": "python",
   "name": "python3"
  },
  "language_info": {
   "codemirror_mode": {
    "name": "ipython",
    "version": 3
   },
   "file_extension": ".py",
   "mimetype": "text/x-python",
   "name": "python",
   "nbconvert_exporter": "python",
   "pygments_lexer": "ipython3",
   "version": "3.8.5"
  }
 },
 "nbformat": 4,
 "nbformat_minor": 4
}
