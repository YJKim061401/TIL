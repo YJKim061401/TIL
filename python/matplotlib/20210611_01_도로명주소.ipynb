{
 "cells": [
  {
   "cell_type": "code",
   "execution_count": 39,
   "metadata": {},
   "outputs": [
    {
     "data": {
      "text/plain": [
       "'vMRQf2a6qks9FmwHa0rtmEU4PNb9LrETYms0Y9sQJsOXu2NCuf3A0NU1w8alXZMZZxgiIJTS+PQOOIWpQGg3Gw=='"
      ]
     },
     "execution_count": 39,
     "metadata": {},
     "output_type": "execute_result"
    }
   ],
   "source": [
    "import requests\n",
    "API_KEY = \"vMRQf2a6qks9FmwHa0rtmEU4PNb9LrETYms0Y9sQJsOXu2NCuf3A0NU1w8alXZMZZxgiIJTS%2BPQOOIWpQGg3Gw%3D%3D\"\n",
    "API_KEY_decode = requests.utils.unquote(API_KEY)\n",
    "API_KEY_decode"
   ]
  },
  {
   "cell_type": "code",
   "execution_count": 40,
   "metadata": {},
   "outputs": [],
   "source": [
    "req_url = \"http://openapi.epost.go.kr:80/postal/retrieveNewAdressAreaCdService?_wadl&type=xml\""
   ]
  },
  {
   "cell_type": "code",
   "execution_count": 41,
   "metadata": {},
   "outputs": [],
   "source": [
    "searchSe = 'road'\n",
    "srchwrd = '반포대로 201'"
   ]
  },
  {
   "cell_type": "code",
   "execution_count": 42,
   "metadata": {},
   "outputs": [],
   "source": [
    "req_parameter = {'ServiceKey':API_KEY_decode, 'searchSe':searchSe,'srchwrd':srchwrd}"
   ]
  },
  {
   "cell_type": "code",
   "execution_count": 43,
   "metadata": {},
   "outputs": [
    {
     "name": "stdout",
     "output_type": "stream",
     "text": [
      "<application xmlns=\"http://research.sun.com/wadl/2006/10\" xmlns:xs=\"http://www.w3.org/2001/XMLSchema\"><grammars><xs:schema xmlns:xs=\"http://www.w3.org/2001/XMLSchema\" attributeFormDefault=\"unqualified\" elementFormDefault=\"unqualified\">\n",
      "    <xs:element name=\"CmmResponse\" type=\"cmmResponse\"/>\n",
      "    <xs:element name=\"NewAddressListResponse\" type=\"newAddressListAreaCdResponse\"/>\n",
      "    <xs:complexType name=\"newAddressListAreaCdResponse\">\n",
      "        <xs:complexContent>\n",
      "            <xs:extension base=\"cmmResponse\">\n",
      "                <xs:sequence>\n",
      "                    <xs:element maxOccurs=\"unbounded\" minOccurs=\"0\" name=\"newAddressListAreaCd\" nillable=\"true\" type=\"NewAddressList\"/>\n",
      "                </xs:sequence>\n",
      "            </xs:extension>\n",
      "        </xs:complexContent>\n",
      "    </xs:complexType>\n",
      "    <xs:complexType name=\"cmmResponse\">\n",
      "        <xs:sequence>\n",
      "            <xs:element minOccurs=\"0\" name=\"cmmMsgHeader\" type=\"CmmMsgHeader\"/>\n",
      "            <xs:element minOccurs=\"0\" name=\"errorCode\" type=\"xs:string\"/>\n",
      "            <xs:element minOccurs=\"0\" name=\"errorMessage\" type=\"xs:string\"/>\n",
      "        </xs:sequence>\n",
      "    </xs:complexType>\n",
      "    <xs:complexType name=\"NewAddressList\">\n",
      "        <xs:sequence>\n",
      "            <xs:element minOccurs=\"0\" name=\"zipNo\" type=\"xs:string\"/>\n",
      "            <xs:element minOccurs=\"0\" name=\"lnmAdres\" type=\"xs:string\"/>\n",
      "            <xs:element minOccurs=\"0\" name=\"rnAdres\" type=\"xs:string\"/>\n",
      "            <xs:element minOccurs=\"0\" name=\"bdMgtSn\" type=\"xs:string\"/>\n",
      "            <xs:element minOccurs=\"0\" name=\"rdgisX\" type=\"xs:string\"/>\n",
      "            <xs:element minOccurs=\"0\" name=\"rdgisY\" type=\"xs:string\"/>\n",
      "            <xs:element minOccurs=\"0\" name=\"totalRows\" type=\"xs:string\"/>\n",
      "            <xs:element minOccurs=\"0\" name=\"rowsPerPage\" type=\"xs:string\"/>\n",
      "            <xs:element minOccurs=\"0\" name=\"totalPage\" type=\"xs:string\"/>\n",
      "            <xs:element minOccurs=\"0\" name=\"currentPage\" type=\"xs:string\"/>\n",
      "        </xs:sequence>\n",
      "    </xs:complexType>\n",
      "    <xs:complexType name=\"CmmMsgHeader\">\n",
      "        <xs:sequence>\n",
      "            <xs:element minOccurs=\"0\" name=\"requestMsgId\" type=\"xs:string\"/>\n",
      "            <xs:element minOccurs=\"0\" name=\"responseMsgId\" type=\"xs:string\"/>\n",
      "            <xs:element minOccurs=\"0\" name=\"responseTime\" type=\"xs:string\"/>\n",
      "            <xs:element minOccurs=\"0\" name=\"successYN\" type=\"xs:string\"/>\n",
      "            <xs:element minOccurs=\"0\" name=\"returnCode\" type=\"xs:string\"/>\n",
      "            <xs:element minOccurs=\"0\" name=\"errMsg\" type=\"xs:string\"/>\n",
      "            <xs:element minOccurs=\"0\" name=\"totalCount\" type=\"xs:string\"/>\n",
      "            <xs:element minOccurs=\"0\" name=\"countPerPage\" type=\"xs:string\"/>\n",
      "            <xs:element minOccurs=\"0\" name=\"totalPage\" type=\"xs:string\"/>\n",
      "            <xs:element minOccurs=\"0\" name=\"currentPage\" type=\"xs:string\"/>\n",
      "        </xs:sequence>\n",
      "    </xs:complexType>\n",
      "</xs:schema>\n",
      "</grammars><resources base=\"http://openapi.epost.go.kr:80/postal/retrieveNewAdressAreaCdService\"><resource path=\"/retrieveNewAdressAreaCdService/\"><resource path=\"getNewAddressListAreaCd/\"><method name=\"GET\"><request><param name=\"searchse\" style=\"query\" type=\"xs:string\"/><param name=\"srchwrd\" style=\"query\" type=\"xs:string\"/><param name=\"currentpage\" style=\"query\" type=\"xs:string\"/><param name=\"countperpage\" style=\"query\" type=\"xs:string\"/><param name=\"bdmgtsnyn\" style=\"query\" type=\"xs:string\"/><param name=\"encoding\" style=\"query\" type=\"xs:string\"/></request><response><representation mediaType=\"application/xml\"/><representation mediaType=\"application/json\"/></response></method></resource></resource></resources></application>\n"
     ]
    }
   ],
   "source": [
    "r = requests.get(req_url, params = req_parameter)\n",
    "xlm_data = r.text\n",
    "print(xlm_data)"
   ]
  },
  {
   "cell_type": "code",
   "execution_count": 50,
   "metadata": {},
   "outputs": [],
   "source": [
    "import xmltodict"
   ]
  },
  {
   "cell_type": "code",
   "execution_count": 51,
   "metadata": {},
   "outputs": [
    {
     "data": {
      "text/plain": [
       "OrderedDict([('application',\n",
       "              OrderedDict([('@xmlns', 'http://research.sun.com/wadl/2006/10'),\n",
       "                           ('@xmlns:xs', 'http://www.w3.org/2001/XMLSchema'),\n",
       "                           ('grammars',\n",
       "                            OrderedDict([('xs:schema',\n",
       "                                          OrderedDict([('@xmlns:xs',\n",
       "                                                        'http://www.w3.org/2001/XMLSchema'),\n",
       "                                                       ('@attributeFormDefault',\n",
       "                                                        'unqualified'),\n",
       "                                                       ('@elementFormDefault',\n",
       "                                                        'unqualified'),\n",
       "                                                       ('xs:element',\n",
       "                                                        [OrderedDict([('@name',\n",
       "                                                                       'CmmResponse'),\n",
       "                                                                      ('@type',\n",
       "                                                                       'cmmResponse')]),\n",
       "                                                         OrderedDict([('@name',\n",
       "                                                                       'NewAddressListResponse'),\n",
       "                                                                      ('@type',\n",
       "                                                                       'newAddressListAreaCdResponse')])]),\n",
       "                                                       ('xs:complexType',\n",
       "                                                        [OrderedDict([('@name',\n",
       "                                                                       'newAddressListAreaCdResponse'),\n",
       "                                                                      ('xs:complexContent',\n",
       "                                                                       OrderedDict([('xs:extension',\n",
       "                                                                                     OrderedDict([('@base',\n",
       "                                                                                                   'cmmResponse'),\n",
       "                                                                                                  ('xs:sequence',\n",
       "                                                                                                   OrderedDict([('xs:element',\n",
       "                                                                                                                 OrderedDict([('@maxOccurs',\n",
       "                                                                                                                               'unbounded'),\n",
       "                                                                                                                              ('@minOccurs',\n",
       "                                                                                                                               '0'),\n",
       "                                                                                                                              ('@name',\n",
       "                                                                                                                               'newAddressListAreaCd'),\n",
       "                                                                                                                              ('@nillable',\n",
       "                                                                                                                               'true'),\n",
       "                                                                                                                              ('@type',\n",
       "                                                                                                                               'NewAddressList')]))]))]))]))]),\n",
       "                                                         OrderedDict([('@name',\n",
       "                                                                       'cmmResponse'),\n",
       "                                                                      ('xs:sequence',\n",
       "                                                                       OrderedDict([('xs:element',\n",
       "                                                                                     [OrderedDict([('@minOccurs',\n",
       "                                                                                                    '0'),\n",
       "                                                                                                   ('@name',\n",
       "                                                                                                    'cmmMsgHeader'),\n",
       "                                                                                                   ('@type',\n",
       "                                                                                                    'CmmMsgHeader')]),\n",
       "                                                                                      OrderedDict([('@minOccurs',\n",
       "                                                                                                    '0'),\n",
       "                                                                                                   ('@name',\n",
       "                                                                                                    'errorCode'),\n",
       "                                                                                                   ('@type',\n",
       "                                                                                                    'xs:string')]),\n",
       "                                                                                      OrderedDict([('@minOccurs',\n",
       "                                                                                                    '0'),\n",
       "                                                                                                   ('@name',\n",
       "                                                                                                    'errorMessage'),\n",
       "                                                                                                   ('@type',\n",
       "                                                                                                    'xs:string')])])]))]),\n",
       "                                                         OrderedDict([('@name',\n",
       "                                                                       'NewAddressList'),\n",
       "                                                                      ('xs:sequence',\n",
       "                                                                       OrderedDict([('xs:element',\n",
       "                                                                                     [OrderedDict([('@minOccurs',\n",
       "                                                                                                    '0'),\n",
       "                                                                                                   ('@name',\n",
       "                                                                                                    'zipNo'),\n",
       "                                                                                                   ('@type',\n",
       "                                                                                                    'xs:string')]),\n",
       "                                                                                      OrderedDict([('@minOccurs',\n",
       "                                                                                                    '0'),\n",
       "                                                                                                   ('@name',\n",
       "                                                                                                    'lnmAdres'),\n",
       "                                                                                                   ('@type',\n",
       "                                                                                                    'xs:string')]),\n",
       "                                                                                      OrderedDict([('@minOccurs',\n",
       "                                                                                                    '0'),\n",
       "                                                                                                   ('@name',\n",
       "                                                                                                    'rnAdres'),\n",
       "                                                                                                   ('@type',\n",
       "                                                                                                    'xs:string')]),\n",
       "                                                                                      OrderedDict([('@minOccurs',\n",
       "                                                                                                    '0'),\n",
       "                                                                                                   ('@name',\n",
       "                                                                                                    'bdMgtSn'),\n",
       "                                                                                                   ('@type',\n",
       "                                                                                                    'xs:string')]),\n",
       "                                                                                      OrderedDict([('@minOccurs',\n",
       "                                                                                                    '0'),\n",
       "                                                                                                   ('@name',\n",
       "                                                                                                    'rdgisX'),\n",
       "                                                                                                   ('@type',\n",
       "                                                                                                    'xs:string')]),\n",
       "                                                                                      OrderedDict([('@minOccurs',\n",
       "                                                                                                    '0'),\n",
       "                                                                                                   ('@name',\n",
       "                                                                                                    'rdgisY'),\n",
       "                                                                                                   ('@type',\n",
       "                                                                                                    'xs:string')]),\n",
       "                                                                                      OrderedDict([('@minOccurs',\n",
       "                                                                                                    '0'),\n",
       "                                                                                                   ('@name',\n",
       "                                                                                                    'totalRows'),\n",
       "                                                                                                   ('@type',\n",
       "                                                                                                    'xs:string')]),\n",
       "                                                                                      OrderedDict([('@minOccurs',\n",
       "                                                                                                    '0'),\n",
       "                                                                                                   ('@name',\n",
       "                                                                                                    'rowsPerPage'),\n",
       "                                                                                                   ('@type',\n",
       "                                                                                                    'xs:string')]),\n",
       "                                                                                      OrderedDict([('@minOccurs',\n",
       "                                                                                                    '0'),\n",
       "                                                                                                   ('@name',\n",
       "                                                                                                    'totalPage'),\n",
       "                                                                                                   ('@type',\n",
       "                                                                                                    'xs:string')]),\n",
       "                                                                                      OrderedDict([('@minOccurs',\n",
       "                                                                                                    '0'),\n",
       "                                                                                                   ('@name',\n",
       "                                                                                                    'currentPage'),\n",
       "                                                                                                   ('@type',\n",
       "                                                                                                    'xs:string')])])]))]),\n",
       "                                                         OrderedDict([('@name',\n",
       "                                                                       'CmmMsgHeader'),\n",
       "                                                                      ('xs:sequence',\n",
       "                                                                       OrderedDict([('xs:element',\n",
       "                                                                                     [OrderedDict([('@minOccurs',\n",
       "                                                                                                    '0'),\n",
       "                                                                                                   ('@name',\n",
       "                                                                                                    'requestMsgId'),\n",
       "                                                                                                   ('@type',\n",
       "                                                                                                    'xs:string')]),\n",
       "                                                                                      OrderedDict([('@minOccurs',\n",
       "                                                                                                    '0'),\n",
       "                                                                                                   ('@name',\n",
       "                                                                                                    'responseMsgId'),\n",
       "                                                                                                   ('@type',\n",
       "                                                                                                    'xs:string')]),\n",
       "                                                                                      OrderedDict([('@minOccurs',\n",
       "                                                                                                    '0'),\n",
       "                                                                                                   ('@name',\n",
       "                                                                                                    'responseTime'),\n",
       "                                                                                                   ('@type',\n",
       "                                                                                                    'xs:string')]),\n",
       "                                                                                      OrderedDict([('@minOccurs',\n",
       "                                                                                                    '0'),\n",
       "                                                                                                   ('@name',\n",
       "                                                                                                    'successYN'),\n",
       "                                                                                                   ('@type',\n",
       "                                                                                                    'xs:string')]),\n",
       "                                                                                      OrderedDict([('@minOccurs',\n",
       "                                                                                                    '0'),\n",
       "                                                                                                   ('@name',\n",
       "                                                                                                    'returnCode'),\n",
       "                                                                                                   ('@type',\n",
       "                                                                                                    'xs:string')]),\n",
       "                                                                                      OrderedDict([('@minOccurs',\n",
       "                                                                                                    '0'),\n",
       "                                                                                                   ('@name',\n",
       "                                                                                                    'errMsg'),\n",
       "                                                                                                   ('@type',\n",
       "                                                                                                    'xs:string')]),\n",
       "                                                                                      OrderedDict([('@minOccurs',\n",
       "                                                                                                    '0'),\n",
       "                                                                                                   ('@name',\n",
       "                                                                                                    'totalCount'),\n",
       "                                                                                                   ('@type',\n",
       "                                                                                                    'xs:string')]),\n",
       "                                                                                      OrderedDict([('@minOccurs',\n",
       "                                                                                                    '0'),\n",
       "                                                                                                   ('@name',\n",
       "                                                                                                    'countPerPage'),\n",
       "                                                                                                   ('@type',\n",
       "                                                                                                    'xs:string')]),\n",
       "                                                                                      OrderedDict([('@minOccurs',\n",
       "                                                                                                    '0'),\n",
       "                                                                                                   ('@name',\n",
       "                                                                                                    'totalPage'),\n",
       "                                                                                                   ('@type',\n",
       "                                                                                                    'xs:string')]),\n",
       "                                                                                      OrderedDict([('@minOccurs',\n",
       "                                                                                                    '0'),\n",
       "                                                                                                   ('@name',\n",
       "                                                                                                    'currentPage'),\n",
       "                                                                                                   ('@type',\n",
       "                                                                                                    'xs:string')])])]))])])]))])),\n",
       "                           ('resources',\n",
       "                            OrderedDict([('@base',\n",
       "                                          'http://openapi.epost.go.kr:80/postal/retrieveNewAdressAreaCdService'),\n",
       "                                         ('resource',\n",
       "                                          OrderedDict([('@path',\n",
       "                                                        '/retrieveNewAdressAreaCdService/'),\n",
       "                                                       ('resource',\n",
       "                                                        OrderedDict([('@path',\n",
       "                                                                      'getNewAddressListAreaCd/'),\n",
       "                                                                     ('method',\n",
       "                                                                      OrderedDict([('@name',\n",
       "                                                                                    'GET'),\n",
       "                                                                                   ('request',\n",
       "                                                                                    OrderedDict([('param',\n",
       "                                                                                                  [OrderedDict([('@name',\n",
       "                                                                                                                 'searchse'),\n",
       "                                                                                                                ('@style',\n",
       "                                                                                                                 'query'),\n",
       "                                                                                                                ('@type',\n",
       "                                                                                                                 'xs:string')]),\n",
       "                                                                                                   OrderedDict([('@name',\n",
       "                                                                                                                 'srchwrd'),\n",
       "                                                                                                                ('@style',\n",
       "                                                                                                                 'query'),\n",
       "                                                                                                                ('@type',\n",
       "                                                                                                                 'xs:string')]),\n",
       "                                                                                                   OrderedDict([('@name',\n",
       "                                                                                                                 'currentpage'),\n",
       "                                                                                                                ('@style',\n",
       "                                                                                                                 'query'),\n",
       "                                                                                                                ('@type',\n",
       "                                                                                                                 'xs:string')]),\n",
       "                                                                                                   OrderedDict([('@name',\n",
       "                                                                                                                 'countperpage'),\n",
       "                                                                                                                ('@style',\n",
       "                                                                                                                 'query'),\n",
       "                                                                                                                ('@type',\n",
       "                                                                                                                 'xs:string')]),\n",
       "                                                                                                   OrderedDict([('@name',\n",
       "                                                                                                                 'bdmgtsnyn'),\n",
       "                                                                                                                ('@style',\n",
       "                                                                                                                 'query'),\n",
       "                                                                                                                ('@type',\n",
       "                                                                                                                 'xs:string')]),\n",
       "                                                                                                   OrderedDict([('@name',\n",
       "                                                                                                                 'encoding'),\n",
       "                                                                                                                ('@style',\n",
       "                                                                                                                 'query'),\n",
       "                                                                                                                ('@type',\n",
       "                                                                                                                 'xs:string')])])])),\n",
       "                                                                                   ('response',\n",
       "                                                                                    OrderedDict([('representation',\n",
       "                                                                                                  [OrderedDict([('@mediaType',\n",
       "                                                                                                                 'application/xml')]),\n",
       "                                                                                                   OrderedDict([('@mediaType',\n",
       "                                                                                                                 'application/json')])])]))]))]))]))]))]))])"
      ]
     },
     "execution_count": 51,
     "metadata": {},
     "output_type": "execute_result"
    }
   ],
   "source": [
    "dict_data = xmltodict.parse(xlm_data)\n",
    "dict_data"
   ]
  },
  {
   "cell_type": "code",
   "execution_count": 55,
   "metadata": {},
   "outputs": [
    {
     "ename": "KeyError",
     "evalue": "'newAddressListAreaCdResponse'",
     "output_type": "error",
     "traceback": [
      "\u001b[0;31m---------------------------------------------------------------------------\u001b[0m",
      "\u001b[0;31mKeyError\u001b[0m                                  Traceback (most recent call last)",
      "\u001b[0;32m<ipython-input-55-ab687fea1ad6>\u001b[0m in \u001b[0;36m<module>\u001b[0;34m\u001b[0m\n\u001b[0;32m----> 1\u001b[0;31m \u001b[0maddress_list\u001b[0m \u001b[0;34m=\u001b[0m \u001b[0mdict_data\u001b[0m\u001b[0;34m[\u001b[0m\u001b[0;34m'newAddressListAreaCdResponse'\u001b[0m\u001b[0;34m]\u001b[0m\u001b[0;31m#['NewAddressListResponse']['newAddressListAreaCdResponse']\u001b[0m\u001b[0;34m\u001b[0m\u001b[0;34m\u001b[0m\u001b[0m\n\u001b[0m",
      "\u001b[0;31mKeyError\u001b[0m: 'newAddressListAreaCdResponse'"
     ]
    }
   ],
   "source": [
    "address_list = dict_data['newAddressListAreaCdResponse']#['NewAddressListResponse']['newAddressListAreaCdResponse']"
   ]
  },
  {
   "cell_type": "code",
   "execution_count": 47,
   "metadata": {},
   "outputs": [
    {
     "data": {
      "text/plain": [
       "'road'"
      ]
     },
     "execution_count": 47,
     "metadata": {},
     "output_type": "execute_result"
    }
   ],
   "source": [
    "search_Se"
   ]
  },
  {
   "cell_type": "code",
   "execution_count": 48,
   "metadata": {},
   "outputs": [
    {
     "data": {
      "text/plain": [
       "'반포대로 201'"
      ]
     },
     "execution_count": 48,
     "metadata": {},
     "output_type": "execute_result"
    }
   ],
   "source": [
    "srch_wrd"
   ]
  },
  {
   "cell_type": "code",
   "execution_count": 24,
   "metadata": {},
   "outputs": [
    {
     "data": {
      "text/plain": [
       "{'ServiceKey': 'vMRQf2a6qks9FmwHa0rtmEU4PNb9LrETYms0Y9sQJsOXu2NCuf3A0NU1w8alXZMZZxgiIJTS+PQOOIWpQGg3Gw==',\n",
       " 'search_Se': 'road',\n",
       " 'srchwrd': '반포대로 201'}"
      ]
     },
     "execution_count": 24,
     "metadata": {},
     "output_type": "execute_result"
    }
   ],
   "source": [
    "req_parameter"
   ]
  },
  {
   "cell_type": "code",
   "execution_count": 25,
   "metadata": {},
   "outputs": [
    {
     "data": {
      "text/plain": [
       "<Response [200]>"
      ]
     },
     "execution_count": 25,
     "metadata": {},
     "output_type": "execute_result"
    }
   ],
   "source": [
    "r"
   ]
  },
  {
   "cell_type": "code",
   "execution_count": 27,
   "metadata": {},
   "outputs": [
    {
     "data": {
      "text/plain": [
       "'http://openapi.epost.go.kr:80/postal/retrieveNewAdressAreaCdService?_wadl&type=xml'"
      ]
     },
     "execution_count": 27,
     "metadata": {},
     "output_type": "execute_result"
    }
   ],
   "source": [
    "req_url"
   ]
  },
  {
   "cell_type": "code",
   "execution_count": 28,
   "metadata": {},
   "outputs": [
    {
     "data": {
      "text/plain": [
       "{'ServiceKey': 'vMRQf2a6qks9FmwHa0rtmEU4PNb9LrETYms0Y9sQJsOXu2NCuf3A0NU1w8alXZMZZxgiIJTS+PQOOIWpQGg3Gw==',\n",
       " 'search_Se': 'road',\n",
       " 'srchwrd': '반포대로 201'}"
      ]
     },
     "execution_count": 28,
     "metadata": {},
     "output_type": "execute_result"
    }
   ],
   "source": [
    "req_parameter"
   ]
  },
  {
   "cell_type": "code",
   "execution_count": 29,
   "metadata": {},
   "outputs": [
    {
     "data": {
      "text/plain": [
       "'<application xmlns=\"http://research.sun.com/wadl/2006/10\" xmlns:xs=\"http://www.w3.org/2001/XMLSchema\"><grammars><xs:schema xmlns:xs=\"http://www.w3.org/2001/XMLSchema\" attributeFormDefault=\"unqualified\" elementFormDefault=\"unqualified\">\\n    <xs:element name=\"CmmResponse\" type=\"cmmResponse\"/>\\n    <xs:element name=\"NewAddressListResponse\" type=\"newAddressListAreaCdResponse\"/>\\n    <xs:complexType name=\"newAddressListAreaCdResponse\">\\n        <xs:complexContent>\\n            <xs:extension base=\"cmmResponse\">\\n                <xs:sequence>\\n                    <xs:element maxOccurs=\"unbounded\" minOccurs=\"0\" name=\"newAddressListAreaCd\" nillable=\"true\" type=\"NewAddressList\"/>\\n                </xs:sequence>\\n            </xs:extension>\\n        </xs:complexContent>\\n    </xs:complexType>\\n    <xs:complexType name=\"cmmResponse\">\\n        <xs:sequence>\\n            <xs:element minOccurs=\"0\" name=\"cmmMsgHeader\" type=\"CmmMsgHeader\"/>\\n            <xs:element minOccurs=\"0\" name=\"errorCode\" type=\"xs:string\"/>\\n            <xs:element minOccurs=\"0\" name=\"errorMessage\" type=\"xs:string\"/>\\n        </xs:sequence>\\n    </xs:complexType>\\n    <xs:complexType name=\"NewAddressList\">\\n        <xs:sequence>\\n            <xs:element minOccurs=\"0\" name=\"zipNo\" type=\"xs:string\"/>\\n            <xs:element minOccurs=\"0\" name=\"lnmAdres\" type=\"xs:string\"/>\\n            <xs:element minOccurs=\"0\" name=\"rnAdres\" type=\"xs:string\"/>\\n            <xs:element minOccurs=\"0\" name=\"bdMgtSn\" type=\"xs:string\"/>\\n            <xs:element minOccurs=\"0\" name=\"rdgisX\" type=\"xs:string\"/>\\n            <xs:element minOccurs=\"0\" name=\"rdgisY\" type=\"xs:string\"/>\\n            <xs:element minOccurs=\"0\" name=\"totalRows\" type=\"xs:string\"/>\\n            <xs:element minOccurs=\"0\" name=\"rowsPerPage\" type=\"xs:string\"/>\\n            <xs:element minOccurs=\"0\" name=\"totalPage\" type=\"xs:string\"/>\\n            <xs:element minOccurs=\"0\" name=\"currentPage\" type=\"xs:string\"/>\\n        </xs:sequence>\\n    </xs:complexType>\\n    <xs:complexType name=\"CmmMsgHeader\">\\n        <xs:sequence>\\n            <xs:element minOccurs=\"0\" name=\"requestMsgId\" type=\"xs:string\"/>\\n            <xs:element minOccurs=\"0\" name=\"responseMsgId\" type=\"xs:string\"/>\\n            <xs:element minOccurs=\"0\" name=\"responseTime\" type=\"xs:string\"/>\\n            <xs:element minOccurs=\"0\" name=\"successYN\" type=\"xs:string\"/>\\n            <xs:element minOccurs=\"0\" name=\"returnCode\" type=\"xs:string\"/>\\n            <xs:element minOccurs=\"0\" name=\"errMsg\" type=\"xs:string\"/>\\n            <xs:element minOccurs=\"0\" name=\"totalCount\" type=\"xs:string\"/>\\n            <xs:element minOccurs=\"0\" name=\"countPerPage\" type=\"xs:string\"/>\\n            <xs:element minOccurs=\"0\" name=\"totalPage\" type=\"xs:string\"/>\\n            <xs:element minOccurs=\"0\" name=\"currentPage\" type=\"xs:string\"/>\\n        </xs:sequence>\\n    </xs:complexType>\\n</xs:schema>\\n</grammars><resources base=\"http://openapi.epost.go.kr:80/postal/retrieveNewAdressAreaCdService\"><resource path=\"/retrieveNewAdressAreaCdService/\"><resource path=\"getNewAddressListAreaCd/\"><method name=\"GET\"><request><param name=\"searchse\" style=\"query\" type=\"xs:string\"/><param name=\"srchwrd\" style=\"query\" type=\"xs:string\"/><param name=\"currentpage\" style=\"query\" type=\"xs:string\"/><param name=\"countperpage\" style=\"query\" type=\"xs:string\"/><param name=\"bdmgtsnyn\" style=\"query\" type=\"xs:string\"/><param name=\"encoding\" style=\"query\" type=\"xs:string\"/></request><response><representation mediaType=\"application/xml\"/><representation mediaType=\"application/json\"/></response></method></resource></resource></resources></application>'"
      ]
     },
     "execution_count": 29,
     "metadata": {},
     "output_type": "execute_result"
    }
   ],
   "source": [
    "xlm_data"
   ]
  },
  {
   "cell_type": "code",
   "execution_count": 30,
   "metadata": {},
   "outputs": [
    {
     "data": {
      "text/plain": [
       "OrderedDict([('application',\n",
       "              OrderedDict([('@xmlns', 'http://research.sun.com/wadl/2006/10'),\n",
       "                           ('@xmlns:xs', 'http://www.w3.org/2001/XMLSchema'),\n",
       "                           ('grammars',\n",
       "                            OrderedDict([('xs:schema',\n",
       "                                          OrderedDict([('@xmlns:xs',\n",
       "                                                        'http://www.w3.org/2001/XMLSchema'),\n",
       "                                                       ('@attributeFormDefault',\n",
       "                                                        'unqualified'),\n",
       "                                                       ('@elementFormDefault',\n",
       "                                                        'unqualified'),\n",
       "                                                       ('xs:element',\n",
       "                                                        [OrderedDict([('@name',\n",
       "                                                                       'CmmResponse'),\n",
       "                                                                      ('@type',\n",
       "                                                                       'cmmResponse')]),\n",
       "                                                         OrderedDict([('@name',\n",
       "                                                                       'NewAddressListResponse'),\n",
       "                                                                      ('@type',\n",
       "                                                                       'newAddressListAreaCdResponse')])]),\n",
       "                                                       ('xs:complexType',\n",
       "                                                        [OrderedDict([('@name',\n",
       "                                                                       'newAddressListAreaCdResponse'),\n",
       "                                                                      ('xs:complexContent',\n",
       "                                                                       OrderedDict([('xs:extension',\n",
       "                                                                                     OrderedDict([('@base',\n",
       "                                                                                                   'cmmResponse'),\n",
       "                                                                                                  ('xs:sequence',\n",
       "                                                                                                   OrderedDict([('xs:element',\n",
       "                                                                                                                 OrderedDict([('@maxOccurs',\n",
       "                                                                                                                               'unbounded'),\n",
       "                                                                                                                              ('@minOccurs',\n",
       "                                                                                                                               '0'),\n",
       "                                                                                                                              ('@name',\n",
       "                                                                                                                               'newAddressListAreaCd'),\n",
       "                                                                                                                              ('@nillable',\n",
       "                                                                                                                               'true'),\n",
       "                                                                                                                              ('@type',\n",
       "                                                                                                                               'NewAddressList')]))]))]))]))]),\n",
       "                                                         OrderedDict([('@name',\n",
       "                                                                       'cmmResponse'),\n",
       "                                                                      ('xs:sequence',\n",
       "                                                                       OrderedDict([('xs:element',\n",
       "                                                                                     [OrderedDict([('@minOccurs',\n",
       "                                                                                                    '0'),\n",
       "                                                                                                   ('@name',\n",
       "                                                                                                    'cmmMsgHeader'),\n",
       "                                                                                                   ('@type',\n",
       "                                                                                                    'CmmMsgHeader')]),\n",
       "                                                                                      OrderedDict([('@minOccurs',\n",
       "                                                                                                    '0'),\n",
       "                                                                                                   ('@name',\n",
       "                                                                                                    'errorCode'),\n",
       "                                                                                                   ('@type',\n",
       "                                                                                                    'xs:string')]),\n",
       "                                                                                      OrderedDict([('@minOccurs',\n",
       "                                                                                                    '0'),\n",
       "                                                                                                   ('@name',\n",
       "                                                                                                    'errorMessage'),\n",
       "                                                                                                   ('@type',\n",
       "                                                                                                    'xs:string')])])]))]),\n",
       "                                                         OrderedDict([('@name',\n",
       "                                                                       'NewAddressList'),\n",
       "                                                                      ('xs:sequence',\n",
       "                                                                       OrderedDict([('xs:element',\n",
       "                                                                                     [OrderedDict([('@minOccurs',\n",
       "                                                                                                    '0'),\n",
       "                                                                                                   ('@name',\n",
       "                                                                                                    'zipNo'),\n",
       "                                                                                                   ('@type',\n",
       "                                                                                                    'xs:string')]),\n",
       "                                                                                      OrderedDict([('@minOccurs',\n",
       "                                                                                                    '0'),\n",
       "                                                                                                   ('@name',\n",
       "                                                                                                    'lnmAdres'),\n",
       "                                                                                                   ('@type',\n",
       "                                                                                                    'xs:string')]),\n",
       "                                                                                      OrderedDict([('@minOccurs',\n",
       "                                                                                                    '0'),\n",
       "                                                                                                   ('@name',\n",
       "                                                                                                    'rnAdres'),\n",
       "                                                                                                   ('@type',\n",
       "                                                                                                    'xs:string')]),\n",
       "                                                                                      OrderedDict([('@minOccurs',\n",
       "                                                                                                    '0'),\n",
       "                                                                                                   ('@name',\n",
       "                                                                                                    'bdMgtSn'),\n",
       "                                                                                                   ('@type',\n",
       "                                                                                                    'xs:string')]),\n",
       "                                                                                      OrderedDict([('@minOccurs',\n",
       "                                                                                                    '0'),\n",
       "                                                                                                   ('@name',\n",
       "                                                                                                    'rdgisX'),\n",
       "                                                                                                   ('@type',\n",
       "                                                                                                    'xs:string')]),\n",
       "                                                                                      OrderedDict([('@minOccurs',\n",
       "                                                                                                    '0'),\n",
       "                                                                                                   ('@name',\n",
       "                                                                                                    'rdgisY'),\n",
       "                                                                                                   ('@type',\n",
       "                                                                                                    'xs:string')]),\n",
       "                                                                                      OrderedDict([('@minOccurs',\n",
       "                                                                                                    '0'),\n",
       "                                                                                                   ('@name',\n",
       "                                                                                                    'totalRows'),\n",
       "                                                                                                   ('@type',\n",
       "                                                                                                    'xs:string')]),\n",
       "                                                                                      OrderedDict([('@minOccurs',\n",
       "                                                                                                    '0'),\n",
       "                                                                                                   ('@name',\n",
       "                                                                                                    'rowsPerPage'),\n",
       "                                                                                                   ('@type',\n",
       "                                                                                                    'xs:string')]),\n",
       "                                                                                      OrderedDict([('@minOccurs',\n",
       "                                                                                                    '0'),\n",
       "                                                                                                   ('@name',\n",
       "                                                                                                    'totalPage'),\n",
       "                                                                                                   ('@type',\n",
       "                                                                                                    'xs:string')]),\n",
       "                                                                                      OrderedDict([('@minOccurs',\n",
       "                                                                                                    '0'),\n",
       "                                                                                                   ('@name',\n",
       "                                                                                                    'currentPage'),\n",
       "                                                                                                   ('@type',\n",
       "                                                                                                    'xs:string')])])]))]),\n",
       "                                                         OrderedDict([('@name',\n",
       "                                                                       'CmmMsgHeader'),\n",
       "                                                                      ('xs:sequence',\n",
       "                                                                       OrderedDict([('xs:element',\n",
       "                                                                                     [OrderedDict([('@minOccurs',\n",
       "                                                                                                    '0'),\n",
       "                                                                                                   ('@name',\n",
       "                                                                                                    'requestMsgId'),\n",
       "                                                                                                   ('@type',\n",
       "                                                                                                    'xs:string')]),\n",
       "                                                                                      OrderedDict([('@minOccurs',\n",
       "                                                                                                    '0'),\n",
       "                                                                                                   ('@name',\n",
       "                                                                                                    'responseMsgId'),\n",
       "                                                                                                   ('@type',\n",
       "                                                                                                    'xs:string')]),\n",
       "                                                                                      OrderedDict([('@minOccurs',\n",
       "                                                                                                    '0'),\n",
       "                                                                                                   ('@name',\n",
       "                                                                                                    'responseTime'),\n",
       "                                                                                                   ('@type',\n",
       "                                                                                                    'xs:string')]),\n",
       "                                                                                      OrderedDict([('@minOccurs',\n",
       "                                                                                                    '0'),\n",
       "                                                                                                   ('@name',\n",
       "                                                                                                    'successYN'),\n",
       "                                                                                                   ('@type',\n",
       "                                                                                                    'xs:string')]),\n",
       "                                                                                      OrderedDict([('@minOccurs',\n",
       "                                                                                                    '0'),\n",
       "                                                                                                   ('@name',\n",
       "                                                                                                    'returnCode'),\n",
       "                                                                                                   ('@type',\n",
       "                                                                                                    'xs:string')]),\n",
       "                                                                                      OrderedDict([('@minOccurs',\n",
       "                                                                                                    '0'),\n",
       "                                                                                                   ('@name',\n",
       "                                                                                                    'errMsg'),\n",
       "                                                                                                   ('@type',\n",
       "                                                                                                    'xs:string')]),\n",
       "                                                                                      OrderedDict([('@minOccurs',\n",
       "                                                                                                    '0'),\n",
       "                                                                                                   ('@name',\n",
       "                                                                                                    'totalCount'),\n",
       "                                                                                                   ('@type',\n",
       "                                                                                                    'xs:string')]),\n",
       "                                                                                      OrderedDict([('@minOccurs',\n",
       "                                                                                                    '0'),\n",
       "                                                                                                   ('@name',\n",
       "                                                                                                    'countPerPage'),\n",
       "                                                                                                   ('@type',\n",
       "                                                                                                    'xs:string')]),\n",
       "                                                                                      OrderedDict([('@minOccurs',\n",
       "                                                                                                    '0'),\n",
       "                                                                                                   ('@name',\n",
       "                                                                                                    'totalPage'),\n",
       "                                                                                                   ('@type',\n",
       "                                                                                                    'xs:string')]),\n",
       "                                                                                      OrderedDict([('@minOccurs',\n",
       "                                                                                                    '0'),\n",
       "                                                                                                   ('@name',\n",
       "                                                                                                    'currentPage'),\n",
       "                                                                                                   ('@type',\n",
       "                                                                                                    'xs:string')])])]))])])]))])),\n",
       "                           ('resources',\n",
       "                            OrderedDict([('@base',\n",
       "                                          'http://openapi.epost.go.kr:80/postal/retrieveNewAdressAreaCdService'),\n",
       "                                         ('resource',\n",
       "                                          OrderedDict([('@path',\n",
       "                                                        '/retrieveNewAdressAreaCdService/'),\n",
       "                                                       ('resource',\n",
       "                                                        OrderedDict([('@path',\n",
       "                                                                      'getNewAddressListAreaCd/'),\n",
       "                                                                     ('method',\n",
       "                                                                      OrderedDict([('@name',\n",
       "                                                                                    'GET'),\n",
       "                                                                                   ('request',\n",
       "                                                                                    OrderedDict([('param',\n",
       "                                                                                                  [OrderedDict([('@name',\n",
       "                                                                                                                 'searchse'),\n",
       "                                                                                                                ('@style',\n",
       "                                                                                                                 'query'),\n",
       "                                                                                                                ('@type',\n",
       "                                                                                                                 'xs:string')]),\n",
       "                                                                                                   OrderedDict([('@name',\n",
       "                                                                                                                 'srchwrd'),\n",
       "                                                                                                                ('@style',\n",
       "                                                                                                                 'query'),\n",
       "                                                                                                                ('@type',\n",
       "                                                                                                                 'xs:string')]),\n",
       "                                                                                                   OrderedDict([('@name',\n",
       "                                                                                                                 'currentpage'),\n",
       "                                                                                                                ('@style',\n",
       "                                                                                                                 'query'),\n",
       "                                                                                                                ('@type',\n",
       "                                                                                                                 'xs:string')]),\n",
       "                                                                                                   OrderedDict([('@name',\n",
       "                                                                                                                 'countperpage'),\n",
       "                                                                                                                ('@style',\n",
       "                                                                                                                 'query'),\n",
       "                                                                                                                ('@type',\n",
       "                                                                                                                 'xs:string')]),\n",
       "                                                                                                   OrderedDict([('@name',\n",
       "                                                                                                                 'bdmgtsnyn'),\n",
       "                                                                                                                ('@style',\n",
       "                                                                                                                 'query'),\n",
       "                                                                                                                ('@type',\n",
       "                                                                                                                 'xs:string')]),\n",
       "                                                                                                   OrderedDict([('@name',\n",
       "                                                                                                                 'encoding'),\n",
       "                                                                                                                ('@style',\n",
       "                                                                                                                 'query'),\n",
       "                                                                                                                ('@type',\n",
       "                                                                                                                 'xs:string')])])])),\n",
       "                                                                                   ('response',\n",
       "                                                                                    OrderedDict([('representation',\n",
       "                                                                                                  [OrderedDict([('@mediaType',\n",
       "                                                                                                                 'application/xml')]),\n",
       "                                                                                                   OrderedDict([('@mediaType',\n",
       "                                                                                                                 'application/json')])])]))]))]))]))]))]))])"
      ]
     },
     "execution_count": 30,
     "metadata": {},
     "output_type": "execute_result"
    }
   ],
   "source": [
    "dict_data"
   ]
  },
  {
   "cell_type": "code",
   "execution_count": null,
   "metadata": {},
   "outputs": [],
   "source": []
  }
 ],
 "metadata": {
  "kernelspec": {
   "display_name": "Python 3",
   "language": "python",
   "name": "python3"
  },
  "language_info": {
   "codemirror_mode": {
    "name": "ipython",
    "version": 3
   },
   "file_extension": ".py",
   "mimetype": "text/x-python",
   "name": "python",
   "nbconvert_exporter": "python",
   "pygments_lexer": "ipython3",
   "version": "3.8.5"
  }
 },
 "nbformat": 4,
 "nbformat_minor": 4
}
